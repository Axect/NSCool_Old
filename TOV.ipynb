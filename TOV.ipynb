{
 "cells": [
  {
   "cell_type": "markdown",
   "metadata": {},
   "source": [
    "# Tolman-Oppenheimer-Volkoff"
   ]
  },
  {
   "cell_type": "code",
   "execution_count": 1,
   "metadata": {},
   "outputs": [],
   "source": [
    "%display latex"
   ]
  },
  {
   "cell_type": "code",
   "execution_count": 2,
   "metadata": {},
   "outputs": [],
   "source": [
    "M = Manifold(4, 'M')"
   ]
  },
  {
   "cell_type": "code",
   "execution_count": 3,
   "metadata": {},
   "outputs": [
    {
     "data": {
      "text/html": [
       "<html><script type=\"math/tex; mode=display\">\\newcommand{\\Bold}[1]{\\mathbf{#1}}M</script></html>"
      ],
      "text/plain": [
       "4-dimensional differentiable manifold M"
      ]
     },
     "execution_count": 3,
     "metadata": {},
     "output_type": "execute_result"
    }
   ],
   "source": [
    "M"
   ]
  },
  {
   "cell_type": "code",
   "execution_count": 4,
   "metadata": {},
   "outputs": [],
   "source": [
    "sch.<t,r,th,ph> = M.chart(r't r:[0,+oo) th:[0,pi]:\\theta ph:[0,2pi):\\phi')"
   ]
  },
  {
   "cell_type": "code",
   "execution_count": 5,
   "metadata": {},
   "outputs": [
    {
     "data": {
      "text/html": [
       "<html><script type=\"math/tex; mode=display\">\\newcommand{\\Bold}[1]{\\mathbf{#1}}\\left(M,(t, r, {\\theta}, {\\phi})\\right)</script></html>"
      ],
      "text/plain": [
       "Chart (M, (t, r, th, ph))"
      ]
     },
     "execution_count": 5,
     "metadata": {},
     "output_type": "execute_result"
    }
   ],
   "source": [
    "sch"
   ]
  },
  {
   "cell_type": "code",
   "execution_count": 6,
   "metadata": {},
   "outputs": [
    {
     "data": {
      "text/html": [
       "<html><script type=\"math/tex; mode=display\">\\newcommand{\\Bold}[1]{\\mathbf{#1}}\\Phi</script></html>"
      ],
      "text/plain": [
       "Ph"
      ]
     },
     "execution_count": 6,
     "metadata": {},
     "output_type": "execute_result"
    }
   ],
   "source": [
    "function('Ph', nargs=1, latex_name=r'\\Phi')"
   ]
  },
  {
   "cell_type": "code",
   "execution_count": 7,
   "metadata": {},
   "outputs": [],
   "source": [
    "m = M.scalar_field(function('m')(r))\n",
    "Phi = M.scalar_field(-exp(2*Ph(r)))"
   ]
  },
  {
   "cell_type": "code",
   "execution_count": 8,
   "metadata": {},
   "outputs": [
    {
     "data": {
      "text/html": [
       "<html><script type=\"math/tex; mode=display\">\\newcommand{\\Bold}[1]{\\mathbf{#1}}\\begin{array}{llcl} & M & \\longrightarrow & \\mathbb{R} \\\\ & \\left(t, r, {\\theta}, {\\phi}\\right) & \\longmapsto & -e^{\\left(2 \\, \\Phi\\left(r\\right)\\right)} \\end{array}</script></html>"
      ],
      "text/plain": [
       "M --> R\n",
       "(t, r, th, ph) |--> -e^(2*Ph(r))"
      ]
     },
     "execution_count": 8,
     "metadata": {},
     "output_type": "execute_result"
    }
   ],
   "source": [
    "Phi.display()"
   ]
  },
  {
   "cell_type": "code",
   "execution_count": 9,
   "metadata": {},
   "outputs": [],
   "source": [
    "g = M.lorentzian_metric('g')\n",
    "g[0,0] = Phi\n",
    "g[1,1] = 1/(1 - 2 * m/r)^2\n",
    "g[2,2] = r^2\n",
    "g[3,3] = r^2 * (sin(th))^2"
   ]
  },
  {
   "cell_type": "code",
   "execution_count": 10,
   "metadata": {},
   "outputs": [
    {
     "data": {
      "text/html": [
       "<html><script type=\"math/tex; mode=display\">\\newcommand{\\Bold}[1]{\\mathbf{#1}}g = -e^{\\left(2 \\, \\Phi\\left(r\\right)\\right)} \\mathrm{d} t\\otimes \\mathrm{d} t + \\left( \\frac{r^{2}}{r^{2} - 4 \\, r m\\left(r\\right) + 4 \\, m\\left(r\\right)^{2}} \\right) \\mathrm{d} r\\otimes \\mathrm{d} r + r^{2} \\mathrm{d} {\\theta}\\otimes \\mathrm{d} {\\theta} + r^{2} \\sin\\left({\\theta}\\right)^{2} \\mathrm{d} {\\phi}\\otimes \\mathrm{d} {\\phi}</script></html>"
      ],
      "text/plain": [
       "g = -e^(2*Ph(r)) dt*dt + r^2/(r^2 - 4*r*m(r) + 4*m(r)^2) dr*dr + r^2 dth*dth + r^2*sin(th)^2 dph*dph"
      ]
     },
     "execution_count": 10,
     "metadata": {},
     "output_type": "execute_result"
    }
   ],
   "source": [
    "g.display()"
   ]
  },
  {
   "cell_type": "code",
   "execution_count": 11,
   "metadata": {},
   "outputs": [],
   "source": [
    "nab = g.connection()"
   ]
  },
  {
   "cell_type": "code",
   "execution_count": 12,
   "metadata": {},
   "outputs": [
    {
     "data": {
      "text/html": [
       "<html><script type=\"math/tex; mode=display\">\\newcommand{\\Bold}[1]{\\mathbf{#1}}\\begin{array}{lcl} \\Gamma_{ \\phantom{\\, t} \\, t \\, r }^{ \\, t \\phantom{\\, t} \\phantom{\\, r} } & = & \\frac{\\partial\\,\\Phi}{\\partial r} \\\\ \\Gamma_{ \\phantom{\\, r} \\, t \\, t }^{ \\, r \\phantom{\\, t} \\phantom{\\, t} } & = & \\frac{{\\left(r^{2} e^{\\left(2 \\, \\Phi\\left(r\\right)\\right)} - 4 \\, r e^{\\left(2 \\, \\Phi\\left(r\\right)\\right)} m\\left(r\\right) + 4 \\, e^{\\left(2 \\, \\Phi\\left(r\\right)\\right)} m\\left(r\\right)^{2}\\right)} \\frac{\\partial\\,\\Phi}{\\partial r}}{r^{2}} \\\\ \\Gamma_{ \\phantom{\\, r} \\, r \\, r }^{ \\, r \\phantom{\\, r} \\phantom{\\, r} } & = & \\frac{2 \\, {\\left(r \\frac{\\partial\\,m}{\\partial r} - m\\left(r\\right)\\right)}}{r^{2} - 2 \\, r m\\left(r\\right)} \\\\ \\Gamma_{ \\phantom{\\, r} \\, {\\theta} \\, {\\theta} }^{ \\, r \\phantom{\\, {\\theta}} \\phantom{\\, {\\theta}} } & = & -\\frac{r^{2} - 4 \\, r m\\left(r\\right) + 4 \\, m\\left(r\\right)^{2}}{r} \\\\ \\Gamma_{ \\phantom{\\, r} \\, {\\phi} \\, {\\phi} }^{ \\, r \\phantom{\\, {\\phi}} \\phantom{\\, {\\phi}} } & = & -\\frac{{\\left(r^{2} - 4 \\, r m\\left(r\\right) + 4 \\, m\\left(r\\right)^{2}\\right)} \\sin\\left({\\theta}\\right)^{2}}{r} \\\\ \\Gamma_{ \\phantom{\\, {\\theta}} \\, r \\, {\\theta} }^{ \\, {\\theta} \\phantom{\\, r} \\phantom{\\, {\\theta}} } & = & \\frac{1}{r} \\\\ \\Gamma_{ \\phantom{\\, {\\theta}} \\, {\\phi} \\, {\\phi} }^{ \\, {\\theta} \\phantom{\\, {\\phi}} \\phantom{\\, {\\phi}} } & = & -\\cos\\left({\\theta}\\right) \\sin\\left({\\theta}\\right) \\\\ \\Gamma_{ \\phantom{\\, {\\phi}} \\, r \\, {\\phi} }^{ \\, {\\phi} \\phantom{\\, r} \\phantom{\\, {\\phi}} } & = & \\frac{1}{r} \\\\ \\Gamma_{ \\phantom{\\, {\\phi}} \\, {\\theta} \\, {\\phi} }^{ \\, {\\phi} \\phantom{\\, {\\theta}} \\phantom{\\, {\\phi}} } & = & \\frac{\\cos\\left({\\theta}\\right)}{\\sin\\left({\\theta}\\right)} \\end{array}</script></html>"
      ],
      "text/plain": [
       "Gam^t_t,r = d(Ph)/dr \n",
       "Gam^r_t,t = (r^2*e^(2*Ph(r)) - 4*r*e^(2*Ph(r))*m(r) + 4*e^(2*Ph(r))*m(r)^2)*d(Ph)/dr/r^2 \n",
       "Gam^r_r,r = 2*(r*d(m)/dr - m(r))/(r^2 - 2*r*m(r)) \n",
       "Gam^r_th,th = -(r^2 - 4*r*m(r) + 4*m(r)^2)/r \n",
       "Gam^r_ph,ph = -(r^2 - 4*r*m(r) + 4*m(r)^2)*sin(th)^2/r \n",
       "Gam^th_r,th = 1/r \n",
       "Gam^th_ph,ph = -cos(th)*sin(th) \n",
       "Gam^ph_r,ph = 1/r \n",
       "Gam^ph_th,ph = cos(th)/sin(th) "
      ]
     },
     "execution_count": 12,
     "metadata": {},
     "output_type": "execute_result"
    }
   ],
   "source": [
    "nab.display(only_nonredundant=true)"
   ]
  },
  {
   "cell_type": "code",
   "execution_count": 13,
   "metadata": {},
   "outputs": [],
   "source": [
    "riem = nab.riemann()\n",
    "ric = nab.ricci()"
   ]
  },
  {
   "cell_type": "code",
   "execution_count": 14,
   "metadata": {},
   "outputs": [
    {
     "data": {
      "text/html": [
       "<html><script type=\"math/tex; mode=display\">\\newcommand{\\Bold}[1]{\\mathbf{#1}}\\mathrm{Ric}\\left(g\\right) = \\left( \\frac{{\\left(r^{3} e^{\\left(2 \\, \\Phi\\left(r\\right)\\right)} - 4 \\, r^{2} e^{\\left(2 \\, \\Phi\\left(r\\right)\\right)} m\\left(r\\right) + 4 \\, r e^{\\left(2 \\, \\Phi\\left(r\\right)\\right)} m\\left(r\\right)^{2}\\right)} \\left(\\frac{\\partial\\,\\Phi}{\\partial r}\\right)^{2} - 2 \\, {\\left(r^{2} e^{\\left(2 \\, \\Phi\\left(r\\right)\\right)} - 2 \\, r e^{\\left(2 \\, \\Phi\\left(r\\right)\\right)} m\\left(r\\right)\\right)} \\frac{\\partial\\,\\Phi}{\\partial r} \\frac{\\partial\\,m}{\\partial r} + 2 \\, {\\left(r^{2} e^{\\left(2 \\, \\Phi\\left(r\\right)\\right)} - 3 \\, r e^{\\left(2 \\, \\Phi\\left(r\\right)\\right)} m\\left(r\\right) + 2 \\, e^{\\left(2 \\, \\Phi\\left(r\\right)\\right)} m\\left(r\\right)^{2}\\right)} \\frac{\\partial\\,\\Phi}{\\partial r} + {\\left(r^{3} e^{\\left(2 \\, \\Phi\\left(r\\right)\\right)} - 4 \\, r^{2} e^{\\left(2 \\, \\Phi\\left(r\\right)\\right)} m\\left(r\\right) + 4 \\, r e^{\\left(2 \\, \\Phi\\left(r\\right)\\right)} m\\left(r\\right)^{2}\\right)} \\frac{\\partial^2\\,\\Phi}{\\partial r ^ 2}}{r^{3}} \\right) \\mathrm{d} t\\otimes \\mathrm{d} t + \\left( -\\frac{2 \\, r m\\left(r\\right) \\frac{\\partial\\,\\Phi}{\\partial r} + {\\left(r^{3} - 2 \\, r^{2} m\\left(r\\right)\\right)} \\frac{\\partial\\,\\Phi}{\\partial r}^{2} + {\\left(r^{3} - 2 \\, r^{2} m\\left(r\\right)\\right)} \\frac{\\partial^2\\,\\Phi}{\\partial r ^ 2} - 2 \\, {\\left(r^{2} \\frac{\\partial\\,\\Phi}{\\partial r} + 2 \\, r\\right)} \\frac{\\partial\\,m}{\\partial r} + 4 \\, m\\left(r\\right)}{r^{3} - 2 \\, r^{2} m\\left(r\\right)} \\right) \\mathrm{d} r\\otimes \\mathrm{d} r + \\left( -\\frac{{\\left(r^{2} - 4 \\, r m\\left(r\\right) + 4 \\, m\\left(r\\right)^{2}\\right)} \\frac{\\partial\\,\\Phi}{\\partial r} - 2 \\, {\\left(r - 2 \\, m\\left(r\\right)\\right)} \\frac{\\partial\\,m}{\\partial r} - 2 \\, m\\left(r\\right)}{r} \\right) \\mathrm{d} {\\theta}\\otimes \\mathrm{d} {\\theta} -\\frac{{\\left({\\left(r^{2} - 4 \\, r m\\left(r\\right) + 4 \\, m\\left(r\\right)^{2}\\right)} \\frac{\\partial\\,\\Phi}{\\partial r} - 2 \\, {\\left(r - 2 \\, m\\left(r\\right)\\right)} \\frac{\\partial\\,m}{\\partial r} - 2 \\, m\\left(r\\right)\\right)} \\sin\\left({\\theta}\\right)^{2}}{r} \\mathrm{d} {\\phi}\\otimes \\mathrm{d} {\\phi}</script></html>"
      ],
      "text/plain": [
       "Ric(g) = ((r^3*e^(2*Ph(r)) - 4*r^2*e^(2*Ph(r))*m(r) + 4*r*e^(2*Ph(r))*m(r)^2)*(d(Ph)/dr)^2 - 2*(r^2*e^(2*Ph(r)) - 2*r*e^(2*Ph(r))*m(r))*d(Ph)/dr*d(m)/dr + 2*(r^2*e^(2*Ph(r)) - 3*r*e^(2*Ph(r))*m(r) + 2*e^(2*Ph(r))*m(r)^2)*d(Ph)/dr + (r^3*e^(2*Ph(r)) - 4*r^2*e^(2*Ph(r))*m(r) + 4*r*e^(2*Ph(r))*m(r)^2)*d^2(Ph)/dr^2)/r^3 dt*dt - (2*r*m(r)*d(Ph)/dr + (r^3 - 2*r^2*m(r))*d(Ph)/dr^2 + (r^3 - 2*r^2*m(r))*d^2(Ph)/dr^2 - 2*(r^2*d(Ph)/dr + 2*r)*d(m)/dr + 4*m(r))/(r^3 - 2*r^2*m(r)) dr*dr - ((r^2 - 4*r*m(r) + 4*m(r)^2)*d(Ph)/dr - 2*(r - 2*m(r))*d(m)/dr - 2*m(r))/r dth*dth - ((r^2 - 4*r*m(r) + 4*m(r)^2)*d(Ph)/dr - 2*(r - 2*m(r))*d(m)/dr - 2*m(r))*sin(th)^2/r dph*dph"
      ]
     },
     "execution_count": 14,
     "metadata": {},
     "output_type": "execute_result"
    }
   ],
   "source": [
    "ric.display()"
   ]
  },
  {
   "cell_type": "code",
   "execution_count": 15,
   "metadata": {},
   "outputs": [],
   "source": [
    "R = g.inverse()['^ab'] * ric['_ab']"
   ]
  },
  {
   "cell_type": "code",
   "execution_count": 16,
   "metadata": {},
   "outputs": [
    {
     "data": {
      "text/html": [
       "<html><script type=\"math/tex; mode=display\">\\newcommand{\\Bold}[1]{\\mathbf{#1}}\\begin{array}{llcl} & M & \\longrightarrow & \\mathbb{R} \\\\ & \\left(t, r, {\\theta}, {\\phi}\\right) & \\longmapsto & -\\frac{2 \\, {\\left({\\left(r^{4} - 4 \\, r^{3} m\\left(r\\right) + 4 \\, r^{2} m\\left(r\\right)^{2}\\right)} \\left(\\frac{\\partial\\,\\Phi}{\\partial r}\\right)^{2} - 4 \\, m\\left(r\\right)^{2} + 2 \\, {\\left(r^{3} - 3 \\, r^{2} m\\left(r\\right) + 2 \\, r m\\left(r\\right)^{2}\\right)} \\frac{\\partial\\,\\Phi}{\\partial r} + {\\left(r^{4} - 4 \\, r^{3} m\\left(r\\right) + 4 \\, r^{2} m\\left(r\\right)^{2}\\right)} \\frac{\\partial^2\\,\\Phi}{\\partial r ^ 2} - 2 \\, {\\left(2 \\, r^{2} - 4 \\, r m\\left(r\\right) + {\\left(r^{3} - 2 \\, r^{2} m\\left(r\\right)\\right)} \\frac{\\partial\\,\\Phi}{\\partial r}\\right)} \\frac{\\partial\\,m}{\\partial r}\\right)}}{r^{4}} \\end{array}</script></html>"
      ],
      "text/plain": [
       "M --> R\n",
       "(t, r, th, ph) |--> -2*((r^4 - 4*r^3*m(r) + 4*r^2*m(r)^2)*(d(Ph)/dr)^2 - 4*m(r)^2 + 2*(r^3 - 3*r^2*m(r) + 2*r*m(r)^2)*d(Ph)/dr + (r^4 - 4*r^3*m(r) + 4*r^2*m(r)^2)*d^2(Ph)/dr^2 - 2*(2*r^2 - 4*r*m(r) + (r^3 - 2*r^2*m(r))*d(Ph)/dr)*d(m)/dr)/r^4"
      ]
     },
     "execution_count": 16,
     "metadata": {},
     "output_type": "execute_result"
    }
   ],
   "source": [
    "R.display()"
   ]
  },
  {
   "cell_type": "code",
   "execution_count": 17,
   "metadata": {},
   "outputs": [],
   "source": [
    "G = ric - 1/2 * g * R\n",
    "G.set_name(r'G_{ab}')"
   ]
  },
  {
   "cell_type": "code",
   "execution_count": 18,
   "metadata": {},
   "outputs": [
    {
     "data": {
      "text/html": [
       "<html><script type=\"math/tex; mode=display\">\\newcommand{\\Bold}[1]{\\mathbf{#1}}G_{ab} = \\frac{4 \\, {\\left(e^{\\left(2 \\, \\Phi\\left(r\\right)\\right)} m\\left(r\\right)^{2} + {\\left(r^{2} e^{\\left(2 \\, \\Phi\\left(r\\right)\\right)} - 2 \\, r e^{\\left(2 \\, \\Phi\\left(r\\right)\\right)} m\\left(r\\right)\\right)} \\frac{\\partial\\,m}{\\partial r}\\right)}}{r^{4}} \\mathrm{d} t\\otimes \\mathrm{d} t + \\left( -\\frac{2 \\, {\\left(2 \\, r m\\left(r\\right) - 2 \\, m\\left(r\\right)^{2} - {\\left(r^{3} - 4 \\, r^{2} m\\left(r\\right) + 4 \\, r m\\left(r\\right)^{2}\\right)} \\frac{\\partial\\,\\Phi}{\\partial r}\\right)}}{r^{4} - 4 \\, r^{3} m\\left(r\\right) + 4 \\, r^{2} m\\left(r\\right)^{2}} \\right) \\mathrm{d} r\\otimes \\mathrm{d} r + \\left( \\frac{{\\left(r^{4} - 4 \\, r^{3} m\\left(r\\right) + 4 \\, r^{2} m\\left(r\\right)^{2}\\right)} \\left(\\frac{\\partial\\,\\Phi}{\\partial r}\\right)^{2} + 2 \\, r m\\left(r\\right) - 4 \\, m\\left(r\\right)^{2} + {\\left(r^{3} - 2 \\, r^{2} m\\left(r\\right)\\right)} \\frac{\\partial\\,\\Phi}{\\partial r} + {\\left(r^{4} - 4 \\, r^{3} m\\left(r\\right) + 4 \\, r^{2} m\\left(r\\right)^{2}\\right)} \\frac{\\partial^2\\,\\Phi}{\\partial r ^ 2} - 2 \\, {\\left(r^{2} - 2 \\, r m\\left(r\\right) + {\\left(r^{3} - 2 \\, r^{2} m\\left(r\\right)\\right)} \\frac{\\partial\\,\\Phi}{\\partial r}\\right)} \\frac{\\partial\\,m}{\\partial r}}{r^{2}} \\right) \\mathrm{d} {\\theta}\\otimes \\mathrm{d} {\\theta} + \\frac{{\\left({\\left(r^{4} - 4 \\, r^{3} m\\left(r\\right) + 4 \\, r^{2} m\\left(r\\right)^{2}\\right)} \\left(\\frac{\\partial\\,\\Phi}{\\partial r}\\right)^{2} + 2 \\, r m\\left(r\\right) - 4 \\, m\\left(r\\right)^{2} + {\\left(r^{3} - 2 \\, r^{2} m\\left(r\\right)\\right)} \\frac{\\partial\\,\\Phi}{\\partial r} + {\\left(r^{4} - 4 \\, r^{3} m\\left(r\\right) + 4 \\, r^{2} m\\left(r\\right)^{2}\\right)} \\frac{\\partial^2\\,\\Phi}{\\partial r ^ 2} - 2 \\, {\\left(r^{2} - 2 \\, r m\\left(r\\right) + {\\left(r^{3} - 2 \\, r^{2} m\\left(r\\right)\\right)} \\frac{\\partial\\,\\Phi}{\\partial r}\\right)} \\frac{\\partial\\,m}{\\partial r}\\right)} \\sin\\left({\\theta}\\right)^{2}}{r^{2}} \\mathrm{d} {\\phi}\\otimes \\mathrm{d} {\\phi}</script></html>"
      ],
      "text/plain": [
       "G_{ab} = 4*(e^(2*Ph(r))*m(r)^2 + (r^2*e^(2*Ph(r)) - 2*r*e^(2*Ph(r))*m(r))*d(m)/dr)/r^4 dt*dt - 2*(2*r*m(r) - 2*m(r)^2 - (r^3 - 4*r^2*m(r) + 4*r*m(r)^2)*d(Ph)/dr)/(r^4 - 4*r^3*m(r) + 4*r^2*m(r)^2) dr*dr + ((r^4 - 4*r^3*m(r) + 4*r^2*m(r)^2)*(d(Ph)/dr)^2 + 2*r*m(r) - 4*m(r)^2 + (r^3 - 2*r^2*m(r))*d(Ph)/dr + (r^4 - 4*r^3*m(r) + 4*r^2*m(r)^2)*d^2(Ph)/dr^2 - 2*(r^2 - 2*r*m(r) + (r^3 - 2*r^2*m(r))*d(Ph)/dr)*d(m)/dr)/r^2 dth*dth + ((r^4 - 4*r^3*m(r) + 4*r^2*m(r)^2)*(d(Ph)/dr)^2 + 2*r*m(r) - 4*m(r)^2 + (r^3 - 2*r^2*m(r))*d(Ph)/dr + (r^4 - 4*r^3*m(r) + 4*r^2*m(r)^2)*d^2(Ph)/dr^2 - 2*(r^2 - 2*r*m(r) + (r^3 - 2*r^2*m(r))*d(Ph)/dr)*d(m)/dr)*sin(th)^2/r^2 dph*dph"
      ]
     },
     "execution_count": 18,
     "metadata": {},
     "output_type": "execute_result"
    }
   ],
   "source": [
    "G.display()"
   ]
  },
  {
   "cell_type": "code",
   "execution_count": 19,
   "metadata": {},
   "outputs": [
    {
     "data": {
      "text/html": [
       "<html><script type=\"math/tex; mode=display\">\\newcommand{\\Bold}[1]{\\mathbf{#1}}u^a = \\frac{\\partial}{\\partial t }</script></html>"
      ],
      "text/plain": [
       "u = d/dt"
      ]
     },
     "metadata": {},
     "output_type": "display_data"
    },
    {
     "data": {
      "text/html": [
       "<html><script type=\"math/tex; mode=display\">\\newcommand{\\Bold}[1]{\\mathbf{#1}}u_a = -e^{\\left(2 \\, \\Phi\\left(r\\right)\\right)} \\mathrm{d} t</script></html>"
      ],
      "text/plain": [
       "u_a = -e^(2*Ph(r)) dt"
      ]
     },
     "metadata": {},
     "output_type": "display_data"
    },
    {
     "data": {
      "text/html": [
       "<html><script type=\"math/tex; mode=display\">\\newcommand{\\Bold}[1]{\\mathbf{#1}}T_{ab} = \\left( {\\left(e^{\\left(4 \\, \\Phi\\left(r\\right)\\right)} - e^{\\left(2 \\, \\Phi\\left(r\\right)\\right)}\\right)} P\\left(r\\right) + e^{\\left(4 \\, \\Phi\\left(r\\right)\\right)} \\rho\\left(r\\right) \\right) \\mathrm{d} t\\otimes \\mathrm{d} t + \\left( \\frac{r^{2} P\\left(r\\right)}{r^{2} - 4 \\, r m\\left(r\\right) + 4 \\, m\\left(r\\right)^{2}} \\right) \\mathrm{d} r\\otimes \\mathrm{d} r + r^{2} P\\left(r\\right) \\mathrm{d} {\\theta}\\otimes \\mathrm{d} {\\theta} + r^{2} P\\left(r\\right) \\sin\\left({\\theta}\\right)^{2} \\mathrm{d} {\\phi}\\otimes \\mathrm{d} {\\phi}</script></html>"
      ],
      "text/plain": [
       "T_{ab} = ((e^(4*Ph(r)) - e^(2*Ph(r)))*P(r) + e^(4*Ph(r))*rho(r)) dt*dt + r^2*P(r)/(r^2 - 4*r*m(r) + 4*m(r)^2) dr*dr + r^2*P(r) dth*dth + r^2*P(r)*sin(th)^2 dph*dph"
      ]
     },
     "metadata": {},
     "output_type": "display_data"
    },
    {
     "data": {
      "text/html": [
       "<html><script type=\"math/tex; mode=display\">\\newcommand{\\Bold}[1]{\\mathbf{#1}}\\left(\\begin{array}{rrrr}\n",
       "{\\left(e^{\\left(4 \\, \\Phi\\left(r\\right)\\right)} - e^{\\left(2 \\, \\Phi\\left(r\\right)\\right)}\\right)} P\\left(r\\right) + e^{\\left(4 \\, \\Phi\\left(r\\right)\\right)} \\rho\\left(r\\right) & 0 & 0 & 0 \\\\\n",
       "0 & \\frac{r^{2} P\\left(r\\right)}{r^{2} - 4 \\, r m\\left(r\\right) + 4 \\, m\\left(r\\right)^{2}} & 0 & 0 \\\\\n",
       "0 & 0 & r^{2} P\\left(r\\right) & 0 \\\\\n",
       "0 & 0 & 0 & r^{2} P\\left(r\\right) \\sin\\left({\\theta}\\right)^{2}\n",
       "\\end{array}\\right)</script></html>"
      ],
      "text/plain": [
       "[(e^(4*Ph(r)) - e^(2*Ph(r)))*P(r) + e^(4*Ph(r))*rho(r)                                                     0                                                     0                                                     0]\n",
       "[                                                    0                  r^2*P(r)/(r^2 - 4*r*m(r) + 4*m(r)^2)                                                     0                                                     0]\n",
       "[                                                    0                                                     0                                              r^2*P(r)                                                     0]\n",
       "[                                                    0                                                     0                                                     0                                    r^2*P(r)*sin(th)^2]"
      ]
     },
     "metadata": {},
     "output_type": "display_data"
    }
   ],
   "source": [
    "# Declare scala fields\n",
    "rho = M.scalar_field(function('rho')(r), name='rho', latex_name=r'\\rho')\n",
    "P = M.scalar_field(function('P')(r), name='P')\n",
    "\n",
    "# Declare Vector Fields\n",
    "u = M.vector_field('u', latex_name=r'u^a')\n",
    "u[0] = 1\n",
    "show(u.display())\n",
    "\n",
    "# Vector to Covector (1-form)\n",
    "u_form = u.down(g)\n",
    "u_form.set_name(r'u_a')\n",
    "show(u_form.display())\n",
    "\n",
    "# Define energy momentum tensor\n",
    "T = (rho + P)*u_form*u_form + P*g\n",
    "T.set_name(r'T_{ab}')\n",
    "show(T.display())\n",
    "show(T[:])"
   ]
  },
  {
   "cell_type": "code",
   "execution_count": 20,
   "metadata": {},
   "outputs": [
    {
     "data": {
      "text/html": [
       "<html><script type=\"math/tex; mode=display\">\\newcommand{\\Bold}[1]{\\mathbf{#1}}{T^a}_b = \\left( -{\\left(e^{\\left(2 \\, \\Phi\\left(r\\right)\\right)} - 1\\right)} P\\left(r\\right) - e^{\\left(2 \\, \\Phi\\left(r\\right)\\right)} \\rho\\left(r\\right) \\right) \\frac{\\partial}{\\partial t }\\otimes \\mathrm{d} t + P\\left(r\\right) \\frac{\\partial}{\\partial r }\\otimes \\mathrm{d} r + P\\left(r\\right) \\frac{\\partial}{\\partial {\\theta} }\\otimes \\mathrm{d} {\\theta} + P\\left(r\\right) \\frac{\\partial}{\\partial {\\phi} }\\otimes \\mathrm{d} {\\phi}</script></html>"
      ],
      "text/plain": [
       "{T^a}_b = (-(e^(2*Ph(r)) - 1)*P(r) - e^(2*Ph(r))*rho(r)) d/dt*dt + P(r) d/dr*dr + P(r) d/dth*dth + P(r) d/dph*dph"
      ]
     },
     "metadata": {},
     "output_type": "display_data"
    },
    {
     "data": {
      "text/html": [
       "<html><script type=\"math/tex; mode=display\">\\newcommand{\\Bold}[1]{\\mathbf{#1}}\\left(\\begin{array}{rrrr}\n",
       "-{\\left(e^{\\left(2 \\, \\Phi\\left(r\\right)\\right)} - 1\\right)} P\\left(r\\right) - e^{\\left(2 \\, \\Phi\\left(r\\right)\\right)} \\rho\\left(r\\right) & 0 & 0 & 0 \\\\\n",
       "0 & P\\left(r\\right) & 0 & 0 \\\\\n",
       "0 & 0 & P\\left(r\\right) & 0 \\\\\n",
       "0 & 0 & 0 & P\\left(r\\right)\n",
       "\\end{array}\\right)</script></html>"
      ],
      "text/plain": [
       "[-(e^(2*Ph(r)) - 1)*P(r) - e^(2*Ph(r))*rho(r)                                            0                                            0                                            0]\n",
       "[                                           0                                         P(r)                                            0                                            0]\n",
       "[                                           0                                            0                                         P(r)                                            0]\n",
       "[                                           0                                            0                                            0                                         P(r)]"
      ]
     },
     "metadata": {},
     "output_type": "display_data"
    }
   ],
   "source": [
    "Tmix = g.inverse()['^ab']*T['_bc']\n",
    "Tmix.set_name(r'{T^a}_b')\n",
    "show(Tmix.display())\n",
    "show(Tmix[:])"
   ]
  },
  {
   "cell_type": "code",
   "execution_count": 21,
   "metadata": {},
   "outputs": [
    {
     "name": "stdout",
     "output_type": "stream",
     "text": [
      "Energy-Momentum Conserved:\n",
      "\n"
     ]
    },
    {
     "data": {
      "text/html": [
       "<html><script type=\"math/tex; mode=display\">\\newcommand{\\Bold}[1]{\\mathbf{#1}}\\left( {\\left(P\\left(r\\right) e^{\\left(2 \\, \\Phi\\left(r\\right)\\right)} + e^{\\left(2 \\, \\Phi\\left(r\\right)\\right)} \\rho\\left(r\\right)\\right)} \\frac{\\partial\\,\\Phi}{\\partial r} + \\frac{\\partial\\,P}{\\partial r} \\right) \\mathrm{d} r</script></html>"
      ],
      "text/plain": [
       "((P(r)*e^(2*Ph(r)) + e^(2*Ph(r))*rho(r))*d(Ph)/dr + d(P)/dr) dr"
      ]
     },
     "execution_count": 21,
     "metadata": {},
     "output_type": "execute_result"
    }
   ],
   "source": [
    "# Covariant Derivative of T\n",
    "DTmix = nab(Tmix)\n",
    "DTmix.set_name(r'\\nabla T')\n",
    "\n",
    "# Contract = Energy-Momentum Conserved\n",
    "CT = DTmix['^a_ba']\n",
    "print(\"Energy-Momentum Conserved:\\n\")\n",
    "CT.display()"
   ]
  },
  {
   "cell_type": "code",
   "execution_count": 22,
   "metadata": {},
   "outputs": [
    {
     "data": {
      "text/html": [
       "<html><script type=\"math/tex; mode=display\">\\newcommand{\\Bold}[1]{\\mathbf{#1}}-\\frac{4 \\, {\\left(2 \\, \\pi r^{4} e^{\\left(4 \\, \\Phi\\left(r\\right)\\right)} \\rho\\left(r\\right) - e^{\\left(2 \\, \\Phi\\left(r\\right)\\right)} m\\left(r\\right)^{2} + 2 \\, {\\left(\\pi r^{4} e^{\\left(4 \\, \\Phi\\left(r\\right)\\right)} - \\pi r^{4} e^{\\left(2 \\, \\Phi\\left(r\\right)\\right)}\\right)} P\\left(r\\right) - {\\left(r^{2} e^{\\left(2 \\, \\Phi\\left(r\\right)\\right)} - 2 \\, r e^{\\left(2 \\, \\Phi\\left(r\\right)\\right)} m\\left(r\\right)\\right)} \\frac{\\partial\\,m}{\\partial r}\\right)}}{r^{4}} \\mathrm{d} t\\otimes \\mathrm{d} t + \\left( -\\frac{2 \\, {\\left(4 \\, \\pi r^{4} P\\left(r\\right) + 2 \\, r m\\left(r\\right) - 2 \\, m\\left(r\\right)^{2} - {\\left(r^{3} - 4 \\, r^{2} m\\left(r\\right) + 4 \\, r m\\left(r\\right)^{2}\\right)} \\frac{\\partial\\,\\Phi}{\\partial r}\\right)}}{r^{4} - 4 \\, r^{3} m\\left(r\\right) + 4 \\, r^{2} m\\left(r\\right)^{2}} \\right) \\mathrm{d} r\\otimes \\mathrm{d} r + \\left( -\\frac{8 \\, \\pi r^{4} P\\left(r\\right) - {\\left(r^{4} - 4 \\, r^{3} m\\left(r\\right) + 4 \\, r^{2} m\\left(r\\right)^{2}\\right)} \\left(\\frac{\\partial\\,\\Phi}{\\partial r}\\right)^{2} - 2 \\, r m\\left(r\\right) + 4 \\, m\\left(r\\right)^{2} - {\\left(r^{3} - 2 \\, r^{2} m\\left(r\\right)\\right)} \\frac{\\partial\\,\\Phi}{\\partial r} - {\\left(r^{4} - 4 \\, r^{3} m\\left(r\\right) + 4 \\, r^{2} m\\left(r\\right)^{2}\\right)} \\frac{\\partial^2\\,\\Phi}{\\partial r ^ 2} + 2 \\, {\\left(r^{2} - 2 \\, r m\\left(r\\right) + {\\left(r^{3} - 2 \\, r^{2} m\\left(r\\right)\\right)} \\frac{\\partial\\,\\Phi}{\\partial r}\\right)} \\frac{\\partial\\,m}{\\partial r}}{r^{2}} \\right) \\mathrm{d} {\\theta}\\otimes \\mathrm{d} {\\theta} -\\frac{{\\left(8 \\, \\pi r^{4} P\\left(r\\right) - {\\left(r^{4} - 4 \\, r^{3} m\\left(r\\right) + 4 \\, r^{2} m\\left(r\\right)^{2}\\right)} \\left(\\frac{\\partial\\,\\Phi}{\\partial r}\\right)^{2} - 2 \\, r m\\left(r\\right) + 4 \\, m\\left(r\\right)^{2} - {\\left(r^{3} - 2 \\, r^{2} m\\left(r\\right)\\right)} \\frac{\\partial\\,\\Phi}{\\partial r} - {\\left(r^{4} - 4 \\, r^{3} m\\left(r\\right) + 4 \\, r^{2} m\\left(r\\right)^{2}\\right)} \\frac{\\partial^2\\,\\Phi}{\\partial r ^ 2} + 2 \\, {\\left(r^{2} - 2 \\, r m\\left(r\\right) + {\\left(r^{3} - 2 \\, r^{2} m\\left(r\\right)\\right)} \\frac{\\partial\\,\\Phi}{\\partial r}\\right)} \\frac{\\partial\\,m}{\\partial r}\\right)} \\sin\\left({\\theta}\\right)^{2}}{r^{2}} \\mathrm{d} {\\phi}\\otimes \\mathrm{d} {\\phi}</script></html>"
      ],
      "text/plain": [
       "-4*(2*pi*r^4*e^(4*Ph(r))*rho(r) - e^(2*Ph(r))*m(r)^2 + 2*(pi*r^4*e^(4*Ph(r)) - pi*r^4*e^(2*Ph(r)))*P(r) - (r^2*e^(2*Ph(r)) - 2*r*e^(2*Ph(r))*m(r))*d(m)/dr)/r^4 dt*dt - 2*(4*pi*r^4*P(r) + 2*r*m(r) - 2*m(r)^2 - (r^3 - 4*r^2*m(r) + 4*r*m(r)^2)*d(Ph)/dr)/(r^4 - 4*r^3*m(r) + 4*r^2*m(r)^2) dr*dr - (8*pi*r^4*P(r) - (r^4 - 4*r^3*m(r) + 4*r^2*m(r)^2)*(d(Ph)/dr)^2 - 2*r*m(r) + 4*m(r)^2 - (r^3 - 2*r^2*m(r))*d(Ph)/dr - (r^4 - 4*r^3*m(r) + 4*r^2*m(r)^2)*d^2(Ph)/dr^2 + 2*(r^2 - 2*r*m(r) + (r^3 - 2*r^2*m(r))*d(Ph)/dr)*d(m)/dr)/r^2 dth*dth - (8*pi*r^4*P(r) - (r^4 - 4*r^3*m(r) + 4*r^2*m(r)^2)*(d(Ph)/dr)^2 - 2*r*m(r) + 4*m(r)^2 - (r^3 - 2*r^2*m(r))*d(Ph)/dr - (r^4 - 4*r^3*m(r) + 4*r^2*m(r)^2)*d^2(Ph)/dr^2 + 2*(r^2 - 2*r*m(r) + (r^3 - 2*r^2*m(r))*d(Ph)/dr)*d(m)/dr)*sin(th)^2/r^2 dph*dph"
      ]
     },
     "execution_count": 22,
     "metadata": {},
     "output_type": "execute_result"
    }
   ],
   "source": [
    "EE = G - 8*pi*T\n",
    "EE.display()"
   ]
  },
  {
   "cell_type": "code",
   "execution_count": null,
   "metadata": {},
   "outputs": [],
   "source": []
  }
 ],
 "metadata": {
  "kernelspec": {
   "display_name": "SageMath 8.4",
   "language": "",
   "name": "sagemath"
  },
  "language_info": {
   "codemirror_mode": {
    "name": "ipython",
    "version": 2
   },
   "file_extension": ".py",
   "mimetype": "text/x-python",
   "name": "python",
   "nbconvert_exporter": "python",
   "pygments_lexer": "ipython2",
   "version": "2.7.15"
  }
 },
 "nbformat": 4,
 "nbformat_minor": 2
}
