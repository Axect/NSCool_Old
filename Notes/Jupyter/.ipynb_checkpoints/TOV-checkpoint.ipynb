{
 "cells": [
  {
   "cell_type": "markdown",
   "metadata": {},
   "source": [
    "# Tolman-Oppenheimer-Volkoff Equation"
   ]
  },
  {
   "cell_type": "code",
   "execution_count": 1,
   "metadata": {},
   "outputs": [],
   "source": [
    "%display latex"
   ]
  },
  {
   "cell_type": "markdown",
   "metadata": {},
   "source": [
    "### Define Manifold & Chart"
   ]
  },
  {
   "cell_type": "code",
   "execution_count": 2,
   "metadata": {},
   "outputs": [],
   "source": [
    "M = Manifold(4, 'M', latex_name=r'\\mathcal{M}')"
   ]
  },
  {
   "cell_type": "code",
   "execution_count": 3,
   "metadata": {},
   "outputs": [
    {
     "data": {
      "text/html": [
       "<html><script type=\"math/tex; mode=display\">\\newcommand{\\Bold}[1]{\\mathbf{#1}}\\mathcal{M}</script></html>"
      ],
      "text/plain": [
       "4-dimensional differentiable manifold M"
      ]
     },
     "execution_count": 3,
     "metadata": {},
     "output_type": "execute_result"
    }
   ],
   "source": [
    "M"
   ]
  },
  {
   "cell_type": "code",
   "execution_count": 4,
   "metadata": {},
   "outputs": [],
   "source": [
    "sch.<t,r,th,ph> = M.chart(r't r:[0,+oo) th:[0,pi]:\\theta ph:[0,2pi):\\phi')"
   ]
  },
  {
   "cell_type": "code",
   "execution_count": 5,
   "metadata": {},
   "outputs": [
    {
     "data": {
      "text/html": [
       "<html><script type=\"math/tex; mode=display\">\\newcommand{\\Bold}[1]{\\mathbf{#1}}\\left(\\mathcal{M},(t, r, {\\theta}, {\\phi})\\right)</script></html>"
      ],
      "text/plain": [
       "Chart (M, (t, r, th, ph))"
      ]
     },
     "execution_count": 5,
     "metadata": {},
     "output_type": "execute_result"
    }
   ],
   "source": [
    "sch"
   ]
  },
  {
   "cell_type": "markdown",
   "metadata": {},
   "source": [
    "### Define static spherical symmetric metric"
   ]
  },
  {
   "cell_type": "code",
   "execution_count": 6,
   "metadata": {},
   "outputs": [],
   "source": [
    "m = function('m')\n",
    "Phi = function('Phi')\n",
    "Lamb = function('Lambda')"
   ]
  },
  {
   "cell_type": "code",
   "execution_count": 7,
   "metadata": {},
   "outputs": [],
   "source": [
    "g = M.lorentzian_metric('g')\n",
    "g[0,0] = -exp(2*Phi(r))\n",
    "g[1,1] = exp(2*Lamb(r))\n",
    "g[2,2] = r^2\n",
    "g[3,3] = r^2 * (sin(th))^2"
   ]
  },
  {
   "cell_type": "code",
   "execution_count": 8,
   "metadata": {},
   "outputs": [
    {
     "data": {
      "text/html": [
       "<html><script type=\"math/tex; mode=display\">\\newcommand{\\Bold}[1]{\\mathbf{#1}}g = -e^{\\left(2 \\, \\Phi\\left(r\\right)\\right)} \\mathrm{d} t\\otimes \\mathrm{d} t + e^{\\left(2 \\, \\Lambda\\left(r\\right)\\right)} \\mathrm{d} r\\otimes \\mathrm{d} r + r^{2} \\mathrm{d} {\\theta}\\otimes \\mathrm{d} {\\theta} + r^{2} \\sin\\left({\\theta}\\right)^{2} \\mathrm{d} {\\phi}\\otimes \\mathrm{d} {\\phi}</script></html>"
      ],
      "text/plain": [
       "g = -e^(2*Phi(r)) dt*dt + e^(2*Lambda(r)) dr*dr + r^2 dth*dth + r^2*sin(th)^2 dph*dph"
      ]
     },
     "execution_count": 8,
     "metadata": {},
     "output_type": "execute_result"
    }
   ],
   "source": [
    "g.display()"
   ]
  },
  {
   "cell_type": "code",
   "execution_count": 9,
   "metadata": {},
   "outputs": [
    {
     "data": {
      "text/html": [
       "<html><script type=\"math/tex; mode=display\">\\newcommand{\\Bold}[1]{\\mathbf{#1}}\\begin{array}{lcl} g_{ \\, t \\, t }^{ \\phantom{\\, t}\\phantom{\\, t} } & = & -e^{\\left(2 \\, \\Phi\\left(r\\right)\\right)} \\\\ g_{ \\, r \\, r }^{ \\phantom{\\, r}\\phantom{\\, r} } & = & e^{\\left(2 \\, \\Lambda\\left(r\\right)\\right)} \\\\ g_{ \\, {\\theta} \\, {\\theta} }^{ \\phantom{\\, {\\theta}}\\phantom{\\, {\\theta}} } & = & r^{2} \\\\ g_{ \\, {\\phi} \\, {\\phi} }^{ \\phantom{\\, {\\phi}}\\phantom{\\, {\\phi}} } & = & r^{2} \\sin\\left({\\theta}\\right)^{2} \\end{array}</script></html>"
      ],
      "text/plain": [
       "g_t,t = -e^(2*Phi(r)) \n",
       "g_r,r = e^(2*Lambda(r)) \n",
       "g_th,th = r^2 \n",
       "g_ph,ph = r^2*sin(th)^2 "
      ]
     },
     "execution_count": 9,
     "metadata": {},
     "output_type": "execute_result"
    }
   ],
   "source": [
    "g.display_comp()"
   ]
  },
  {
   "cell_type": "markdown",
   "metadata": {},
   "source": [
    "### Levi-civita connection"
   ]
  },
  {
   "cell_type": "code",
   "execution_count": 10,
   "metadata": {},
   "outputs": [
    {
     "data": {
      "text/html": [
       "<html><script type=\"math/tex; mode=display\">\\newcommand{\\Bold}[1]{\\mathbf{#1}}\\begin{array}{lcl} \\Gamma_{ \\phantom{\\, t} \\, t \\, r }^{ \\, t \\phantom{\\, t} \\phantom{\\, r} } & = & \\frac{\\partial\\,\\Phi}{\\partial r} \\\\ \\Gamma_{ \\phantom{\\, r} \\, t \\, t }^{ \\, r \\phantom{\\, t} \\phantom{\\, t} } & = & e^{\\left(-2 \\, \\Lambda\\left(r\\right) + 2 \\, \\Phi\\left(r\\right)\\right)} \\frac{\\partial\\,\\Phi}{\\partial r} \\\\ \\Gamma_{ \\phantom{\\, r} \\, r \\, r }^{ \\, r \\phantom{\\, r} \\phantom{\\, r} } & = & \\frac{\\partial\\,\\Lambda}{\\partial r} \\\\ \\Gamma_{ \\phantom{\\, r} \\, {\\theta} \\, {\\theta} }^{ \\, r \\phantom{\\, {\\theta}} \\phantom{\\, {\\theta}} } & = & -r e^{\\left(-2 \\, \\Lambda\\left(r\\right)\\right)} \\\\ \\Gamma_{ \\phantom{\\, r} \\, {\\phi} \\, {\\phi} }^{ \\, r \\phantom{\\, {\\phi}} \\phantom{\\, {\\phi}} } & = & -r e^{\\left(-2 \\, \\Lambda\\left(r\\right)\\right)} \\sin\\left({\\theta}\\right)^{2} \\\\ \\Gamma_{ \\phantom{\\, {\\theta}} \\, r \\, {\\theta} }^{ \\, {\\theta} \\phantom{\\, r} \\phantom{\\, {\\theta}} } & = & \\frac{1}{r} \\\\ \\Gamma_{ \\phantom{\\, {\\theta}} \\, {\\phi} \\, {\\phi} }^{ \\, {\\theta} \\phantom{\\, {\\phi}} \\phantom{\\, {\\phi}} } & = & -\\cos\\left({\\theta}\\right) \\sin\\left({\\theta}\\right) \\\\ \\Gamma_{ \\phantom{\\, {\\phi}} \\, r \\, {\\phi} }^{ \\, {\\phi} \\phantom{\\, r} \\phantom{\\, {\\phi}} } & = & \\frac{1}{r} \\\\ \\Gamma_{ \\phantom{\\, {\\phi}} \\, {\\theta} \\, {\\phi} }^{ \\, {\\phi} \\phantom{\\, {\\theta}} \\phantom{\\, {\\phi}} } & = & \\frac{\\cos\\left({\\theta}\\right)}{\\sin\\left({\\theta}\\right)} \\end{array}</script></html>"
      ],
      "text/plain": [
       "Gam^t_t,r = d(Phi)/dr \n",
       "Gam^r_t,t = e^(-2*Lambda(r) + 2*Phi(r))*d(Phi)/dr \n",
       "Gam^r_r,r = d(Lambda)/dr \n",
       "Gam^r_th,th = -r*e^(-2*Lambda(r)) \n",
       "Gam^r_ph,ph = -r*e^(-2*Lambda(r))*sin(th)^2 \n",
       "Gam^th_r,th = 1/r \n",
       "Gam^th_ph,ph = -cos(th)*sin(th) \n",
       "Gam^ph_r,ph = 1/r \n",
       "Gam^ph_th,ph = cos(th)/sin(th) "
      ]
     },
     "execution_count": 10,
     "metadata": {},
     "output_type": "execute_result"
    }
   ],
   "source": [
    "nab = g.connection()\n",
    "nab.display(only_nonredundant=true)"
   ]
  },
  {
   "cell_type": "markdown",
   "metadata": {},
   "source": [
    "### Riemann, Ricci Tensor"
   ]
  },
  {
   "cell_type": "code",
   "execution_count": 11,
   "metadata": {},
   "outputs": [],
   "source": [
    "riem = nab.riemann()\n",
    "ric = nab.ricci()"
   ]
  },
  {
   "cell_type": "code",
   "execution_count": 12,
   "metadata": {},
   "outputs": [
    {
     "name": "stdout",
     "output_type": "stream",
     "text": [
      "Tensor field Riem(g) of type (1,3) on the 4-dimensional differentiable manifold M\n",
      "Field of symmetric bilinear forms Ric(g) on the 4-dimensional differentiable manifold M\n"
     ]
    }
   ],
   "source": [
    "print(riem)\n",
    "print(ric)"
   ]
  },
  {
   "cell_type": "markdown",
   "metadata": {},
   "source": [
    "### Ricci scalar"
   ]
  },
  {
   "cell_type": "code",
   "execution_count": 13,
   "metadata": {},
   "outputs": [],
   "source": [
    "R = g.inverse()['^ab'] * ric['_ab']"
   ]
  },
  {
   "cell_type": "code",
   "execution_count": 14,
   "metadata": {},
   "outputs": [
    {
     "data": {
      "text/html": [
       "<html><script type=\"math/tex; mode=display\">\\newcommand{\\Bold}[1]{\\mathbf{#1}}\\begin{array}{llcl} & \\mathcal{M} & \\longrightarrow & \\mathbb{R} \\\\ & \\left(t, r, {\\theta}, {\\phi}\\right) & \\longmapsto & -\\frac{2 \\, {\\left(r^{2} \\left(\\frac{\\partial\\,\\Phi}{\\partial r}\\right)^{2} + r^{2} \\frac{\\partial^2\\,\\Phi}{\\partial r ^ 2} - 2 \\, r \\frac{\\partial\\,\\Lambda}{\\partial r} - {\\left(r^{2} \\frac{\\partial\\,\\Lambda}{\\partial r} - 2 \\, r\\right)} \\frac{\\partial\\,\\Phi}{\\partial r} - e^{\\left(2 \\, \\Lambda\\left(r\\right)\\right)} + 1\\right)} e^{\\left(-2 \\, \\Lambda\\left(r\\right)\\right)}}{r^{2}} \\end{array}</script></html>"
      ],
      "text/plain": [
       "M --> R\n",
       "(t, r, th, ph) |--> -2*(r^2*(d(Phi)/dr)^2 + r^2*d^2(Phi)/dr^2 - 2*r*d(Lambda)/dr - (r^2*d(Lambda)/dr - 2*r)*d(Phi)/dr - e^(2*Lambda(r)) + 1)*e^(-2*Lambda(r))/r^2"
      ]
     },
     "execution_count": 14,
     "metadata": {},
     "output_type": "execute_result"
    }
   ],
   "source": [
    "R.display()"
   ]
  },
  {
   "cell_type": "markdown",
   "metadata": {},
   "source": [
    "### Einstein Tensor"
   ]
  },
  {
   "cell_type": "code",
   "execution_count": 15,
   "metadata": {},
   "outputs": [],
   "source": [
    "Gab = ric - 1/2 * g * R\n",
    "Gab.set_name(r'G_{ab}')"
   ]
  },
  {
   "cell_type": "code",
   "execution_count": 16,
   "metadata": {},
   "outputs": [
    {
     "data": {
      "text/html": [
       "<html><script type=\"math/tex; mode=display\">\\newcommand{\\Bold}[1]{\\mathbf{#1}}G_{ab} = \\frac{{\\left(2 \\, r e^{\\left(2 \\, \\Phi\\left(r\\right)\\right)} \\frac{\\partial\\,\\Lambda}{\\partial r} + {\\left(e^{\\left(2 \\, \\Lambda\\left(r\\right)\\right)} - 1\\right)} e^{\\left(2 \\, \\Phi\\left(r\\right)\\right)}\\right)} e^{\\left(-2 \\, \\Lambda\\left(r\\right)\\right)}}{r^{2}} \\mathrm{d} t\\otimes \\mathrm{d} t + \\left( \\frac{2 \\, r \\frac{\\partial\\,\\Phi}{\\partial r} - e^{\\left(2 \\, \\Lambda\\left(r\\right)\\right)} + 1}{r^{2}} \\right) \\mathrm{d} r\\otimes \\mathrm{d} r + {\\left(r^{2} \\left(\\frac{\\partial\\,\\Phi}{\\partial r}\\right)^{2} + r^{2} \\frac{\\partial^2\\,\\Phi}{\\partial r ^ 2} - r \\frac{\\partial\\,\\Lambda}{\\partial r} - {\\left(r^{2} \\frac{\\partial\\,\\Lambda}{\\partial r} - r\\right)} \\frac{\\partial\\,\\Phi}{\\partial r}\\right)} e^{\\left(-2 \\, \\Lambda\\left(r\\right)\\right)} \\mathrm{d} {\\theta}\\otimes \\mathrm{d} {\\theta} + {\\left(r^{2} \\left(\\frac{\\partial\\,\\Phi}{\\partial r}\\right)^{2} + r^{2} \\frac{\\partial^2\\,\\Phi}{\\partial r ^ 2} - r \\frac{\\partial\\,\\Lambda}{\\partial r} - {\\left(r^{2} \\frac{\\partial\\,\\Lambda}{\\partial r} - r\\right)} \\frac{\\partial\\,\\Phi}{\\partial r}\\right)} e^{\\left(-2 \\, \\Lambda\\left(r\\right)\\right)} \\sin\\left({\\theta}\\right)^{2} \\mathrm{d} {\\phi}\\otimes \\mathrm{d} {\\phi}</script></html>"
      ],
      "text/plain": [
       "G_{ab} = (2*r*e^(2*Phi(r))*d(Lambda)/dr + (e^(2*Lambda(r)) - 1)*e^(2*Phi(r)))*e^(-2*Lambda(r))/r^2 dt*dt + (2*r*d(Phi)/dr - e^(2*Lambda(r)) + 1)/r^2 dr*dr + (r^2*(d(Phi)/dr)^2 + r^2*d^2(Phi)/dr^2 - r*d(Lambda)/dr - (r^2*d(Lambda)/dr - r)*d(Phi)/dr)*e^(-2*Lambda(r)) dth*dth + (r^2*(d(Phi)/dr)^2 + r^2*d^2(Phi)/dr^2 - r*d(Lambda)/dr - (r^2*d(Lambda)/dr - r)*d(Phi)/dr)*e^(-2*Lambda(r))*sin(th)^2 dph*dph"
      ]
     },
     "execution_count": 16,
     "metadata": {},
     "output_type": "execute_result"
    }
   ],
   "source": [
    "Gab.display()"
   ]
  },
  {
   "cell_type": "code",
   "execution_count": 17,
   "metadata": {},
   "outputs": [
    {
     "data": {
      "text/html": [
       "<html><script type=\"math/tex; mode=display\">\\newcommand{\\Bold}[1]{\\mathbf{#1}}\\frac{{\\left(2 \\, r e^{\\left(2 \\, \\Phi\\left(r\\right)\\right)} \\frac{\\partial}{\\partial r}\\Lambda\\left(r\\right) + {\\left(e^{\\left(2 \\, \\Lambda\\left(r\\right)\\right)} - 1\\right)} e^{\\left(2 \\, \\Phi\\left(r\\right)\\right)}\\right)} e^{\\left(-2 \\, \\Lambda\\left(r\\right)\\right)}}{r^{2}}</script></html>"
      ],
      "text/plain": [
       "(2*r*e^(2*Phi(r))*diff(Lambda(r), r) + (e^(2*Lambda(r)) - 1)*e^(2*Phi(r)))*e^(-2*Lambda(r))/r^2"
      ]
     },
     "execution_count": 17,
     "metadata": {},
     "output_type": "execute_result"
    }
   ],
   "source": [
    "Gab[0,0].expr().simplify_full()"
   ]
  },
  {
   "cell_type": "markdown",
   "metadata": {},
   "source": [
    "## Matter"
   ]
  },
  {
   "cell_type": "markdown",
   "metadata": {},
   "source": [
    "### Energy-Momentum Tensor"
   ]
  },
  {
   "cell_type": "markdown",
   "metadata": {},
   "source": [
    "Consider a perfect fluid"
   ]
  },
  {
   "cell_type": "code",
   "execution_count": 18,
   "metadata": {},
   "outputs": [
    {
     "data": {
      "text/html": [
       "<html><script type=\"math/tex; mode=display\">\\newcommand{\\Bold}[1]{\\mathbf{#1}}u = e^{\\left(-\\Phi\\left(r\\right)\\right)} \\frac{\\partial}{\\partial t }</script></html>"
      ],
      "text/plain": [
       "u = e^(-Phi(r)) d/dt"
      ]
     },
     "execution_count": 18,
     "metadata": {},
     "output_type": "execute_result"
    }
   ],
   "source": [
    "u = M.vector_field('u')\n",
    "u[0] = exp(-Phi(r)) # g(u,u) = -1\n",
    "u.display()"
   ]
  },
  {
   "cell_type": "code",
   "execution_count": 19,
   "metadata": {},
   "outputs": [
    {
     "data": {
      "text/html": [
       "<html><script type=\"math/tex; mode=display\">\\newcommand{\\Bold}[1]{\\mathbf{#1}}\\begin{array}{llcl} g\\left(u,u\\right):& \\mathcal{M} & \\longrightarrow & \\mathbb{R} \\\\ & \\left(t, r, {\\theta}, {\\phi}\\right) & \\longmapsto & -1 \\end{array}</script></html>"
      ],
      "text/plain": [
       "g(u,u): M --> R\n",
       "   (t, r, th, ph) |--> -1"
      ]
     },
     "execution_count": 19,
     "metadata": {},
     "output_type": "execute_result"
    }
   ],
   "source": [
    "g(u,u).display() # Check"
   ]
  },
  {
   "cell_type": "code",
   "execution_count": 20,
   "metadata": {},
   "outputs": [
    {
     "data": {
      "text/html": [
       "<html><script type=\"math/tex; mode=display\">\\newcommand{\\Bold}[1]{\\mathbf{#1}}-e^{\\Phi\\left(r\\right)} \\mathrm{d} t</script></html>"
      ],
      "text/plain": [
       "-e^Phi(r) dt"
      ]
     },
     "execution_count": 20,
     "metadata": {},
     "output_type": "execute_result"
    }
   ],
   "source": [
    "u_form = u.down(g)\n",
    "u_form.display()"
   ]
  },
  {
   "cell_type": "markdown",
   "metadata": {},
   "source": [
    "$$ T_{ab} = (\\rho + P)u_a u_b + Pg_{ab} $$\n",
    "\n",
    "or index-free notation\n",
    "\n",
    "$$ T = (\\rho + P) u \\otimes u + P g $$"
   ]
  },
  {
   "cell_type": "code",
   "execution_count": 21,
   "metadata": {},
   "outputs": [
    {
     "data": {
      "text/html": [
       "<html><script type=\"math/tex; mode=display\">\\newcommand{\\Bold}[1]{\\mathbf{#1}}T = e^{\\left(2 \\, \\Phi\\left(r\\right)\\right)} \\rho\\left(r\\right) \\mathrm{d} t\\otimes \\mathrm{d} t + P\\left(r\\right) e^{\\left(2 \\, \\Lambda\\left(r\\right)\\right)} \\mathrm{d} r\\otimes \\mathrm{d} r + r^{2} P\\left(r\\right) \\mathrm{d} {\\theta}\\otimes \\mathrm{d} {\\theta} + r^{2} P\\left(r\\right) \\sin\\left({\\theta}\\right)^{2} \\mathrm{d} {\\phi}\\otimes \\mathrm{d} {\\phi}</script></html>"
      ],
      "text/plain": [
       "T = e^(2*Phi(r))*rho(r) dt*dt + P(r)*e^(2*Lambda(r)) dr*dr + r^2*P(r) dth*dth + r^2*P(r)*sin(th)^2 dph*dph"
      ]
     },
     "execution_count": 21,
     "metadata": {},
     "output_type": "execute_result"
    }
   ],
   "source": [
    "rho = function('rho')\n",
    "P = function('P')\n",
    "T = (rho(r) + P(r)) * (u_form * u_form) + P(r) * g\n",
    "T.set_name('T')\n",
    "T.display()"
   ]
  },
  {
   "cell_type": "code",
   "execution_count": 22,
   "metadata": {},
   "outputs": [
    {
     "data": {
      "text/html": [
       "<html><script type=\"math/tex; mode=display\">\\newcommand{\\Bold}[1]{\\mathbf{#1}}\\begin{array}{llcl} T\\left(u,u\\right):& \\mathcal{M} & \\longrightarrow & \\mathbb{R} \\\\ & \\left(t, r, {\\theta}, {\\phi}\\right) & \\longmapsto & \\rho\\left(r\\right) \\end{array}</script></html>"
      ],
      "text/plain": [
       "T(u,u): M --> R\n",
       "   (t, r, th, ph) |--> rho(r)"
      ]
     },
     "execution_count": 22,
     "metadata": {},
     "output_type": "execute_result"
    }
   ],
   "source": [
    "T(u,u).display()"
   ]
  },
  {
   "cell_type": "markdown",
   "metadata": {},
   "source": [
    "## Einstein Equation"
   ]
  },
  {
   "cell_type": "code",
   "execution_count": 23,
   "metadata": {},
   "outputs": [],
   "source": [
    "E = Gab - 8 * pi * T\n",
    "E.set_name('E')"
   ]
  },
  {
   "cell_type": "code",
   "execution_count": 24,
   "metadata": {},
   "outputs": [
    {
     "data": {
      "text/html": [
       "<html><script type=\"math/tex; mode=display\">\\newcommand{\\Bold}[1]{\\mathbf{#1}}\\begin{array}{lcl} E_{ \\, t \\, t }^{ \\phantom{\\, t}\\phantom{\\, t} } & = & -\\frac{{\\left(8 \\, \\pi r^{2} e^{\\left(2 \\, \\Lambda\\left(r\\right) + 2 \\, \\Phi\\left(r\\right)\\right)} \\rho\\left(r\\right) - 2 \\, r e^{\\left(2 \\, \\Phi\\left(r\\right)\\right)} \\frac{\\partial\\,\\Lambda}{\\partial r} - {\\left(e^{\\left(2 \\, \\Lambda\\left(r\\right)\\right)} - 1\\right)} e^{\\left(2 \\, \\Phi\\left(r\\right)\\right)}\\right)} e^{\\left(-2 \\, \\Lambda\\left(r\\right)\\right)}}{r^{2}} \\\\ E_{ \\, r \\, r }^{ \\phantom{\\, r}\\phantom{\\, r} } & = & -\\frac{8 \\, \\pi r^{2} P\\left(r\\right) e^{\\left(2 \\, \\Lambda\\left(r\\right)\\right)} - 2 \\, r \\frac{\\partial\\,\\Phi}{\\partial r} + e^{\\left(2 \\, \\Lambda\\left(r\\right)\\right)} - 1}{r^{2}} \\\\ E_{ \\, {\\theta} \\, {\\theta} }^{ \\phantom{\\, {\\theta}}\\phantom{\\, {\\theta}} } & = & -{\\left(8 \\, \\pi r^{2} P\\left(r\\right) e^{\\left(2 \\, \\Lambda\\left(r\\right)\\right)} - r^{2} \\left(\\frac{\\partial\\,\\Phi}{\\partial r}\\right)^{2} - r^{2} \\frac{\\partial^2\\,\\Phi}{\\partial r ^ 2} + r \\frac{\\partial\\,\\Lambda}{\\partial r} + {\\left(r^{2} \\frac{\\partial\\,\\Lambda}{\\partial r} - r\\right)} \\frac{\\partial\\,\\Phi}{\\partial r}\\right)} e^{\\left(-2 \\, \\Lambda\\left(r\\right)\\right)} \\\\ E_{ \\, {\\phi} \\, {\\phi} }^{ \\phantom{\\, {\\phi}}\\phantom{\\, {\\phi}} } & = & -{\\left(8 \\, \\pi r^{2} P\\left(r\\right) e^{\\left(2 \\, \\Lambda\\left(r\\right)\\right)} - r^{2} \\left(\\frac{\\partial\\,\\Phi}{\\partial r}\\right)^{2} - r^{2} \\frac{\\partial^2\\,\\Phi}{\\partial r ^ 2} + r \\frac{\\partial\\,\\Lambda}{\\partial r} + {\\left(r^{2} \\frac{\\partial\\,\\Lambda}{\\partial r} - r\\right)} \\frac{\\partial\\,\\Phi}{\\partial r}\\right)} e^{\\left(-2 \\, \\Lambda\\left(r\\right)\\right)} \\sin\\left({\\theta}\\right)^{2} \\end{array}</script></html>"
      ],
      "text/plain": [
       "E_t,t = -(8*pi*r^2*e^(2*Lambda(r) + 2*Phi(r))*rho(r) - 2*r*e^(2*Phi(r))*d(Lambda)/dr - (e^(2*Lambda(r)) - 1)*e^(2*Phi(r)))*e^(-2*Lambda(r))/r^2 \n",
       "E_r,r = -(8*pi*r^2*P(r)*e^(2*Lambda(r)) - 2*r*d(Phi)/dr + e^(2*Lambda(r)) - 1)/r^2 \n",
       "E_th,th = -(8*pi*r^2*P(r)*e^(2*Lambda(r)) - r^2*(d(Phi)/dr)^2 - r^2*d^2(Phi)/dr^2 + r*d(Lambda)/dr + (r^2*d(Lambda)/dr - r)*d(Phi)/dr)*e^(-2*Lambda(r)) \n",
       "E_ph,ph = -(8*pi*r^2*P(r)*e^(2*Lambda(r)) - r^2*(d(Phi)/dr)^2 - r^2*d^2(Phi)/dr^2 + r*d(Lambda)/dr + (r^2*d(Lambda)/dr - r)*d(Phi)/dr)*e^(-2*Lambda(r))*sin(th)^2 "
      ]
     },
     "execution_count": 24,
     "metadata": {},
     "output_type": "execute_result"
    }
   ],
   "source": [
    "E.display_comp()"
   ]
  },
  {
   "cell_type": "markdown",
   "metadata": {},
   "source": [
    "Now, we can give the condition of $\\Lambda(r)$"
   ]
  },
  {
   "cell_type": "code",
   "execution_count": 25,
   "metadata": {},
   "outputs": [
    {
     "data": {
      "text/html": [
       "<html><script type=\"math/tex; mode=display\">\\newcommand{\\Bold}[1]{\\mathbf{#1}}\\rho\\left(r\\right) = \\frac{2 \\, r e^{\\left(-2 \\, \\Lambda\\left(r\\right)\\right)} \\frac{\\partial}{\\partial r}\\Lambda\\left(r\\right) - e^{\\left(-2 \\, \\Lambda\\left(r\\right)\\right)} + 1}{8 \\, \\pi r^{2}}</script></html>"
      ],
      "text/plain": [
       "rho(r) == 1/8*(2*r*e^(-2*Lambda(r))*diff(Lambda(r), r) - e^(-2*Lambda(r)) + 1)/(pi*r^2)"
      ]
     },
     "execution_count": 25,
     "metadata": {},
     "output_type": "execute_result"
    }
   ],
   "source": [
    "solve(E[0,0].expr() == 0, rho(r))[0]"
   ]
  },
  {
   "cell_type": "markdown",
   "metadata": {},
   "source": [
    "Since $ 4\\pi \\rho r^2 = \\dfrac{dm(r)}{dr}$,\n",
    "$$ \\frac{d}{dr} \\left[r(1 - e^{-2\\Lambda}) \\right] = 2\\frac{dm(r)}{dr}$$\n",
    "\n",
    "$$ \\therefore 2m(r) = r(1 - e^{-2\\Lambda}) \\Rightarrow e^{-2\\Lambda} = 1 - \\frac{2m}{r}$$"
   ]
  },
  {
   "cell_type": "markdown",
   "metadata": {},
   "source": [
    "## TOV Equations"
   ]
  },
  {
   "cell_type": "code",
   "execution_count": 26,
   "metadata": {},
   "outputs": [],
   "source": [
    "TOV0 = (diff(m(r), r) == 4*pi*r^2*rho(r))"
   ]
  },
  {
   "cell_type": "code",
   "execution_count": 27,
   "metadata": {},
   "outputs": [
    {
     "data": {
      "text/html": [
       "<html><script type=\"math/tex; mode=display\">\\newcommand{\\Bold}[1]{\\mathbf{#1}}\\frac{\\partial}{\\partial r}\\Phi\\left(r\\right) = \\frac{4 \\, \\pi r^{3} P\\left(r\\right) + m\\left(r\\right)}{r^{2} - 2 \\, r m\\left(r\\right)}</script></html>"
      ],
      "text/plain": [
       "diff(Phi(r), r) == (4*pi*r^3*P(r) + m(r))/(r^2 - 2*r*m(r))"
      ]
     },
     "execution_count": 27,
     "metadata": {},
     "output_type": "execute_result"
    }
   ],
   "source": [
    "TOV1_sol = solve(E[1,1].expr() == 0, diff(Phi(r), r))\n",
    "TOV1 = expand(TOV1_sol[0].subs(exp(2*Lambda(r)) == 1 / (1 - 2*m(r)/r)))\n",
    "TOV1.simplify_full()"
   ]
  },
  {
   "cell_type": "code",
   "execution_count": 28,
   "metadata": {},
   "outputs": [
    {
     "data": {
      "text/html": [
       "<html><script type=\"math/tex; mode=display\">\\newcommand{\\Bold}[1]{\\mathbf{#1}}\\left( {\\left(P\\left(r\\right) + \\rho\\left(r\\right)\\right)} \\frac{\\partial\\,\\Phi}{\\partial r} + \\frac{\\partial\\,P}{\\partial r} \\right) \\mathrm{d} r</script></html>"
      ],
      "text/plain": [
       "((P(r) + rho(r))*d(Phi)/dr + d(P)/dr) dr"
      ]
     },
     "execution_count": 28,
     "metadata": {},
     "output_type": "execute_result"
    }
   ],
   "source": [
    "# By energy conservation\n",
    "dTu = nab(T.up(g, 0))\n",
    "divT = dTu['^b_{ab}']\n",
    "divT.display()"
   ]
  },
  {
   "cell_type": "code",
   "execution_count": 29,
   "metadata": {},
   "outputs": [
    {
     "data": {
      "text/html": [
       "<html><script type=\"math/tex; mode=display\">\\newcommand{\\Bold}[1]{\\mathbf{#1}}\\frac{\\partial}{\\partial r}P\\left(r\\right) = -{\\left(P\\left(r\\right) + \\rho\\left(r\\right)\\right)} \\frac{\\partial}{\\partial r}\\Phi\\left(r\\right)</script></html>"
      ],
      "text/plain": [
       "diff(P(r), r) == -(P(r) + rho(r))*diff(Phi(r), r)"
      ]
     },
     "execution_count": 29,
     "metadata": {},
     "output_type": "execute_result"
    }
   ],
   "source": [
    "TOV2_sol = solve(divT[1].expr() == 0, diff(P(r), r))\n",
    "TOV2 = TOV2_sol[0]\n",
    "TOV2"
   ]
  },
  {
   "cell_type": "code",
   "execution_count": 30,
   "metadata": {},
   "outputs": [
    {
     "data": {
      "text/html": [
       "<html><script type=\"math/tex; mode=display\">\\newcommand{\\Bold}[1]{\\mathbf{#1}}\\frac{\\partial}{\\partial r}m\\left(r\\right) = 4 \\, \\pi r^{2} \\rho\\left(r\\right)</script></html>"
      ],
      "text/plain": [
       "diff(m(r), r) == 4*pi*r^2*rho(r)"
      ]
     },
     "metadata": {},
     "output_type": "display_data"
    },
    {
     "data": {
      "text/html": [
       "<html><script type=\"math/tex; mode=display\">\\newcommand{\\Bold}[1]{\\mathbf{#1}}\\frac{\\partial}{\\partial r}\\Phi\\left(r\\right) = \\frac{4 \\, \\pi r^{3} P\\left(r\\right) + m\\left(r\\right)}{r^{2} - 2 \\, r m\\left(r\\right)}</script></html>"
      ],
      "text/plain": [
       "diff(Phi(r), r) == (4*pi*r^3*P(r) + m(r))/(r^2 - 2*r*m(r))"
      ]
     },
     "metadata": {},
     "output_type": "display_data"
    },
    {
     "data": {
      "text/html": [
       "<html><script type=\"math/tex; mode=display\">\\newcommand{\\Bold}[1]{\\mathbf{#1}}\\frac{\\partial}{\\partial r}P\\left(r\\right) = -{\\left(P\\left(r\\right) + \\rho\\left(r\\right)\\right)} \\frac{\\partial}{\\partial r}\\Phi\\left(r\\right)</script></html>"
      ],
      "text/plain": [
       "diff(P(r), r) == -(P(r) + rho(r))*diff(Phi(r), r)"
      ]
     },
     "metadata": {},
     "output_type": "display_data"
    }
   ],
   "source": [
    "for eq in [TOV0, TOV1.simplify_full(), TOV2]:\n",
    "    show(eq)"
   ]
  },
  {
   "cell_type": "markdown",
   "metadata": {},
   "source": [
    "## Schwarzschild Metric"
   ]
  },
  {
   "cell_type": "markdown",
   "metadata": {},
   "source": [
    "* Outside is vacuum: $\\rho = P = 0$\n",
    "* Static mass: $m(r \\geq R) = M$\n",
    "\n",
    "$$ e^{2\\Lambda} = \\left(1 - \\frac{2M}{r} \\right)^{-1}$$"
   ]
  },
  {
   "cell_type": "markdown",
   "metadata": {},
   "source": [
    "* There is no matter: $T = 0$\n",
    "* Einstein eq: $G_{\\mu\\nu} = 0$"
   ]
  },
  {
   "cell_type": "code",
   "execution_count": 31,
   "metadata": {},
   "outputs": [],
   "source": [
    "ES = Gab"
   ]
  },
  {
   "cell_type": "code",
   "execution_count": 34,
   "metadata": {},
   "outputs": [],
   "source": [
    "ES.set_name(r'E_{sch}')"
   ]
  },
  {
   "cell_type": "code",
   "execution_count": 35,
   "metadata": {},
   "outputs": [
    {
     "data": {
      "text/html": [
       "<html><script type=\"math/tex; mode=display\">\\newcommand{\\Bold}[1]{\\mathbf{#1}}E_{sch}</script></html>"
      ],
      "text/plain": [
       "Field of symmetric bilinear forms E_{sch} on the 4-dimensional differentiable manifold M"
      ]
     },
     "execution_count": 35,
     "metadata": {},
     "output_type": "execute_result"
    }
   ],
   "source": [
    "ES"
   ]
  },
  {
   "cell_type": "code",
   "execution_count": 39,
   "metadata": {},
   "outputs": [
    {
     "data": {
      "text/html": [
       "<html><script type=\"math/tex; mode=display\">\\newcommand{\\Bold}[1]{\\mathbf{#1}}\\frac{\\partial}{\\partial r}\\Phi\\left(r\\right) = \\frac{e^{\\left(2 \\, \\Lambda\\left(r\\right)\\right)} - 1}{2 \\, r}</script></html>"
      ],
      "text/plain": [
       "diff(Phi(r), r) == 1/2*(e^(2*Lambda(r)) - 1)/r"
      ]
     },
     "execution_count": 39,
     "metadata": {},
     "output_type": "execute_result"
    }
   ],
   "source": [
    "solve(ES[1,1].expr() == 0, diff(Phi(r), r))[0]"
   ]
  }
 ],
 "metadata": {
  "kernelspec": {
   "display_name": "SageMath 8.7",
   "language": "",
   "name": "sagemath"
  },
  "language_info": {
   "codemirror_mode": {
    "name": "ipython",
    "version": 2
   },
   "file_extension": ".py",
   "mimetype": "text/x-python",
   "name": "python",
   "nbconvert_exporter": "python",
   "pygments_lexer": "ipython2",
   "version": "2.7.16"
  }
 },
 "nbformat": 4,
 "nbformat_minor": 2
}
