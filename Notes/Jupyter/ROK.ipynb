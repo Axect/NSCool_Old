{
 "cells": [
  {
   "cell_type": "markdown",
   "metadata": {},
   "source": [
    "# Rosenbrock-Krylov Method\n",
    "\n",
    "**Ref: 1305.5481**"
   ]
  },
  {
   "cell_type": "markdown",
   "metadata": {},
   "source": [
    "## Target Equation\n",
    "\n",
    "$$ \\frac{dy}{dt} = f(t, y) $$\n",
    "\n",
    "$$ y(t_0) = y_0$$\n",
    "$$ y(t),~f(t,y)\\in \\mathbb{R}^n$$"
   ]
  },
  {
   "cell_type": "markdown",
   "metadata": {},
   "source": [
    "## Notation"
   ]
  },
  {
   "cell_type": "markdown",
   "metadata": {},
   "source": [
    "* Jacobian\n",
    "$$ J_n = f_y(t_n, y_n) $$\n",
    "\n",
    "* derivative value\n",
    "$$ f_n = f(t, y_n) $$\n",
    "\n",
    "* coefficients\n",
    "\n",
    "$$ \\alpha_i = \\sum_{j=1}^{i-1}\\alpha_{ij} $$\n",
    "\n",
    "$$ \\gamma_i = \\sum_{j=1}^i \\gamma_{ij} $$\n",
    "\n",
    "$$\\beta_{ij} = \\alpha_{ij} + \\gamma_{ij}$$"
   ]
  },
  {
   "cell_type": "markdown",
   "metadata": {},
   "source": [
    "Coeff | Value | Coeff | Value\n",
    ":---: | :---: | :---: | :---:\n",
    "$\\gamma$ | 0.572816062482135 \n",
    "$\\alpha_{21}$ |  1 | $\\gamma_{21}$ | -1.91153192976055097824\n",
    "$\\alpha_{31}$ | 0.10845300169319391758 | $\\gamma_{31}$ | 0.32881824061153522156 \n",
    "$\\alpha_{32}$ | 0.39154699830680608241 | $\\gamma_{32}$ | 0\n",
    "$\\alpha_{41}$ | 0.43453047756004477624 | $\\gamma_{41}$ | 0.03303644239795811290\n",
    "$\\alpha_{42}$ | 0.14484349252001492541 | $\\gamma_{42}$ | -0.24375152376108235312\n",
    "$\\alpha_{43}$ | -0.07937397008005970166 | $\\gamma_{43}$ | -0.17062602991994029834\n",
    "$b_1$ | 0.16666666666666666667 | $\\hat{b_1}$ | 0.50269322573684235345\n",
    "$b_2$ | 0.16666666666666666667 | $\\hat{b_2}$ | 0.27867551969005856226\n",
    "$b_3$ | 0.0 | $\\hat{b_3}$ | 0.21863125457309908428\n",
    "$b_4$ | 0.66666666666666666667 | $\\hat{b_4}$ | 0"
   ]
  },
  {
   "cell_type": "markdown",
   "metadata": {},
   "source": [
    "## Algorithm"
   ]
  },
  {
   "cell_type": "markdown",
   "metadata": {},
   "source": [
    "### Modified Arnoldi Iteration\n",
    "\n",
    "![](modified_arnoldi.png)"
   ]
  },
  {
   "cell_type": "markdown",
   "metadata": {},
   "source": [
    "### One step of non-autonomous Rosenbrock-K integrator\n",
    "\n",
    "![](rok.png)"
   ]
  }
 ],
 "metadata": {
  "kernelspec": {
   "display_name": "SageMath 8.4",
   "language": "",
   "name": "sagemath"
  },
  "language_info": {
   "codemirror_mode": {
    "name": "ipython",
    "version": 2
   },
   "file_extension": ".py",
   "mimetype": "text/x-python",
   "name": "python",
   "nbconvert_exporter": "python",
   "pygments_lexer": "ipython2",
   "version": "2.7.15"
  }
 },
 "nbformat": 4,
 "nbformat_minor": 2
}
