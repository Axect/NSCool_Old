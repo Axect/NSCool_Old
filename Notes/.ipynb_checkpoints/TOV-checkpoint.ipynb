{
 "cells": [
  {
   "cell_type": "markdown",
   "metadata": {},
   "source": [
    "# Tolman-Oppenheimer-Volkoff Equation"
   ]
  },
  {
   "cell_type": "code",
   "execution_count": 1,
   "metadata": {},
   "outputs": [],
   "source": [
    "%display latex"
   ]
  },
  {
   "cell_type": "markdown",
   "metadata": {},
   "source": [
    "### Define Manifold & Chart"
   ]
  },
  {
   "cell_type": "code",
   "execution_count": 2,
   "metadata": {},
   "outputs": [],
   "source": [
    "M = Manifold(4, 'M', latex_name=r'\\mathcal{M}')"
   ]
  },
  {
   "cell_type": "code",
   "execution_count": 3,
   "metadata": {},
   "outputs": [
    {
     "data": {
      "text/html": [
       "<html><script type=\"math/tex; mode=display\">\\newcommand{\\Bold}[1]{\\mathbf{#1}}\\mathcal{M}</script></html>"
      ],
      "text/plain": [
       "4-dimensional differentiable manifold M"
      ]
     },
     "execution_count": 3,
     "metadata": {},
     "output_type": "execute_result"
    }
   ],
   "source": [
    "M"
   ]
  },
  {
   "cell_type": "code",
   "execution_count": 4,
   "metadata": {},
   "outputs": [],
   "source": [
    "sch.<t,r,th,ph> = M.chart(r't r:[0,+oo) th:[0,pi]:\\theta ph:[0,2pi):\\phi')"
   ]
  },
  {
   "cell_type": "code",
   "execution_count": 5,
   "metadata": {},
   "outputs": [
    {
     "data": {
      "text/html": [
       "<html><script type=\"math/tex; mode=display\">\\newcommand{\\Bold}[1]{\\mathbf{#1}}\\left(\\mathcal{M},(t, r, {\\theta}, {\\phi})\\right)</script></html>"
      ],
      "text/plain": [
       "Chart (M, (t, r, th, ph))"
      ]
     },
     "execution_count": 5,
     "metadata": {},
     "output_type": "execute_result"
    }
   ],
   "source": [
    "sch"
   ]
  },
  {
   "cell_type": "markdown",
   "metadata": {},
   "source": [
    "### Define static spherical symmetric metric"
   ]
  },
  {
   "cell_type": "code",
   "execution_count": 6,
   "metadata": {},
   "outputs": [],
   "source": [
    "m = function('m')\n",
    "Phi = function('Phi')"
   ]
  },
  {
   "cell_type": "code",
   "execution_count": 7,
   "metadata": {},
   "outputs": [],
   "source": [
    "g = M.lorentzian_metric('g')\n",
    "g[0,0] = -exp(2*Phi(r))\n",
    "g[1,1] = 1/(1 - 2 * m(r)/r)\n",
    "g[2,2] = r^2\n",
    "g[3,3] = r^2 * (sin(th))^2"
   ]
  },
  {
   "cell_type": "code",
   "execution_count": 8,
   "metadata": {},
   "outputs": [
    {
     "data": {
      "text/html": [
       "<html><script type=\"math/tex; mode=display\">\\newcommand{\\Bold}[1]{\\mathbf{#1}}g = -e^{\\left(2 \\, \\Phi\\left(r\\right)\\right)} \\mathrm{d} t\\otimes \\mathrm{d} t + \\left( -\\frac{1}{\\frac{2 \\, m\\left(r\\right)}{r} - 1} \\right) \\mathrm{d} r\\otimes \\mathrm{d} r + r^{2} \\mathrm{d} {\\theta}\\otimes \\mathrm{d} {\\theta} + r^{2} \\sin\\left({\\theta}\\right)^{2} \\mathrm{d} {\\phi}\\otimes \\mathrm{d} {\\phi}</script></html>"
      ],
      "text/plain": [
       "g = -e^(2*Phi(r)) dt*dt - 1/(2*m(r)/r - 1) dr*dr + r^2 dth*dth + r^2*sin(th)^2 dph*dph"
      ]
     },
     "execution_count": 8,
     "metadata": {},
     "output_type": "execute_result"
    }
   ],
   "source": [
    "g.display()"
   ]
  },
  {
   "cell_type": "code",
   "execution_count": 9,
   "metadata": {},
   "outputs": [
    {
     "data": {
      "text/html": [
       "<html><script type=\"math/tex; mode=display\">\\newcommand{\\Bold}[1]{\\mathbf{#1}}\\begin{array}{lcl} g_{ \\, t \\, t }^{ \\phantom{\\, t}\\phantom{\\, t} } & = & -e^{\\left(2 \\, \\Phi\\left(r\\right)\\right)} \\\\ g_{ \\, r \\, r }^{ \\phantom{\\, r}\\phantom{\\, r} } & = & -\\frac{1}{\\frac{2 \\, m\\left(r\\right)}{r} - 1} \\\\ g_{ \\, {\\theta} \\, {\\theta} }^{ \\phantom{\\, {\\theta}}\\phantom{\\, {\\theta}} } & = & r^{2} \\\\ g_{ \\, {\\phi} \\, {\\phi} }^{ \\phantom{\\, {\\phi}}\\phantom{\\, {\\phi}} } & = & r^{2} \\sin\\left({\\theta}\\right)^{2} \\end{array}</script></html>"
      ],
      "text/plain": [
       "g_t,t = -e^(2*Phi(r)) \n",
       "g_r,r = -1/(2*m(r)/r - 1) \n",
       "g_th,th = r^2 \n",
       "g_ph,ph = r^2*sin(th)^2 "
      ]
     },
     "execution_count": 9,
     "metadata": {},
     "output_type": "execute_result"
    }
   ],
   "source": [
    "g.display_comp()"
   ]
  },
  {
   "cell_type": "markdown",
   "metadata": {},
   "source": [
    "### Levi-civita connection"
   ]
  },
  {
   "cell_type": "code",
   "execution_count": 10,
   "metadata": {},
   "outputs": [
    {
     "data": {
      "text/html": [
       "<html><script type=\"math/tex; mode=display\">\\newcommand{\\Bold}[1]{\\mathbf{#1}}\\begin{array}{lcl} \\Gamma_{ \\phantom{\\, t} \\, t \\, r }^{ \\, t \\phantom{\\, t} \\phantom{\\, r} } & = & \\frac{\\partial\\,\\Phi}{\\partial r} \\\\ \\Gamma_{ \\phantom{\\, r} \\, t \\, t }^{ \\, r \\phantom{\\, t} \\phantom{\\, t} } & = & \\frac{{\\left(r e^{\\left(2 \\, \\Phi\\left(r\\right)\\right)} - 2 \\, e^{\\left(2 \\, \\Phi\\left(r\\right)\\right)} m\\left(r\\right)\\right)} \\frac{\\partial\\,\\Phi}{\\partial r}}{r} \\\\ \\Gamma_{ \\phantom{\\, r} \\, r \\, r }^{ \\, r \\phantom{\\, r} \\phantom{\\, r} } & = & \\frac{r \\frac{\\partial\\,m}{\\partial r} - m\\left(r\\right)}{r^{2} - 2 \\, r m\\left(r\\right)} \\\\ \\Gamma_{ \\phantom{\\, r} \\, {\\theta} \\, {\\theta} }^{ \\, r \\phantom{\\, {\\theta}} \\phantom{\\, {\\theta}} } & = & -r + 2 \\, m\\left(r\\right) \\\\ \\Gamma_{ \\phantom{\\, r} \\, {\\phi} \\, {\\phi} }^{ \\, r \\phantom{\\, {\\phi}} \\phantom{\\, {\\phi}} } & = & -{\\left(r - 2 \\, m\\left(r\\right)\\right)} \\sin\\left({\\theta}\\right)^{2} \\\\ \\Gamma_{ \\phantom{\\, {\\theta}} \\, r \\, {\\theta} }^{ \\, {\\theta} \\phantom{\\, r} \\phantom{\\, {\\theta}} } & = & \\frac{1}{r} \\\\ \\Gamma_{ \\phantom{\\, {\\theta}} \\, {\\phi} \\, {\\phi} }^{ \\, {\\theta} \\phantom{\\, {\\phi}} \\phantom{\\, {\\phi}} } & = & -\\cos\\left({\\theta}\\right) \\sin\\left({\\theta}\\right) \\\\ \\Gamma_{ \\phantom{\\, {\\phi}} \\, r \\, {\\phi} }^{ \\, {\\phi} \\phantom{\\, r} \\phantom{\\, {\\phi}} } & = & \\frac{1}{r} \\\\ \\Gamma_{ \\phantom{\\, {\\phi}} \\, {\\theta} \\, {\\phi} }^{ \\, {\\phi} \\phantom{\\, {\\theta}} \\phantom{\\, {\\phi}} } & = & \\frac{\\cos\\left({\\theta}\\right)}{\\sin\\left({\\theta}\\right)} \\end{array}</script></html>"
      ],
      "text/plain": [
       "Gam^t_t,r = d(Phi)/dr \n",
       "Gam^r_t,t = (r*e^(2*Phi(r)) - 2*e^(2*Phi(r))*m(r))*d(Phi)/dr/r \n",
       "Gam^r_r,r = (r*d(m)/dr - m(r))/(r^2 - 2*r*m(r)) \n",
       "Gam^r_th,th = -r + 2*m(r) \n",
       "Gam^r_ph,ph = -(r - 2*m(r))*sin(th)^2 \n",
       "Gam^th_r,th = 1/r \n",
       "Gam^th_ph,ph = -cos(th)*sin(th) \n",
       "Gam^ph_r,ph = 1/r \n",
       "Gam^ph_th,ph = cos(th)/sin(th) "
      ]
     },
     "execution_count": 10,
     "metadata": {},
     "output_type": "execute_result"
    }
   ],
   "source": [
    "nab = g.connection()\n",
    "nab.display(only_nonredundant=true)"
   ]
  },
  {
   "cell_type": "markdown",
   "metadata": {},
   "source": [
    "### Riemann, Ricci Tensor"
   ]
  },
  {
   "cell_type": "code",
   "execution_count": 11,
   "metadata": {},
   "outputs": [],
   "source": [
    "riem = nab.riemann()\n",
    "ric = nab.ricci()"
   ]
  },
  {
   "cell_type": "code",
   "execution_count": 12,
   "metadata": {},
   "outputs": [
    {
     "name": "stdout",
     "output_type": "stream",
     "text": [
      "Tensor field Riem(g) of type (1,3) on the 4-dimensional differentiable manifold M\n",
      "Field of symmetric bilinear forms Ric(g) on the 4-dimensional differentiable manifold M\n"
     ]
    }
   ],
   "source": [
    "print(riem)\n",
    "print(ric)"
   ]
  },
  {
   "cell_type": "markdown",
   "metadata": {},
   "source": [
    "### Ricci scalar"
   ]
  },
  {
   "cell_type": "code",
   "execution_count": 13,
   "metadata": {},
   "outputs": [],
   "source": [
    "R = g.inverse()['^ab'] * ric['_ab']"
   ]
  },
  {
   "cell_type": "code",
   "execution_count": 14,
   "metadata": {},
   "outputs": [
    {
     "data": {
      "text/html": [
       "<html><script type=\"math/tex; mode=display\">\\newcommand{\\Bold}[1]{\\mathbf{#1}}\\begin{array}{llcl} & \\mathcal{M} & \\longrightarrow & \\mathbb{R} \\\\ & \\left(t, r, {\\theta}, {\\phi}\\right) & \\longmapsto & -\\frac{2 \\, {\\left({\\left(r^{2} - 2 \\, r m\\left(r\\right)\\right)} \\left(\\frac{\\partial\\,\\Phi}{\\partial r}\\right)^{2} + {\\left(2 \\, r - 3 \\, m\\left(r\\right)\\right)} \\frac{\\partial\\,\\Phi}{\\partial r} + {\\left(r^{2} - 2 \\, r m\\left(r\\right)\\right)} \\frac{\\partial^2\\,\\Phi}{\\partial r ^ 2} - {\\left(r \\frac{\\partial\\,\\Phi}{\\partial r} + 2\\right)} \\frac{\\partial\\,m}{\\partial r}\\right)}}{r^{2}} \\end{array}</script></html>"
      ],
      "text/plain": [
       "M --> R\n",
       "(t, r, th, ph) |--> -2*((r^2 - 2*r*m(r))*(d(Phi)/dr)^2 + (2*r - 3*m(r))*d(Phi)/dr + (r^2 - 2*r*m(r))*d^2(Phi)/dr^2 - (r*d(Phi)/dr + 2)*d(m)/dr)/r^2"
      ]
     },
     "execution_count": 14,
     "metadata": {},
     "output_type": "execute_result"
    }
   ],
   "source": [
    "R.display()"
   ]
  },
  {
   "cell_type": "markdown",
   "metadata": {},
   "source": [
    "### Einstein Tensor"
   ]
  },
  {
   "cell_type": "code",
   "execution_count": 15,
   "metadata": {},
   "outputs": [],
   "source": [
    "G = ric - 1/2 * g * R\n",
    "G.set_name(r'G_{ab}')"
   ]
  },
  {
   "cell_type": "code",
   "execution_count": 16,
   "metadata": {},
   "outputs": [
    {
     "data": {
      "text/html": [
       "<html><script type=\"math/tex; mode=display\">\\newcommand{\\Bold}[1]{\\mathbf{#1}}G_{ab} = \\frac{2 \\, e^{\\left(2 \\, \\Phi\\left(r\\right)\\right)} \\frac{\\partial\\,m}{\\partial r}}{r^{2}} \\mathrm{d} t\\otimes \\mathrm{d} t + \\left( \\frac{2 \\, {\\left({\\left(r^{2} - 2 \\, r m\\left(r\\right)\\right)} \\frac{\\partial\\,\\Phi}{\\partial r} - m\\left(r\\right)\\right)}}{r^{3} - 2 \\, r^{2} m\\left(r\\right)} \\right) \\mathrm{d} r\\otimes \\mathrm{d} r + \\left( \\frac{{\\left(r^{3} - 2 \\, r^{2} m\\left(r\\right)\\right)} \\left(\\frac{\\partial\\,\\Phi}{\\partial r}\\right)^{2} + {\\left(r^{2} - r m\\left(r\\right)\\right)} \\frac{\\partial\\,\\Phi}{\\partial r} + {\\left(r^{3} - 2 \\, r^{2} m\\left(r\\right)\\right)} \\frac{\\partial^2\\,\\Phi}{\\partial r ^ 2} - {\\left(r^{2} \\frac{\\partial\\,\\Phi}{\\partial r} + r\\right)} \\frac{\\partial\\,m}{\\partial r} + m\\left(r\\right)}{r} \\right) \\mathrm{d} {\\theta}\\otimes \\mathrm{d} {\\theta} + \\frac{{\\left({\\left(r^{3} - 2 \\, r^{2} m\\left(r\\right)\\right)} \\left(\\frac{\\partial\\,\\Phi}{\\partial r}\\right)^{2} + {\\left(r^{2} - r m\\left(r\\right)\\right)} \\frac{\\partial\\,\\Phi}{\\partial r} + {\\left(r^{3} - 2 \\, r^{2} m\\left(r\\right)\\right)} \\frac{\\partial^2\\,\\Phi}{\\partial r ^ 2} - {\\left(r^{2} \\frac{\\partial\\,\\Phi}{\\partial r} + r\\right)} \\frac{\\partial\\,m}{\\partial r} + m\\left(r\\right)\\right)} \\sin\\left({\\theta}\\right)^{2}}{r} \\mathrm{d} {\\phi}\\otimes \\mathrm{d} {\\phi}</script></html>"
      ],
      "text/plain": [
       "G_{ab} = 2*e^(2*Phi(r))*d(m)/dr/r^2 dt*dt + 2*((r^2 - 2*r*m(r))*d(Phi)/dr - m(r))/(r^3 - 2*r^2*m(r)) dr*dr + ((r^3 - 2*r^2*m(r))*(d(Phi)/dr)^2 + (r^2 - r*m(r))*d(Phi)/dr + (r^3 - 2*r^2*m(r))*d^2(Phi)/dr^2 - (r^2*d(Phi)/dr + r)*d(m)/dr + m(r))/r dth*dth + ((r^3 - 2*r^2*m(r))*(d(Phi)/dr)^2 + (r^2 - r*m(r))*d(Phi)/dr + (r^3 - 2*r^2*m(r))*d^2(Phi)/dr^2 - (r^2*d(Phi)/dr + r)*d(m)/dr + m(r))*sin(th)^2/r dph*dph"
      ]
     },
     "execution_count": 16,
     "metadata": {},
     "output_type": "execute_result"
    }
   ],
   "source": [
    "G.display()"
   ]
  },
  {
   "cell_type": "markdown",
   "metadata": {},
   "source": [
    "## Matter"
   ]
  },
  {
   "cell_type": "markdown",
   "metadata": {},
   "source": [
    "### Energy-Momentum Tensor"
   ]
  },
  {
   "cell_type": "markdown",
   "metadata": {},
   "source": [
    "Consider a perfect fluid"
   ]
  },
  {
   "cell_type": "code",
   "execution_count": 17,
   "metadata": {},
   "outputs": [
    {
     "data": {
      "text/html": [
       "<html><script type=\"math/tex; mode=display\">\\newcommand{\\Bold}[1]{\\mathbf{#1}}u = e^{\\left(-\\Phi\\left(r\\right)\\right)} \\frac{\\partial}{\\partial t }</script></html>"
      ],
      "text/plain": [
       "u = e^(-Phi(r)) d/dt"
      ]
     },
     "execution_count": 17,
     "metadata": {},
     "output_type": "execute_result"
    }
   ],
   "source": [
    "u = M.vector_field('u')\n",
    "u[0] = exp(-Phi(r)) # g(u,u) = -1\n",
    "u.display()"
   ]
  },
  {
   "cell_type": "code",
   "execution_count": 18,
   "metadata": {},
   "outputs": [
    {
     "data": {
      "text/html": [
       "<html><script type=\"math/tex; mode=display\">\\newcommand{\\Bold}[1]{\\mathbf{#1}}\\begin{array}{llcl} g\\left(u,u\\right):& \\mathcal{M} & \\longrightarrow & \\mathbb{R} \\\\ & \\left(t, r, {\\theta}, {\\phi}\\right) & \\longmapsto & -1 \\end{array}</script></html>"
      ],
      "text/plain": [
       "g(u,u): M --> R\n",
       "   (t, r, th, ph) |--> -1"
      ]
     },
     "execution_count": 18,
     "metadata": {},
     "output_type": "execute_result"
    }
   ],
   "source": [
    "g(u,u).display() # Check"
   ]
  },
  {
   "cell_type": "code",
   "execution_count": 19,
   "metadata": {},
   "outputs": [
    {
     "data": {
      "text/html": [
       "<html><script type=\"math/tex; mode=display\">\\newcommand{\\Bold}[1]{\\mathbf{#1}}-e^{\\Phi\\left(r\\right)} \\mathrm{d} t</script></html>"
      ],
      "text/plain": [
       "-e^Phi(r) dt"
      ]
     },
     "execution_count": 19,
     "metadata": {},
     "output_type": "execute_result"
    }
   ],
   "source": [
    "u_form = u.down(g)\n",
    "u_form.display()"
   ]
  },
  {
   "cell_type": "markdown",
   "metadata": {},
   "source": [
    "$$ T_{ab} = (\\rho + P)u_a u_b + Pg_{ab} $$\n",
    "\n",
    "or index-free notation\n",
    "\n",
    "$$ T = (\\rho + P) u \\otimes u + P g $$"
   ]
  },
  {
   "cell_type": "code",
   "execution_count": 20,
   "metadata": {},
   "outputs": [
    {
     "data": {
      "text/html": [
       "<html><script type=\"math/tex; mode=display\">\\newcommand{\\Bold}[1]{\\mathbf{#1}}T = e^{\\left(2 \\, \\Phi\\left(r\\right)\\right)} \\rho\\left(r\\right) \\mathrm{d} t\\otimes \\mathrm{d} t + \\left( \\frac{r P\\left(r\\right)}{r - 2 \\, m\\left(r\\right)} \\right) \\mathrm{d} r\\otimes \\mathrm{d} r + r^{2} P\\left(r\\right) \\mathrm{d} {\\theta}\\otimes \\mathrm{d} {\\theta} + r^{2} P\\left(r\\right) \\sin\\left({\\theta}\\right)^{2} \\mathrm{d} {\\phi}\\otimes \\mathrm{d} {\\phi}</script></html>"
      ],
      "text/plain": [
       "T = e^(2*Phi(r))*rho(r) dt*dt + r*P(r)/(r - 2*m(r)) dr*dr + r^2*P(r) dth*dth + r^2*P(r)*sin(th)^2 dph*dph"
      ]
     },
     "execution_count": 20,
     "metadata": {},
     "output_type": "execute_result"
    }
   ],
   "source": [
    "rho = function('rho')\n",
    "P = function('P')\n",
    "T = (rho(r) + P(r)) * (u_form * u_form) + P(r) * g\n",
    "T.set_name('T')\n",
    "T.display()"
   ]
  },
  {
   "cell_type": "code",
   "execution_count": 21,
   "metadata": {},
   "outputs": [
    {
     "data": {
      "text/html": [
       "<html><script type=\"math/tex; mode=display\">\\newcommand{\\Bold}[1]{\\mathbf{#1}}\\begin{array}{llcl} T\\left(u,u\\right):& \\mathcal{M} & \\longrightarrow & \\mathbb{R} \\\\ & \\left(t, r, {\\theta}, {\\phi}\\right) & \\longmapsto & \\rho\\left(r\\right) \\end{array}</script></html>"
      ],
      "text/plain": [
       "T(u,u): M --> R\n",
       "   (t, r, th, ph) |--> rho(r)"
      ]
     },
     "execution_count": 21,
     "metadata": {},
     "output_type": "execute_result"
    }
   ],
   "source": [
    "T(u,u).display()"
   ]
  },
  {
   "cell_type": "markdown",
   "metadata": {},
   "source": [
    "## Einstein Equation"
   ]
  },
  {
   "cell_type": "code",
   "execution_count": 22,
   "metadata": {},
   "outputs": [
    {
     "data": {
      "text/html": [
       "<html><script type=\"math/tex; mode=display\">\\newcommand{\\Bold}[1]{\\mathbf{#1}}E = -\\frac{2 \\, {\\left(4 \\, \\pi r^{2} e^{\\left(2 \\, \\Phi\\left(r\\right)\\right)} \\rho\\left(r\\right) - e^{\\left(2 \\, \\Phi\\left(r\\right)\\right)} \\frac{\\partial\\,m}{\\partial r}\\right)}}{r^{2}} \\mathrm{d} t\\otimes \\mathrm{d} t + \\left( -\\frac{2 \\, {\\left(4 \\, \\pi r^{3} P\\left(r\\right) - {\\left(r^{2} - 2 \\, r m\\left(r\\right)\\right)} \\frac{\\partial\\,\\Phi}{\\partial r} + m\\left(r\\right)\\right)}}{r^{3} - 2 \\, r^{2} m\\left(r\\right)} \\right) \\mathrm{d} r\\otimes \\mathrm{d} r + \\left( -\\frac{8 \\, \\pi r^{3} P\\left(r\\right) - {\\left(r^{3} - 2 \\, r^{2} m\\left(r\\right)\\right)} \\left(\\frac{\\partial\\,\\Phi}{\\partial r}\\right)^{2} - {\\left(r^{2} - r m\\left(r\\right)\\right)} \\frac{\\partial\\,\\Phi}{\\partial r} - {\\left(r^{3} - 2 \\, r^{2} m\\left(r\\right)\\right)} \\frac{\\partial^2\\,\\Phi}{\\partial r ^ 2} + {\\left(r^{2} \\frac{\\partial\\,\\Phi}{\\partial r} + r\\right)} \\frac{\\partial\\,m}{\\partial r} - m\\left(r\\right)}{r} \\right) \\mathrm{d} {\\theta}\\otimes \\mathrm{d} {\\theta} -\\frac{{\\left(8 \\, \\pi r^{3} P\\left(r\\right) - {\\left(r^{3} - 2 \\, r^{2} m\\left(r\\right)\\right)} \\left(\\frac{\\partial\\,\\Phi}{\\partial r}\\right)^{2} - {\\left(r^{2} - r m\\left(r\\right)\\right)} \\frac{\\partial\\,\\Phi}{\\partial r} - {\\left(r^{3} - 2 \\, r^{2} m\\left(r\\right)\\right)} \\frac{\\partial^2\\,\\Phi}{\\partial r ^ 2} + {\\left(r^{2} \\frac{\\partial\\,\\Phi}{\\partial r} + r\\right)} \\frac{\\partial\\,m}{\\partial r} - m\\left(r\\right)\\right)} \\sin\\left({\\theta}\\right)^{2}}{r} \\mathrm{d} {\\phi}\\otimes \\mathrm{d} {\\phi}</script></html>"
      ],
      "text/plain": [
       "E = -2*(4*pi*r^2*e^(2*Phi(r))*rho(r) - e^(2*Phi(r))*d(m)/dr)/r^2 dt*dt - 2*(4*pi*r^3*P(r) - (r^2 - 2*r*m(r))*d(Phi)/dr + m(r))/(r^3 - 2*r^2*m(r)) dr*dr - (8*pi*r^3*P(r) - (r^3 - 2*r^2*m(r))*(d(Phi)/dr)^2 - (r^2 - r*m(r))*d(Phi)/dr - (r^3 - 2*r^2*m(r))*d^2(Phi)/dr^2 + (r^2*d(Phi)/dr + r)*d(m)/dr - m(r))/r dth*dth - (8*pi*r^3*P(r) - (r^3 - 2*r^2*m(r))*(d(Phi)/dr)^2 - (r^2 - r*m(r))*d(Phi)/dr - (r^3 - 2*r^2*m(r))*d^2(Phi)/dr^2 + (r^2*d(Phi)/dr + r)*d(m)/dr - m(r))*sin(th)^2/r dph*dph"
      ]
     },
     "execution_count": 22,
     "metadata": {},
     "output_type": "execute_result"
    }
   ],
   "source": [
    "E = G - 8 * pi * T\n",
    "E.set_name('E')\n",
    "E.display()"
   ]
  },
  {
   "cell_type": "code",
   "execution_count": 23,
   "metadata": {},
   "outputs": [
    {
     "data": {
      "text/html": [
       "<html><script type=\"math/tex; mode=display\">\\newcommand{\\Bold}[1]{\\mathbf{#1}}\\begin{array}{lcl} E_{ \\, t \\, t }^{ \\phantom{\\, t}\\phantom{\\, t} } & = & -\\frac{2 \\, {\\left(4 \\, \\pi r^{2} e^{\\left(2 \\, \\Phi\\left(r\\right)\\right)} \\rho\\left(r\\right) - e^{\\left(2 \\, \\Phi\\left(r\\right)\\right)} \\frac{\\partial\\,m}{\\partial r}\\right)}}{r^{2}} \\\\ E_{ \\, r \\, r }^{ \\phantom{\\, r}\\phantom{\\, r} } & = & -\\frac{2 \\, {\\left(4 \\, \\pi r^{3} P\\left(r\\right) - {\\left(r^{2} - 2 \\, r m\\left(r\\right)\\right)} \\frac{\\partial\\,\\Phi}{\\partial r} + m\\left(r\\right)\\right)}}{r^{3} - 2 \\, r^{2} m\\left(r\\right)} \\\\ E_{ \\, {\\theta} \\, {\\theta} }^{ \\phantom{\\, {\\theta}}\\phantom{\\, {\\theta}} } & = & -\\frac{8 \\, \\pi r^{3} P\\left(r\\right) - {\\left(r^{3} - 2 \\, r^{2} m\\left(r\\right)\\right)} \\left(\\frac{\\partial\\,\\Phi}{\\partial r}\\right)^{2} - {\\left(r^{2} - r m\\left(r\\right)\\right)} \\frac{\\partial\\,\\Phi}{\\partial r} - {\\left(r^{3} - 2 \\, r^{2} m\\left(r\\right)\\right)} \\frac{\\partial^2\\,\\Phi}{\\partial r ^ 2} + {\\left(r^{2} \\frac{\\partial\\,\\Phi}{\\partial r} + r\\right)} \\frac{\\partial\\,m}{\\partial r} - m\\left(r\\right)}{r} \\\\ E_{ \\, {\\phi} \\, {\\phi} }^{ \\phantom{\\, {\\phi}}\\phantom{\\, {\\phi}} } & = & -\\frac{{\\left(8 \\, \\pi r^{3} P\\left(r\\right) - {\\left(r^{3} - 2 \\, r^{2} m\\left(r\\right)\\right)} \\left(\\frac{\\partial\\,\\Phi}{\\partial r}\\right)^{2} - {\\left(r^{2} - r m\\left(r\\right)\\right)} \\frac{\\partial\\,\\Phi}{\\partial r} - {\\left(r^{3} - 2 \\, r^{2} m\\left(r\\right)\\right)} \\frac{\\partial^2\\,\\Phi}{\\partial r ^ 2} + {\\left(r^{2} \\frac{\\partial\\,\\Phi}{\\partial r} + r\\right)} \\frac{\\partial\\,m}{\\partial r} - m\\left(r\\right)\\right)} \\sin\\left({\\theta}\\right)^{2}}{r} \\end{array}</script></html>"
      ],
      "text/plain": [
       "E_t,t = -2*(4*pi*r^2*e^(2*Phi(r))*rho(r) - e^(2*Phi(r))*d(m)/dr)/r^2 \n",
       "E_r,r = -2*(4*pi*r^3*P(r) - (r^2 - 2*r*m(r))*d(Phi)/dr + m(r))/(r^3 - 2*r^2*m(r)) \n",
       "E_th,th = -(8*pi*r^3*P(r) - (r^3 - 2*r^2*m(r))*(d(Phi)/dr)^2 - (r^2 - r*m(r))*d(Phi)/dr - (r^3 - 2*r^2*m(r))*d^2(Phi)/dr^2 + (r^2*d(Phi)/dr + r)*d(m)/dr - m(r))/r \n",
       "E_ph,ph = -(8*pi*r^3*P(r) - (r^3 - 2*r^2*m(r))*(d(Phi)/dr)^2 - (r^2 - r*m(r))*d(Phi)/dr - (r^3 - 2*r^2*m(r))*d^2(Phi)/dr^2 + (r^2*d(Phi)/dr + r)*d(m)/dr - m(r))*sin(th)^2/r "
      ]
     },
     "execution_count": 23,
     "metadata": {},
     "output_type": "execute_result"
    }
   ],
   "source": [
    "E.display_comp()"
   ]
  },
  {
   "cell_type": "markdown",
   "metadata": {},
   "source": [
    "## TOV Equations"
   ]
  },
  {
   "cell_type": "code",
   "execution_count": 24,
   "metadata": {},
   "outputs": [
    {
     "data": {
      "text/html": [
       "<html><script type=\"math/tex; mode=display\">\\newcommand{\\Bold}[1]{\\mathbf{#1}}\\frac{\\partial}{\\partial r}m\\left(r\\right) = 4 \\, \\pi r^{2} \\rho\\left(r\\right)</script></html>"
      ],
      "text/plain": [
       "diff(m(r), r) == 4*pi*r^2*rho(r)"
      ]
     },
     "execution_count": 24,
     "metadata": {},
     "output_type": "execute_result"
    }
   ],
   "source": [
    "TOV0_sol = solve(E[0,0].expr() == 0, diff(m(r), r))\n",
    "TOV0 = TOV0_sol[0]\n",
    "TOV0"
   ]
  },
  {
   "cell_type": "code",
   "execution_count": 25,
   "metadata": {},
   "outputs": [
    {
     "data": {
      "text/html": [
       "<html><script type=\"math/tex; mode=display\">\\newcommand{\\Bold}[1]{\\mathbf{#1}}\\frac{\\partial}{\\partial r}\\Phi\\left(r\\right) = \\frac{4 \\, \\pi r^{3} P\\left(r\\right) + m\\left(r\\right)}{r^{2} - 2 \\, r m\\left(r\\right)}</script></html>"
      ],
      "text/plain": [
       "diff(Phi(r), r) == (4*pi*r^3*P(r) + m(r))/(r^2 - 2*r*m(r))"
      ]
     },
     "execution_count": 25,
     "metadata": {},
     "output_type": "execute_result"
    }
   ],
   "source": [
    "TOV1_sol = solve(E[1,1].expr() == 0, diff(Phi(r), r))\n",
    "TOV1 = TOV1_sol[0]\n",
    "TOV1"
   ]
  },
  {
   "cell_type": "code",
   "execution_count": 26,
   "metadata": {},
   "outputs": [
    {
     "data": {
      "text/html": [
       "<html><script type=\"math/tex; mode=display\">\\newcommand{\\Bold}[1]{\\mathbf{#1}}\\left( {\\left(P\\left(r\\right) + \\rho\\left(r\\right)\\right)} \\frac{\\partial\\,\\Phi}{\\partial r} + \\frac{\\partial\\,P}{\\partial r} \\right) \\mathrm{d} r</script></html>"
      ],
      "text/plain": [
       "((P(r) + rho(r))*d(Phi)/dr + d(P)/dr) dr"
      ]
     },
     "execution_count": 26,
     "metadata": {},
     "output_type": "execute_result"
    }
   ],
   "source": [
    "# By energy conservation\n",
    "dTu = nab(T.up(g, 0))\n",
    "divT = dTu['^b_{ab}']\n",
    "divT.display()"
   ]
  },
  {
   "cell_type": "code",
   "execution_count": 27,
   "metadata": {},
   "outputs": [
    {
     "data": {
      "text/html": [
       "<html><script type=\"math/tex; mode=display\">\\newcommand{\\Bold}[1]{\\mathbf{#1}}\\frac{\\partial}{\\partial r}P\\left(r\\right) = -{\\left(P\\left(r\\right) + \\rho\\left(r\\right)\\right)} \\frac{\\partial}{\\partial r}\\Phi\\left(r\\right)</script></html>"
      ],
      "text/plain": [
       "diff(P(r), r) == -(P(r) + rho(r))*diff(Phi(r), r)"
      ]
     },
     "execution_count": 27,
     "metadata": {},
     "output_type": "execute_result"
    }
   ],
   "source": [
    "TOV2_sol = solve(divT[1].expr() == 0, diff(P(r), r))\n",
    "TOV2 = TOV2_sol[0]\n",
    "TOV2"
   ]
  },
  {
   "cell_type": "code",
   "execution_count": 28,
   "metadata": {},
   "outputs": [
    {
     "data": {
      "text/html": [
       "<html><script type=\"math/tex; mode=display\">\\newcommand{\\Bold}[1]{\\mathbf{#1}}\\frac{\\partial}{\\partial r}m\\left(r\\right) = 4 \\, \\pi r^{2} \\rho\\left(r\\right)</script></html>"
      ],
      "text/plain": [
       "diff(m(r), r) == 4*pi*r^2*rho(r)"
      ]
     },
     "metadata": {},
     "output_type": "display_data"
    },
    {
     "data": {
      "text/html": [
       "<html><script type=\"math/tex; mode=display\">\\newcommand{\\Bold}[1]{\\mathbf{#1}}\\frac{\\partial}{\\partial r}\\Phi\\left(r\\right) = \\frac{4 \\, \\pi r^{3} P\\left(r\\right) + m\\left(r\\right)}{r^{2} - 2 \\, r m\\left(r\\right)}</script></html>"
      ],
      "text/plain": [
       "diff(Phi(r), r) == (4*pi*r^3*P(r) + m(r))/(r^2 - 2*r*m(r))"
      ]
     },
     "metadata": {},
     "output_type": "display_data"
    },
    {
     "data": {
      "text/html": [
       "<html><script type=\"math/tex; mode=display\">\\newcommand{\\Bold}[1]{\\mathbf{#1}}\\frac{\\partial}{\\partial r}P\\left(r\\right) = -{\\left(P\\left(r\\right) + \\rho\\left(r\\right)\\right)} \\frac{\\partial}{\\partial r}\\Phi\\left(r\\right)</script></html>"
      ],
      "text/plain": [
       "diff(P(r), r) == -(P(r) + rho(r))*diff(Phi(r), r)"
      ]
     },
     "metadata": {},
     "output_type": "display_data"
    }
   ],
   "source": [
    "for eq in [TOV0, TOV1, TOV2]:\n",
    "    show(eq)"
   ]
  },
  {
   "cell_type": "markdown",
   "metadata": {},
   "source": [
    "### Polytropic Equation of State"
   ]
  },
  {
   "cell_type": "code",
   "execution_count": 29,
   "metadata": {},
   "outputs": [
    {
     "data": {
      "text/html": [
       "<html><script type=\"math/tex; mode=display\">\\newcommand{\\Bold}[1]{\\mathbf{#1}}K \\rho\\left(r\\right)^{\\Gamma}</script></html>"
      ],
      "text/plain": [
       "K*rho(r)^Gamma"
      ]
     },
     "execution_count": 29,
     "metadata": {},
     "output_type": "execute_result"
    }
   ],
   "source": [
    "var('K Gamma', domain='real')\n",
    "P_eos(r) = K*rho(r)^Gamma\n",
    "P_eos(r)"
   ]
  },
  {
   "cell_type": "code",
   "execution_count": 30,
   "metadata": {},
   "outputs": [
    {
     "data": {
      "text/html": [
       "<html><script type=\"math/tex; mode=display\">\\newcommand{\\Bold}[1]{\\mathbf{#1}}\\frac{\\partial}{\\partial r}\\Phi\\left(r\\right) = \\frac{4 \\, \\pi K r^{3} \\rho\\left(r\\right)^{\\Gamma} + m\\left(r\\right)}{r^{2} - 2 \\, r m\\left(r\\right)}</script></html>"
      ],
      "text/plain": [
       "diff(Phi(r), r) == (4*pi*K*r^3*rho(r)^Gamma + m(r))/(r^2 - 2*r*m(r))"
      ]
     },
     "execution_count": 30,
     "metadata": {},
     "output_type": "execute_result"
    }
   ],
   "source": [
    "TOV1_rho = TOV1.substitute_function(P,P_eos)\n",
    "TOV1_rho"
   ]
  },
  {
   "cell_type": "code",
   "execution_count": 31,
   "metadata": {},
   "outputs": [
    {
     "data": {
      "text/html": [
       "<html><script type=\"math/tex; mode=display\">\\newcommand{\\Bold}[1]{\\mathbf{#1}}\\Gamma K \\rho\\left(r\\right)^{\\Gamma - 1} \\frac{\\partial}{\\partial r}\\rho\\left(r\\right) = -{\\left(K \\rho\\left(r\\right)^{\\Gamma} + \\rho\\left(r\\right)\\right)} \\frac{\\partial}{\\partial r}\\Phi\\left(r\\right)</script></html>"
      ],
      "text/plain": [
       "Gamma*K*rho(r)^(Gamma - 1)*diff(rho(r), r) == -(K*rho(r)^Gamma + rho(r))*diff(Phi(r), r)"
      ]
     },
     "execution_count": 31,
     "metadata": {},
     "output_type": "execute_result"
    }
   ],
   "source": [
    "TOV2_rho_prime = TOV2.substitute_function(P,P_eos)\n",
    "TOV2_rho_prime"
   ]
  },
  {
   "cell_type": "code",
   "execution_count": 32,
   "metadata": {},
   "outputs": [
    {
     "data": {
      "text/html": [
       "<html><script type=\"math/tex; mode=display\">\\newcommand{\\Bold}[1]{\\mathbf{#1}}\\frac{\\partial}{\\partial r}\\rho\\left(r\\right) = -\\frac{{\\left(K \\rho\\left(r\\right)^{\\Gamma + 1} + \\rho\\left(r\\right)^{2}\\right)} \\frac{\\partial}{\\partial r}\\Phi\\left(r\\right)}{\\Gamma K \\rho\\left(r\\right)^{\\Gamma}}</script></html>"
      ],
      "text/plain": [
       "diff(rho(r), r) == -(K*rho(r)^(Gamma + 1) + rho(r)^2)*diff(Phi(r), r)/(Gamma*K*rho(r)^Gamma)"
      ]
     },
     "execution_count": 32,
     "metadata": {},
     "output_type": "execute_result"
    }
   ],
   "source": [
    "TOV2_rho_prime2 = (TOV2_rho_prime / (Gamma*K*rho(r)^(Gamma-1))).simplify_full()\n",
    "TOV2_rho_prime2"
   ]
  },
  {
   "cell_type": "code",
   "execution_count": 33,
   "metadata": {},
   "outputs": [
    {
     "data": {
      "text/html": [
       "<html><script type=\"math/tex; mode=display\">\\newcommand{\\Bold}[1]{\\mathbf{#1}}\\frac{\\partial}{\\partial r}\\rho\\left(r\\right) = -\\frac{4 \\, \\pi K^{2} r^{3} \\rho\\left(r\\right)^{2 \\, \\Gamma + 1} + m\\left(r\\right) \\rho\\left(r\\right)^{2} + {\\left(4 \\, \\pi K r^{3} \\rho\\left(r\\right)^{2} + K m\\left(r\\right) \\rho\\left(r\\right)\\right)} \\rho\\left(r\\right)^{\\Gamma}}{{\\left(\\Gamma K r^{2} - 2 \\, \\Gamma K r m\\left(r\\right)\\right)} \\rho\\left(r\\right)^{\\Gamma}}</script></html>"
      ],
      "text/plain": [
       "diff(rho(r), r) == -(4*pi*K^2*r^3*rho(r)^(2*Gamma + 1) + m(r)*rho(r)^2 + (4*pi*K*r^3*rho(r)^2 + K*m(r)*rho(r))*rho(r)^Gamma)/((Gamma*K*r^2 - 2*Gamma*K*r*m(r))*rho(r)^Gamma)"
      ]
     },
     "execution_count": 33,
     "metadata": {},
     "output_type": "execute_result"
    }
   ],
   "source": [
    "TOV2_rho = TOV2_rho_prime2.subs({diff(Phi(r), r): TOV1_rho.rhs()}).simplify_full()\n",
    "TOV2_rho"
   ]
  },
  {
   "cell_type": "code",
   "execution_count": 34,
   "metadata": {},
   "outputs": [
    {
     "data": {
      "text/html": [
       "<html><script type=\"math/tex; mode=display\">\\newcommand{\\Bold}[1]{\\mathbf{#1}}\\frac{\\partial}{\\partial r}m\\left(r\\right) = 4 \\, \\pi r^{2} \\rho\\left(r\\right)</script></html>"
      ],
      "text/plain": [
       "diff(m(r), r) == 4*pi*r^2*rho(r)"
      ]
     },
     "metadata": {},
     "output_type": "display_data"
    },
    {
     "data": {
      "text/html": [
       "<html><script type=\"math/tex; mode=display\">\\newcommand{\\Bold}[1]{\\mathbf{#1}}\\frac{\\partial}{\\partial r}\\Phi\\left(r\\right) = \\frac{4 \\, \\pi K r^{3} \\rho\\left(r\\right)^{\\Gamma} + m\\left(r\\right)}{r^{2} - 2 \\, r m\\left(r\\right)}</script></html>"
      ],
      "text/plain": [
       "diff(Phi(r), r) == (4*pi*K*r^3*rho(r)^Gamma + m(r))/(r^2 - 2*r*m(r))"
      ]
     },
     "metadata": {},
     "output_type": "display_data"
    },
    {
     "data": {
      "text/html": [
       "<html><script type=\"math/tex; mode=display\">\\newcommand{\\Bold}[1]{\\mathbf{#1}}\\frac{\\partial}{\\partial r}\\rho\\left(r\\right) = -\\frac{4 \\, \\pi K^{2} r^{3} \\rho\\left(r\\right)^{2 \\, \\Gamma + 1} + m\\left(r\\right) \\rho\\left(r\\right)^{2} + {\\left(4 \\, \\pi K r^{3} \\rho\\left(r\\right)^{2} + K m\\left(r\\right) \\rho\\left(r\\right)\\right)} \\rho\\left(r\\right)^{\\Gamma}}{{\\left(\\Gamma K r^{2} - 2 \\, \\Gamma K r m\\left(r\\right)\\right)} \\rho\\left(r\\right)^{\\Gamma}}</script></html>"
      ],
      "text/plain": [
       "diff(rho(r), r) == -(4*pi*K^2*r^3*rho(r)^(2*Gamma + 1) + m(r)*rho(r)^2 + (4*pi*K*r^3*rho(r)^2 + K*m(r)*rho(r))*rho(r)^Gamma)/((Gamma*K*r^2 - 2*Gamma*K*r*m(r))*rho(r)^Gamma)"
      ]
     },
     "metadata": {},
     "output_type": "display_data"
    }
   ],
   "source": [
    "for eq in [TOV0, TOV1_rho, TOV2_rho]:\n",
    "    show(eq)"
   ]
  },
  {
   "cell_type": "markdown",
   "metadata": {},
   "source": [
    "## Implicit Runge-Kutta"
   ]
  },
  {
   "cell_type": "code",
   "execution_count": 35,
   "metadata": {},
   "outputs": [
    {
     "data": {
      "text/html": [
       "<html><script type=\"math/tex; mode=display\">\\newcommand{\\Bold}[1]{\\mathbf{#1}}\\frac{\\partial}{\\partial r}\\rho\\left(r\\right) = -\\frac{4 \\, \\pi K^{2} r^{3} \\rho\\left(r\\right)^{2 \\, \\Gamma + 1} + m\\left(r\\right) \\rho\\left(r\\right)^{2} + {\\left(4 \\, \\pi K r^{3} \\rho\\left(r\\right)^{2} + K m\\left(r\\right) \\rho\\left(r\\right)\\right)} \\rho\\left(r\\right)^{\\Gamma}}{{\\left(\\Gamma K r^{2} - 2 \\, \\Gamma K r m\\left(r\\right)\\right)} \\rho\\left(r\\right)^{\\Gamma}}</script></html>"
      ],
      "text/plain": [
       "diff(rho(r), r) == -(4*pi*K^2*r^3*rho(r)^(2*Gamma + 1) + m(r)*rho(r)^2 + (4*pi*K*r^3*rho(r)^2 + K*m(r)*rho(r))*rho(r)^Gamma)/((Gamma*K*r^2 - 2*Gamma*K*r*m(r))*rho(r)^Gamma)"
      ]
     },
     "execution_count": 35,
     "metadata": {},
     "output_type": "execute_result"
    }
   ],
   "source": [
    "TOV2_rho"
   ]
  },
  {
   "cell_type": "code",
   "execution_count": 73,
   "metadata": {},
   "outputs": [
    {
     "data": {
      "text/html": [
       "<html><script type=\"math/tex; mode=display\">\\newcommand{\\Bold}[1]{\\mathbf{#1}}\\left(k_{1}, k_{2}, \\Delta, m_{1}, \\Phi_{1}, \\rho_{1}, r_{1}\\right)</script></html>"
      ],
      "text/plain": [
       "(k1, k2, Delta, m_1, Phi_1, rho_1, r_1)"
      ]
     },
     "execution_count": 73,
     "metadata": {},
     "output_type": "execute_result"
    }
   ],
   "source": [
    "var('k1 k2 Delta m_1 Phi_1 rho_1 r_1', domain='real')"
   ]
  },
  {
   "cell_type": "code",
   "execution_count": 42,
   "metadata": {},
   "outputs": [],
   "source": [
    "rhs_rho = TOV2_rho.rhs()"
   ]
  },
  {
   "cell_type": "code",
   "execution_count": 43,
   "metadata": {},
   "outputs": [
    {
     "data": {
      "text/html": [
       "<html><script type=\"math/tex; mode=display\">\\newcommand{\\Bold}[1]{\\mathbf{#1}}-\\frac{4 \\, \\pi K^{2} r^{3} \\rho\\left(r\\right)^{2 \\, \\Gamma + 1} + m\\left(r\\right) \\rho\\left(r\\right)^{2} + {\\left(4 \\, \\pi K r^{3} \\rho\\left(r\\right)^{2} + K m\\left(r\\right) \\rho\\left(r\\right)\\right)} \\rho\\left(r\\right)^{\\Gamma}}{{\\left(\\Gamma K r^{2} - 2 \\, \\Gamma K r m\\left(r\\right)\\right)} \\rho\\left(r\\right)^{\\Gamma}}</script></html>"
      ],
      "text/plain": [
       "-(4*pi*K^2*r^3*rho(r)^(2*Gamma + 1) + m(r)*rho(r)^2 + (4*pi*K*r^3*rho(r)^2 + K*m(r)*rho(r))*rho(r)^Gamma)/((Gamma*K*r^2 - 2*Gamma*K*r*m(r))*rho(r)^Gamma)"
      ]
     },
     "execution_count": 43,
     "metadata": {},
     "output_type": "execute_result"
    }
   ],
   "source": [
    "rhs_rho"
   ]
  },
  {
   "cell_type": "code",
   "execution_count": 61,
   "metadata": {},
   "outputs": [],
   "source": [
    "rhs_k1 = rhs_rho.subs({\n",
    "    rho(r): rho_1+1/4*Delta*k1 + (1/4 - sqrt(3)/6)*Delta*k2,\n",
    "    m(r): m_1\n",
    "})"
   ]
  },
  {
   "cell_type": "code",
   "execution_count": 63,
   "metadata": {},
   "outputs": [],
   "source": [
    "rhs_k1 = rhs_k1.subs({\n",
    "    r: r_1 + (1/2 - sqrt(3) / 6)*Delta\n",
    "})"
   ]
  },
  {
   "cell_type": "code",
   "execution_count": 64,
   "metadata": {},
   "outputs": [
    {
     "data": {
      "text/html": [
       "<html><script type=\"math/tex; mode=display\">\\newcommand{\\Bold}[1]{\\mathbf{#1}}\\frac{144 \\, \\pi {\\left(\\Delta {\\left(\\sqrt{3} - 3\\right)} - 6 \\, r_{1}\\right)}^{3} {\\left(-\\frac{1}{12} \\, \\Delta k_{2} {\\left(2 \\, \\sqrt{3} - 3\\right)} + \\frac{1}{4} \\, \\Delta k_{1} + \\rho_{1}\\right)}^{2 \\, \\Gamma + 1} K^{2} - 54 \\, {\\left(\\Delta k_{2} {\\left(2 \\, \\sqrt{3} - 3\\right)} - 3 \\, \\Delta k_{1} - 12 \\, \\rho_{1}\\right)}^{2} m_{1} + {\\left(\\pi {\\left(\\Delta k_{2} {\\left(2 \\, \\sqrt{3} - 3\\right)} - 3 \\, \\Delta k_{1} - 12 \\, \\rho_{1}\\right)}^{2} {\\left(\\Delta {\\left(\\sqrt{3} - 3\\right)} - 6 \\, r_{1}\\right)}^{3} K + 648 \\, {\\left(\\Delta k_{2} {\\left(2 \\, \\sqrt{3} - 3\\right)} - 3 \\, \\Delta k_{1} - 12 \\, \\rho_{1}\\right)} K m_{1}\\right)} {\\left(-\\frac{1}{12} \\, \\Delta k_{2} {\\left(2 \\, \\sqrt{3} - 3\\right)} + \\frac{1}{4} \\, \\Delta k_{1} + \\rho_{1}\\right)}^{\\Gamma}}{216 \\, {\\left({\\left(\\Delta {\\left(\\sqrt{3} - 3\\right)} - 6 \\, r_{1}\\right)}^{2} \\Gamma K + 12 \\, {\\left(\\Delta {\\left(\\sqrt{3} - 3\\right)} - 6 \\, r_{1}\\right)} \\Gamma K m_{1}\\right)} {\\left(-\\frac{1}{12} \\, \\Delta k_{2} {\\left(2 \\, \\sqrt{3} - 3\\right)} + \\frac{1}{4} \\, \\Delta k_{1} + \\rho_{1}\\right)}^{\\Gamma}}</script></html>"
      ],
      "text/plain": [
       "1/216*(144*pi*(Delta*(sqrt(3) - 3) - 6*r_1)^3*(-1/12*Delta*k2*(2*sqrt(3) - 3) + 1/4*Delta*k1 + rho_1)^(2*Gamma + 1)*K^2 - 54*(Delta*k2*(2*sqrt(3) - 3) - 3*Delta*k1 - 12*rho_1)^2*m_1 + (pi*(Delta*k2*(2*sqrt(3) - 3) - 3*Delta*k1 - 12*rho_1)^2*(Delta*(sqrt(3) - 3) - 6*r_1)^3*K + 648*(Delta*k2*(2*sqrt(3) - 3) - 3*Delta*k1 - 12*rho_1)*K*m_1)*(-1/12*Delta*k2*(2*sqrt(3) - 3) + 1/4*Delta*k1 + rho_1)^Gamma)/(((Delta*(sqrt(3) - 3) - 6*r_1)^2*Gamma*K + 12*(Delta*(sqrt(3) - 3) - 6*r_1)*Gamma*K*m_1)*(-1/12*Delta*k2*(2*sqrt(3) - 3) + 1/4*Delta*k1 + rho_1)^Gamma)"
      ]
     },
     "execution_count": 64,
     "metadata": {},
     "output_type": "execute_result"
    }
   ],
   "source": [
    "rhs_k1"
   ]
  },
  {
   "cell_type": "code",
   "execution_count": 68,
   "metadata": {},
   "outputs": [],
   "source": [
    "F1 = k1 - rhs_k1 == 0"
   ]
  },
  {
   "cell_type": "code",
   "execution_count": 69,
   "metadata": {},
   "outputs": [
    {
     "data": {
      "text/html": [
       "<html><script type=\"math/tex; mode=display\">\\newcommand{\\Bold}[1]{\\mathbf{#1}}k_{1} - \\frac{144 \\, \\pi {\\left(\\Delta {\\left(\\sqrt{3} - 3\\right)} - 6 \\, r_{1}\\right)}^{3} {\\left(-\\frac{1}{12} \\, \\Delta k_{2} {\\left(2 \\, \\sqrt{3} - 3\\right)} + \\frac{1}{4} \\, \\Delta k_{1} + \\rho_{1}\\right)}^{2 \\, \\Gamma + 1} K^{2} - 54 \\, {\\left(\\Delta k_{2} {\\left(2 \\, \\sqrt{3} - 3\\right)} - 3 \\, \\Delta k_{1} - 12 \\, \\rho_{1}\\right)}^{2} m_{1} + {\\left(\\pi {\\left(\\Delta k_{2} {\\left(2 \\, \\sqrt{3} - 3\\right)} - 3 \\, \\Delta k_{1} - 12 \\, \\rho_{1}\\right)}^{2} {\\left(\\Delta {\\left(\\sqrt{3} - 3\\right)} - 6 \\, r_{1}\\right)}^{3} K + 648 \\, {\\left(\\Delta k_{2} {\\left(2 \\, \\sqrt{3} - 3\\right)} - 3 \\, \\Delta k_{1} - 12 \\, \\rho_{1}\\right)} K m_{1}\\right)} {\\left(-\\frac{1}{12} \\, \\Delta k_{2} {\\left(2 \\, \\sqrt{3} - 3\\right)} + \\frac{1}{4} \\, \\Delta k_{1} + \\rho_{1}\\right)}^{\\Gamma}}{216 \\, {\\left({\\left(\\Delta {\\left(\\sqrt{3} - 3\\right)} - 6 \\, r_{1}\\right)}^{2} \\Gamma K + 12 \\, {\\left(\\Delta {\\left(\\sqrt{3} - 3\\right)} - 6 \\, r_{1}\\right)} \\Gamma K m_{1}\\right)} {\\left(-\\frac{1}{12} \\, \\Delta k_{2} {\\left(2 \\, \\sqrt{3} - 3\\right)} + \\frac{1}{4} \\, \\Delta k_{1} + \\rho_{1}\\right)}^{\\Gamma}} = 0</script></html>"
      ],
      "text/plain": [
       "k1 - 1/216*(144*pi*(Delta*(sqrt(3) - 3) - 6*r_1)^3*(-1/12*Delta*k2*(2*sqrt(3) - 3) + 1/4*Delta*k1 + rho_1)^(2*Gamma + 1)*K^2 - 54*(Delta*k2*(2*sqrt(3) - 3) - 3*Delta*k1 - 12*rho_1)^2*m_1 + (pi*(Delta*k2*(2*sqrt(3) - 3) - 3*Delta*k1 - 12*rho_1)^2*(Delta*(sqrt(3) - 3) - 6*r_1)^3*K + 648*(Delta*k2*(2*sqrt(3) - 3) - 3*Delta*k1 - 12*rho_1)*K*m_1)*(-1/12*Delta*k2*(2*sqrt(3) - 3) + 1/4*Delta*k1 + rho_1)^Gamma)/(((Delta*(sqrt(3) - 3) - 6*r_1)^2*Gamma*K + 12*(Delta*(sqrt(3) - 3) - 6*r_1)*Gamma*K*m_1)*(-1/12*Delta*k2*(2*sqrt(3) - 3) + 1/4*Delta*k1 + rho_1)^Gamma) == 0"
      ]
     },
     "execution_count": 69,
     "metadata": {},
     "output_type": "execute_result"
    }
   ],
   "source": [
    "F1"
   ]
  },
  {
   "cell_type": "code",
   "execution_count": 71,
   "metadata": {},
   "outputs": [],
   "source": [
    "rhs_k2 = rhs_rho.subs({\n",
    "    rho(r): rho_1+1/4*Delta*k2 + (1/4 + sqrt(3)/6)*Delta*k1,\n",
    "    m(r): m_1\n",
    "})"
   ]
  },
  {
   "cell_type": "code",
   "execution_count": 74,
   "metadata": {},
   "outputs": [],
   "source": [
    "rhs_k2 = rhs_k2.subs({\n",
    "    r: r_1 + (1/2 + sqrt(3)/6)*Delta\n",
    "})"
   ]
  },
  {
   "cell_type": "code",
   "execution_count": 75,
   "metadata": {},
   "outputs": [
    {
     "data": {
      "text/html": [
       "<html><script type=\"math/tex; mode=display\">\\newcommand{\\Bold}[1]{\\mathbf{#1}}-\\frac{144 \\, \\pi {\\left(\\Delta {\\left(\\sqrt{3} + 3\\right)} + 6 \\, r_{1}\\right)}^{3} {\\left(\\frac{1}{12} \\, \\Delta k_{1} {\\left(2 \\, \\sqrt{3} + 3\\right)} + \\frac{1}{4} \\, \\Delta k_{2} + \\rho_{1}\\right)}^{2 \\, \\Gamma + 1} K^{2} + 54 \\, {\\left(\\Delta k_{1} {\\left(2 \\, \\sqrt{3} + 3\\right)} + 3 \\, \\Delta k_{2} + 12 \\, \\rho_{1}\\right)}^{2} m_{1} + {\\left(\\pi {\\left(\\Delta k_{1} {\\left(2 \\, \\sqrt{3} + 3\\right)} + 3 \\, \\Delta k_{2} + 12 \\, \\rho_{1}\\right)}^{2} {\\left(\\Delta {\\left(\\sqrt{3} + 3\\right)} + 6 \\, r_{1}\\right)}^{3} K + 648 \\, {\\left(\\Delta k_{1} {\\left(2 \\, \\sqrt{3} + 3\\right)} + 3 \\, \\Delta k_{2} + 12 \\, \\rho_{1}\\right)} K m_{1}\\right)} {\\left(\\frac{1}{12} \\, \\Delta k_{1} {\\left(2 \\, \\sqrt{3} + 3\\right)} + \\frac{1}{4} \\, \\Delta k_{2} + \\rho_{1}\\right)}^{\\Gamma}}{216 \\, {\\left({\\left(\\Delta {\\left(\\sqrt{3} + 3\\right)} + 6 \\, r_{1}\\right)}^{2} \\Gamma K - 12 \\, {\\left(\\Delta {\\left(\\sqrt{3} + 3\\right)} + 6 \\, r_{1}\\right)} \\Gamma K m_{1}\\right)} {\\left(\\frac{1}{12} \\, \\Delta k_{1} {\\left(2 \\, \\sqrt{3} + 3\\right)} + \\frac{1}{4} \\, \\Delta k_{2} + \\rho_{1}\\right)}^{\\Gamma}}</script></html>"
      ],
      "text/plain": [
       "-1/216*(144*pi*(Delta*(sqrt(3) + 3) + 6*r_1)^3*(1/12*Delta*k1*(2*sqrt(3) + 3) + 1/4*Delta*k2 + rho_1)^(2*Gamma + 1)*K^2 + 54*(Delta*k1*(2*sqrt(3) + 3) + 3*Delta*k2 + 12*rho_1)^2*m_1 + (pi*(Delta*k1*(2*sqrt(3) + 3) + 3*Delta*k2 + 12*rho_1)^2*(Delta*(sqrt(3) + 3) + 6*r_1)^3*K + 648*(Delta*k1*(2*sqrt(3) + 3) + 3*Delta*k2 + 12*rho_1)*K*m_1)*(1/12*Delta*k1*(2*sqrt(3) + 3) + 1/4*Delta*k2 + rho_1)^Gamma)/(((Delta*(sqrt(3) + 3) + 6*r_1)^2*Gamma*K - 12*(Delta*(sqrt(3) + 3) + 6*r_1)*Gamma*K*m_1)*(1/12*Delta*k1*(2*sqrt(3) + 3) + 1/4*Delta*k2 + rho_1)^Gamma)"
      ]
     },
     "execution_count": 75,
     "metadata": {},
     "output_type": "execute_result"
    }
   ],
   "source": [
    "rhs_k2"
   ]
  },
  {
   "cell_type": "code",
   "execution_count": 76,
   "metadata": {},
   "outputs": [],
   "source": [
    "F2 = k2 - rhs_k2 == 0"
   ]
  },
  {
   "cell_type": "code",
   "execution_count": null,
   "metadata": {},
   "outputs": [],
   "source": []
  }
 ],
 "metadata": {
  "kernelspec": {
   "display_name": "SageMath 8.4",
   "language": "",
   "name": "sagemath"
  },
  "language_info": {
   "codemirror_mode": {
    "name": "ipython",
    "version": 2
   },
   "file_extension": ".py",
   "mimetype": "text/x-python",
   "name": "python",
   "nbconvert_exporter": "python",
   "pygments_lexer": "ipython2",
   "version": "2.7.15"
  }
 },
 "nbformat": 4,
 "nbformat_minor": 2
}
