{
 "cells": [
  {
   "cell_type": "markdown",
   "metadata": {},
   "source": [
    "# Tolman-Oppenheimer-Volkoff Equation"
   ]
  },
  {
   "cell_type": "code",
   "execution_count": 1,
   "metadata": {},
   "outputs": [],
   "source": [
    "%display latex"
   ]
  },
  {
   "cell_type": "markdown",
   "metadata": {},
   "source": [
    "### Define Manifold & Chart"
   ]
  },
  {
   "cell_type": "code",
   "execution_count": 2,
   "metadata": {},
   "outputs": [],
   "source": [
    "M = Manifold(4, 'M', latex_name=r'\\mathcal{M}')"
   ]
  },
  {
   "cell_type": "code",
   "execution_count": 3,
   "metadata": {},
   "outputs": [
    {
     "data": {
      "text/html": [
       "<html><script type=\"math/tex; mode=display\">\\newcommand{\\Bold}[1]{\\mathbf{#1}}\\mathcal{M}</script></html>"
      ],
      "text/plain": [
       "4-dimensional differentiable manifold M"
      ]
     },
     "execution_count": 3,
     "metadata": {},
     "output_type": "execute_result"
    }
   ],
   "source": [
    "M"
   ]
  },
  {
   "cell_type": "code",
   "execution_count": 4,
   "metadata": {},
   "outputs": [],
   "source": [
    "sch.<t,r,th,ph> = M.chart(r't r:[0,+oo) th:[0,pi]:\\theta ph:[0,2pi):\\phi')"
   ]
  },
  {
   "cell_type": "code",
   "execution_count": 5,
   "metadata": {},
   "outputs": [
    {
     "data": {
      "text/html": [
       "<html><script type=\"math/tex; mode=display\">\\newcommand{\\Bold}[1]{\\mathbf{#1}}\\left(\\mathcal{M},(t, r, {\\theta}, {\\phi})\\right)</script></html>"
      ],
      "text/plain": [
       "Chart (M, (t, r, th, ph))"
      ]
     },
     "execution_count": 5,
     "metadata": {},
     "output_type": "execute_result"
    }
   ],
   "source": [
    "sch"
   ]
  },
  {
   "cell_type": "markdown",
   "metadata": {},
   "source": [
    "### Define static spherical symmetric metric"
   ]
  },
  {
   "cell_type": "code",
   "execution_count": 6,
   "metadata": {},
   "outputs": [
    {
     "data": {
      "text/html": [
       "<html><script type=\"math/tex; mode=display\">\\newcommand{\\Bold}[1]{\\mathbf{#1}}\\left(G, c\\right)</script></html>"
      ],
      "text/plain": [
       "(G, c)"
      ]
     },
     "execution_count": 6,
     "metadata": {},
     "output_type": "execute_result"
    }
   ],
   "source": [
    "m = function('m')\n",
    "Phi = function('Phi')"
   ]
  },
  {
   "cell_type": "code",
   "execution_count": 7,
   "metadata": {},
   "outputs": [],
   "source": [
    "g = M.lorentzian_metric('g')\n",
    "g[0,0] = -exp(2*Phi(r))\n",
    "g[1,1] = 1/(1 - 2 * m(r)/r)\n",
    "g[2,2] = r^2\n",
    "g[3,3] = r^2 * (sin(th))^2"
   ]
  },
  {
   "cell_type": "code",
   "execution_count": 8,
   "metadata": {},
   "outputs": [
    {
     "data": {
      "text/html": [
       "<html><script type=\"math/tex; mode=display\">\\newcommand{\\Bold}[1]{\\mathbf{#1}}g = -c^{2} e^{\\left(2 \\, \\Phi\\left(r\\right)\\right)} \\mathrm{d} t\\otimes \\mathrm{d} t + \\left( -\\frac{1}{\\frac{2 \\, G m\\left(r\\right)}{c^{2} r} - 1} \\right) \\mathrm{d} r\\otimes \\mathrm{d} r + r^{2} \\mathrm{d} {\\theta}\\otimes \\mathrm{d} {\\theta} + r^{2} \\sin\\left({\\theta}\\right)^{2} \\mathrm{d} {\\phi}\\otimes \\mathrm{d} {\\phi}</script></html>"
      ],
      "text/plain": [
       "g = -c^2*e^(2*Phi(r)) dt*dt - 1/(2*G*m(r)/(c^2*r) - 1) dr*dr + r^2 dth*dth + r^2*sin(th)^2 dph*dph"
      ]
     },
     "execution_count": 8,
     "metadata": {},
     "output_type": "execute_result"
    }
   ],
   "source": [
    "g.display()"
   ]
  },
  {
   "cell_type": "code",
   "execution_count": 9,
   "metadata": {},
   "outputs": [
    {
     "data": {
      "text/html": [
       "<html><script type=\"math/tex; mode=display\">\\newcommand{\\Bold}[1]{\\mathbf{#1}}\\begin{array}{lcl} g_{ \\, t \\, t }^{ \\phantom{\\, t}\\phantom{\\, t} } & = & -c^{2} e^{\\left(2 \\, \\Phi\\left(r\\right)\\right)} \\\\ g_{ \\, r \\, r }^{ \\phantom{\\, r}\\phantom{\\, r} } & = & -\\frac{1}{\\frac{2 \\, G m\\left(r\\right)}{c^{2} r} - 1} \\\\ g_{ \\, {\\theta} \\, {\\theta} }^{ \\phantom{\\, {\\theta}}\\phantom{\\, {\\theta}} } & = & r^{2} \\\\ g_{ \\, {\\phi} \\, {\\phi} }^{ \\phantom{\\, {\\phi}}\\phantom{\\, {\\phi}} } & = & r^{2} \\sin\\left({\\theta}\\right)^{2} \\end{array}</script></html>"
      ],
      "text/plain": [
       "g_t,t = -c^2*e^(2*Phi(r)) \n",
       "g_r,r = -1/(2*G*m(r)/(c^2*r) - 1) \n",
       "g_th,th = r^2 \n",
       "g_ph,ph = r^2*sin(th)^2 "
      ]
     },
     "execution_count": 9,
     "metadata": {},
     "output_type": "execute_result"
    }
   ],
   "source": [
    "g.display_comp()"
   ]
  },
  {
   "cell_type": "markdown",
   "metadata": {},
   "source": [
    "### Levi-civita connection"
   ]
  },
  {
   "cell_type": "code",
   "execution_count": 10,
   "metadata": {},
   "outputs": [
    {
     "data": {
      "text/html": [
       "<html><script type=\"math/tex; mode=display\">\\newcommand{\\Bold}[1]{\\mathbf{#1}}\\begin{array}{lcl} \\Gamma_{ \\phantom{\\, t} \\, t \\, r }^{ \\, t \\phantom{\\, t} \\phantom{\\, r} } & = & \\frac{\\partial\\,\\Phi}{\\partial r} \\\\ \\Gamma_{ \\phantom{\\, r} \\, t \\, t }^{ \\, r \\phantom{\\, t} \\phantom{\\, t} } & = & \\frac{{\\left(c^{2} r e^{\\left(2 \\, \\Phi\\left(r\\right)\\right)} - 2 \\, G e^{\\left(2 \\, \\Phi\\left(r\\right)\\right)} m\\left(r\\right)\\right)} \\frac{\\partial\\,\\Phi}{\\partial r}}{r} \\\\ \\Gamma_{ \\phantom{\\, r} \\, r \\, r }^{ \\, r \\phantom{\\, r} \\phantom{\\, r} } & = & \\frac{G r \\frac{\\partial\\,m}{\\partial r} - G m\\left(r\\right)}{c^{2} r^{2} - 2 \\, G r m\\left(r\\right)} \\\\ \\Gamma_{ \\phantom{\\, r} \\, {\\theta} \\, {\\theta} }^{ \\, r \\phantom{\\, {\\theta}} \\phantom{\\, {\\theta}} } & = & -\\frac{c^{2} r - 2 \\, G m\\left(r\\right)}{c^{2}} \\\\ \\Gamma_{ \\phantom{\\, r} \\, {\\phi} \\, {\\phi} }^{ \\, r \\phantom{\\, {\\phi}} \\phantom{\\, {\\phi}} } & = & -\\frac{{\\left(c^{2} r - 2 \\, G m\\left(r\\right)\\right)} \\sin\\left({\\theta}\\right)^{2}}{c^{2}} \\\\ \\Gamma_{ \\phantom{\\, {\\theta}} \\, r \\, {\\theta} }^{ \\, {\\theta} \\phantom{\\, r} \\phantom{\\, {\\theta}} } & = & \\frac{1}{r} \\\\ \\Gamma_{ \\phantom{\\, {\\theta}} \\, {\\phi} \\, {\\phi} }^{ \\, {\\theta} \\phantom{\\, {\\phi}} \\phantom{\\, {\\phi}} } & = & -\\cos\\left({\\theta}\\right) \\sin\\left({\\theta}\\right) \\\\ \\Gamma_{ \\phantom{\\, {\\phi}} \\, r \\, {\\phi} }^{ \\, {\\phi} \\phantom{\\, r} \\phantom{\\, {\\phi}} } & = & \\frac{1}{r} \\\\ \\Gamma_{ \\phantom{\\, {\\phi}} \\, {\\theta} \\, {\\phi} }^{ \\, {\\phi} \\phantom{\\, {\\theta}} \\phantom{\\, {\\phi}} } & = & \\frac{\\cos\\left({\\theta}\\right)}{\\sin\\left({\\theta}\\right)} \\end{array}</script></html>"
      ],
      "text/plain": [
       "Gam^t_t,r = d(Phi)/dr \n",
       "Gam^r_t,t = (c^2*r*e^(2*Phi(r)) - 2*G*e^(2*Phi(r))*m(r))*d(Phi)/dr/r \n",
       "Gam^r_r,r = (G*r*d(m)/dr - G*m(r))/(c^2*r^2 - 2*G*r*m(r)) \n",
       "Gam^r_th,th = -(c^2*r - 2*G*m(r))/c^2 \n",
       "Gam^r_ph,ph = -(c^2*r - 2*G*m(r))*sin(th)^2/c^2 \n",
       "Gam^th_r,th = 1/r \n",
       "Gam^th_ph,ph = -cos(th)*sin(th) \n",
       "Gam^ph_r,ph = 1/r \n",
       "Gam^ph_th,ph = cos(th)/sin(th) "
      ]
     },
     "execution_count": 10,
     "metadata": {},
     "output_type": "execute_result"
    }
   ],
   "source": [
    "nab = g.connection()\n",
    "nab.display(only_nonredundant=true)"
   ]
  },
  {
   "cell_type": "markdown",
   "metadata": {},
   "source": [
    "### Riemann, Ricci Tensor"
   ]
  },
  {
   "cell_type": "code",
   "execution_count": 11,
   "metadata": {},
   "outputs": [],
   "source": [
    "riem = nab.riemann()\n",
    "ric = nab.ricci()"
   ]
  },
  {
   "cell_type": "code",
   "execution_count": 12,
   "metadata": {},
   "outputs": [
    {
     "name": "stdout",
     "output_type": "stream",
     "text": [
      "Tensor field Riem(g) of type (1,3) on the 4-dimensional differentiable manifold M\n",
      "Field of symmetric bilinear forms Ric(g) on the 4-dimensional differentiable manifold M\n"
     ]
    }
   ],
   "source": [
    "print(riem)\n",
    "print(ric)"
   ]
  },
  {
   "cell_type": "markdown",
   "metadata": {},
   "source": [
    "### Ricci scalar"
   ]
  },
  {
   "cell_type": "code",
   "execution_count": 13,
   "metadata": {},
   "outputs": [],
   "source": [
    "R = g.inverse()['^ab'] * ric['_ab']"
   ]
  },
  {
   "cell_type": "code",
   "execution_count": 14,
   "metadata": {},
   "outputs": [
    {
     "data": {
      "text/html": [
       "<html><script type=\"math/tex; mode=display\">\\newcommand{\\Bold}[1]{\\mathbf{#1}}\\begin{array}{llcl} & \\mathcal{M} & \\longrightarrow & \\mathbb{R} \\\\ & \\left(t, r, {\\theta}, {\\phi}\\right) & \\longmapsto & -\\frac{2 \\, {\\left({\\left(c^{2} r^{2} - 2 \\, G r m\\left(r\\right)\\right)} \\left(\\frac{\\partial\\,\\Phi}{\\partial r}\\right)^{2} + {\\left(2 \\, c^{2} r - 3 \\, G m\\left(r\\right)\\right)} \\frac{\\partial\\,\\Phi}{\\partial r} + {\\left(c^{2} r^{2} - 2 \\, G r m\\left(r\\right)\\right)} \\frac{\\partial^2\\,\\Phi}{\\partial r ^ 2} - {\\left(G r \\frac{\\partial\\,\\Phi}{\\partial r} + 2 \\, G\\right)} \\frac{\\partial\\,m}{\\partial r}\\right)}}{c^{2} r^{2}} \\end{array}</script></html>"
      ],
      "text/plain": [
       "M --> R\n",
       "(t, r, th, ph) |--> -2*((c^2*r^2 - 2*G*r*m(r))*(d(Phi)/dr)^2 + (2*c^2*r - 3*G*m(r))*d(Phi)/dr + (c^2*r^2 - 2*G*r*m(r))*d^2(Phi)/dr^2 - (G*r*d(Phi)/dr + 2*G)*d(m)/dr)/(c^2*r^2)"
      ]
     },
     "execution_count": 14,
     "metadata": {},
     "output_type": "execute_result"
    }
   ],
   "source": [
    "R.display()"
   ]
  },
  {
   "cell_type": "markdown",
   "metadata": {},
   "source": [
    "### Einstein Tensor"
   ]
  },
  {
   "cell_type": "code",
   "execution_count": 15,
   "metadata": {},
   "outputs": [],
   "source": [
    "Gab = ric - 1/2 * g * R\n",
    "Gab.set_name(r'G_{ab}')"
   ]
  },
  {
   "cell_type": "code",
   "execution_count": 16,
   "metadata": {},
   "outputs": [
    {
     "data": {
      "text/html": [
       "<html><script type=\"math/tex; mode=display\">\\newcommand{\\Bold}[1]{\\mathbf{#1}}G_{ab} = \\frac{2 \\, G e^{\\left(2 \\, \\Phi\\left(r\\right)\\right)} \\frac{\\partial\\,m}{\\partial r}}{r^{2}} \\mathrm{d} t\\otimes \\mathrm{d} t + \\left( -\\frac{2 \\, {\\left(G m\\left(r\\right) - {\\left(c^{2} r^{2} - 2 \\, G r m\\left(r\\right)\\right)} \\frac{\\partial\\,\\Phi}{\\partial r}\\right)}}{c^{2} r^{3} - 2 \\, G r^{2} m\\left(r\\right)} \\right) \\mathrm{d} r\\otimes \\mathrm{d} r + \\left( \\frac{{\\left(c^{2} r^{3} - 2 \\, G r^{2} m\\left(r\\right)\\right)} \\left(\\frac{\\partial\\,\\Phi}{\\partial r}\\right)^{2} + G m\\left(r\\right) + {\\left(c^{2} r^{2} - G r m\\left(r\\right)\\right)} \\frac{\\partial\\,\\Phi}{\\partial r} + {\\left(c^{2} r^{3} - 2 \\, G r^{2} m\\left(r\\right)\\right)} \\frac{\\partial^2\\,\\Phi}{\\partial r ^ 2} - {\\left(G r^{2} \\frac{\\partial\\,\\Phi}{\\partial r} + G r\\right)} \\frac{\\partial\\,m}{\\partial r}}{c^{2} r} \\right) \\mathrm{d} {\\theta}\\otimes \\mathrm{d} {\\theta} + \\frac{{\\left({\\left(c^{2} r^{3} - 2 \\, G r^{2} m\\left(r\\right)\\right)} \\left(\\frac{\\partial\\,\\Phi}{\\partial r}\\right)^{2} + G m\\left(r\\right) + {\\left(c^{2} r^{2} - G r m\\left(r\\right)\\right)} \\frac{\\partial\\,\\Phi}{\\partial r} + {\\left(c^{2} r^{3} - 2 \\, G r^{2} m\\left(r\\right)\\right)} \\frac{\\partial^2\\,\\Phi}{\\partial r ^ 2} - {\\left(G r^{2} \\frac{\\partial\\,\\Phi}{\\partial r} + G r\\right)} \\frac{\\partial\\,m}{\\partial r}\\right)} \\sin\\left({\\theta}\\right)^{2}}{c^{2} r} \\mathrm{d} {\\phi}\\otimes \\mathrm{d} {\\phi}</script></html>"
      ],
      "text/plain": [
       "G_{ab} = 2*G*e^(2*Phi(r))*d(m)/dr/r^2 dt*dt - 2*(G*m(r) - (c^2*r^2 - 2*G*r*m(r))*d(Phi)/dr)/(c^2*r^3 - 2*G*r^2*m(r)) dr*dr + ((c^2*r^3 - 2*G*r^2*m(r))*(d(Phi)/dr)^2 + G*m(r) + (c^2*r^2 - G*r*m(r))*d(Phi)/dr + (c^2*r^3 - 2*G*r^2*m(r))*d^2(Phi)/dr^2 - (G*r^2*d(Phi)/dr + G*r)*d(m)/dr)/(c^2*r) dth*dth + ((c^2*r^3 - 2*G*r^2*m(r))*(d(Phi)/dr)^2 + G*m(r) + (c^2*r^2 - G*r*m(r))*d(Phi)/dr + (c^2*r^3 - 2*G*r^2*m(r))*d^2(Phi)/dr^2 - (G*r^2*d(Phi)/dr + G*r)*d(m)/dr)*sin(th)^2/(c^2*r) dph*dph"
      ]
     },
     "execution_count": 16,
     "metadata": {},
     "output_type": "execute_result"
    }
   ],
   "source": [
    "Gab.display()"
   ]
  },
  {
   "cell_type": "markdown",
   "metadata": {},
   "source": [
    "## Matter"
   ]
  },
  {
   "cell_type": "markdown",
   "metadata": {},
   "source": [
    "### Energy-Momentum Tensor"
   ]
  },
  {
   "cell_type": "markdown",
   "metadata": {},
   "source": [
    "Consider a perfect fluid"
   ]
  },
  {
   "cell_type": "code",
   "execution_count": 17,
   "metadata": {},
   "outputs": [
    {
     "data": {
      "text/html": [
       "<html><script type=\"math/tex; mode=display\">\\newcommand{\\Bold}[1]{\\mathbf{#1}}u = \\frac{e^{\\left(-\\Phi\\left(r\\right)\\right)}}{c} \\frac{\\partial}{\\partial t }</script></html>"
      ],
      "text/plain": [
       "u = e^(-Phi(r))/c d/dt"
      ]
     },
     "execution_count": 17,
     "metadata": {},
     "output_type": "execute_result"
    }
   ],
   "source": [
    "u = M.vector_field('u')\n",
    "u[0] = exp(-Phi(r)) # g(u,u) = -1\n",
    "u.display()"
   ]
  },
  {
   "cell_type": "code",
   "execution_count": 18,
   "metadata": {},
   "outputs": [
    {
     "data": {
      "text/html": [
       "<html><script type=\"math/tex; mode=display\">\\newcommand{\\Bold}[1]{\\mathbf{#1}}\\begin{array}{llcl} g\\left(u,u\\right):& \\mathcal{M} & \\longrightarrow & \\mathbb{R} \\\\ & \\left(t, r, {\\theta}, {\\phi}\\right) & \\longmapsto & -1 \\end{array}</script></html>"
      ],
      "text/plain": [
       "g(u,u): M --> R\n",
       "   (t, r, th, ph) |--> -1"
      ]
     },
     "execution_count": 18,
     "metadata": {},
     "output_type": "execute_result"
    }
   ],
   "source": [
    "g(u,u).display() # Check"
   ]
  },
  {
   "cell_type": "code",
   "execution_count": 19,
   "metadata": {},
   "outputs": [
    {
     "data": {
      "text/html": [
       "<html><script type=\"math/tex; mode=display\">\\newcommand{\\Bold}[1]{\\mathbf{#1}}-c e^{\\Phi\\left(r\\right)} \\mathrm{d} t</script></html>"
      ],
      "text/plain": [
       "-c*e^Phi(r) dt"
      ]
     },
     "execution_count": 19,
     "metadata": {},
     "output_type": "execute_result"
    }
   ],
   "source": [
    "u_form = u.down(g)\n",
    "u_form.display()"
   ]
  },
  {
   "cell_type": "markdown",
   "metadata": {},
   "source": [
    "$$ T_{ab} = (\\rho + P)u_a u_b + Pg_{ab} $$\n",
    "\n",
    "or index-free notation\n",
    "\n",
    "$$ T = (\\rho + P) u \\otimes u + P g $$"
   ]
  },
  {
   "cell_type": "code",
   "execution_count": 40,
   "metadata": {},
   "outputs": [
    {
     "data": {
      "text/html": [
       "<html><script type=\"math/tex; mode=display\">\\newcommand{\\Bold}[1]{\\mathbf{#1}}T = c^{4} e^{\\left(2 \\, \\Phi\\left(r\\right)\\right)} \\rho\\left(r\\right) \\mathrm{d} t\\otimes \\mathrm{d} t + \\left( \\frac{c^{2} r P\\left(r\\right)}{c^{2} r - 2 \\, G m\\left(r\\right)} \\right) \\mathrm{d} r\\otimes \\mathrm{d} r + r^{2} P\\left(r\\right) \\mathrm{d} {\\theta}\\otimes \\mathrm{d} {\\theta} + r^{2} P\\left(r\\right) \\sin\\left({\\theta}\\right)^{2} \\mathrm{d} {\\phi}\\otimes \\mathrm{d} {\\phi}</script></html>"
      ],
      "text/plain": [
       "T = c^4*e^(2*Phi(r))*rho(r) dt*dt + c^2*r*P(r)/(c^2*r - 2*G*m(r)) dr*dr + r^2*P(r) dth*dth + r^2*P(r)*sin(th)^2 dph*dph"
      ]
     },
     "execution_count": 40,
     "metadata": {},
     "output_type": "execute_result"
    }
   ],
   "source": [
    "rho = function('rho')\n",
    "P = function('P')\n",
    "T = (rho(r) + P(r)) * (u_form * u_form) + P(r) * g\n",
    "T.set_name('T')\n",
    "T.display()"
   ]
  },
  {
   "cell_type": "code",
   "execution_count": 41,
   "metadata": {},
   "outputs": [
    {
     "data": {
      "text/html": [
       "<html><script type=\"math/tex; mode=display\">\\newcommand{\\Bold}[1]{\\mathbf{#1}}\\begin{array}{llcl} T\\left(u,u\\right):& \\mathcal{M} & \\longrightarrow & \\mathbb{R} \\\\ & \\left(t, r, {\\theta}, {\\phi}\\right) & \\longmapsto & c^{2} \\rho\\left(r\\right) \\end{array}</script></html>"
      ],
      "text/plain": [
       "T(u,u): M --> R\n",
       "   (t, r, th, ph) |--> c^2*rho(r)"
      ]
     },
     "execution_count": 41,
     "metadata": {},
     "output_type": "execute_result"
    }
   ],
   "source": [
    "T(u,u).display()"
   ]
  },
  {
   "cell_type": "markdown",
   "metadata": {},
   "source": [
    "## Einstein Equation"
   ]
  },
  {
   "cell_type": "code",
   "execution_count": 42,
   "metadata": {},
   "outputs": [
    {
     "data": {
      "text/html": [
       "<html><script type=\"math/tex; mode=display\">\\newcommand{\\Bold}[1]{\\mathbf{#1}}E = -\\frac{2 \\, {\\left(4 \\, \\pi c^{4} r^{2} e^{\\left(2 \\, \\Phi\\left(r\\right)\\right)} \\rho\\left(r\\right) - G e^{\\left(2 \\, \\Phi\\left(r\\right)\\right)} \\frac{\\partial\\,m}{\\partial r}\\right)}}{r^{2}} \\mathrm{d} t\\otimes \\mathrm{d} t + \\left( -\\frac{2 \\, {\\left(4 \\, \\pi c^{2} r^{3} P\\left(r\\right) + G m\\left(r\\right) - {\\left(c^{2} r^{2} - 2 \\, G r m\\left(r\\right)\\right)} \\frac{\\partial\\,\\Phi}{\\partial r}\\right)}}{c^{2} r^{3} - 2 \\, G r^{2} m\\left(r\\right)} \\right) \\mathrm{d} r\\otimes \\mathrm{d} r + \\left( -\\frac{8 \\, \\pi c^{2} r^{3} P\\left(r\\right) - {\\left(c^{2} r^{3} - 2 \\, G r^{2} m\\left(r\\right)\\right)} \\left(\\frac{\\partial\\,\\Phi}{\\partial r}\\right)^{2} - G m\\left(r\\right) - {\\left(c^{2} r^{2} - G r m\\left(r\\right)\\right)} \\frac{\\partial\\,\\Phi}{\\partial r} - {\\left(c^{2} r^{3} - 2 \\, G r^{2} m\\left(r\\right)\\right)} \\frac{\\partial^2\\,\\Phi}{\\partial r ^ 2} + {\\left(G r^{2} \\frac{\\partial\\,\\Phi}{\\partial r} + G r\\right)} \\frac{\\partial\\,m}{\\partial r}}{c^{2} r} \\right) \\mathrm{d} {\\theta}\\otimes \\mathrm{d} {\\theta} -\\frac{{\\left(8 \\, \\pi c^{2} r^{3} P\\left(r\\right) - {\\left(c^{2} r^{3} - 2 \\, G r^{2} m\\left(r\\right)\\right)} \\left(\\frac{\\partial\\,\\Phi}{\\partial r}\\right)^{2} - G m\\left(r\\right) - {\\left(c^{2} r^{2} - G r m\\left(r\\right)\\right)} \\frac{\\partial\\,\\Phi}{\\partial r} - {\\left(c^{2} r^{3} - 2 \\, G r^{2} m\\left(r\\right)\\right)} \\frac{\\partial^2\\,\\Phi}{\\partial r ^ 2} + {\\left(G r^{2} \\frac{\\partial\\,\\Phi}{\\partial r} + G r\\right)} \\frac{\\partial\\,m}{\\partial r}\\right)} \\sin\\left({\\theta}\\right)^{2}}{c^{2} r} \\mathrm{d} {\\phi}\\otimes \\mathrm{d} {\\phi}</script></html>"
      ],
      "text/plain": [
       "E = -2*(4*pi*c^4*r^2*e^(2*Phi(r))*rho(r) - G*e^(2*Phi(r))*d(m)/dr)/r^2 dt*dt - 2*(4*pi*c^2*r^3*P(r) + G*m(r) - (c^2*r^2 - 2*G*r*m(r))*d(Phi)/dr)/(c^2*r^3 - 2*G*r^2*m(r)) dr*dr - (8*pi*c^2*r^3*P(r) - (c^2*r^3 - 2*G*r^2*m(r))*(d(Phi)/dr)^2 - G*m(r) - (c^2*r^2 - G*r*m(r))*d(Phi)/dr - (c^2*r^3 - 2*G*r^2*m(r))*d^2(Phi)/dr^2 + (G*r^2*d(Phi)/dr + G*r)*d(m)/dr)/(c^2*r) dth*dth - (8*pi*c^2*r^3*P(r) - (c^2*r^3 - 2*G*r^2*m(r))*(d(Phi)/dr)^2 - G*m(r) - (c^2*r^2 - G*r*m(r))*d(Phi)/dr - (c^2*r^3 - 2*G*r^2*m(r))*d^2(Phi)/dr^2 + (G*r^2*d(Phi)/dr + G*r)*d(m)/dr)*sin(th)^2/(c^2*r) dph*dph"
      ]
     },
     "execution_count": 42,
     "metadata": {},
     "output_type": "execute_result"
    }
   ],
   "source": [
    "E = Gab - 8 * pi * T\n",
    "E.set_name('E')\n",
    "E.display()"
   ]
  },
  {
   "cell_type": "code",
   "execution_count": 43,
   "metadata": {},
   "outputs": [
    {
     "data": {
      "text/html": [
       "<html><script type=\"math/tex; mode=display\">\\newcommand{\\Bold}[1]{\\mathbf{#1}}\\begin{array}{lcl} E_{ \\, t \\, t }^{ \\phantom{\\, t}\\phantom{\\, t} } & = & -\\frac{2 \\, {\\left(4 \\, \\pi c^{4} r^{2} e^{\\left(2 \\, \\Phi\\left(r\\right)\\right)} \\rho\\left(r\\right) - G e^{\\left(2 \\, \\Phi\\left(r\\right)\\right)} \\frac{\\partial\\,m}{\\partial r}\\right)}}{r^{2}} \\\\ E_{ \\, r \\, r }^{ \\phantom{\\, r}\\phantom{\\, r} } & = & -\\frac{2 \\, {\\left(4 \\, \\pi c^{2} r^{3} P\\left(r\\right) + G m\\left(r\\right) - {\\left(c^{2} r^{2} - 2 \\, G r m\\left(r\\right)\\right)} \\frac{\\partial\\,\\Phi}{\\partial r}\\right)}}{c^{2} r^{3} - 2 \\, G r^{2} m\\left(r\\right)} \\\\ E_{ \\, {\\theta} \\, {\\theta} }^{ \\phantom{\\, {\\theta}}\\phantom{\\, {\\theta}} } & = & -\\frac{8 \\, \\pi c^{2} r^{3} P\\left(r\\right) - {\\left(c^{2} r^{3} - 2 \\, G r^{2} m\\left(r\\right)\\right)} \\left(\\frac{\\partial\\,\\Phi}{\\partial r}\\right)^{2} - G m\\left(r\\right) - {\\left(c^{2} r^{2} - G r m\\left(r\\right)\\right)} \\frac{\\partial\\,\\Phi}{\\partial r} - {\\left(c^{2} r^{3} - 2 \\, G r^{2} m\\left(r\\right)\\right)} \\frac{\\partial^2\\,\\Phi}{\\partial r ^ 2} + {\\left(G r^{2} \\frac{\\partial\\,\\Phi}{\\partial r} + G r\\right)} \\frac{\\partial\\,m}{\\partial r}}{c^{2} r} \\\\ E_{ \\, {\\phi} \\, {\\phi} }^{ \\phantom{\\, {\\phi}}\\phantom{\\, {\\phi}} } & = & -\\frac{{\\left(8 \\, \\pi c^{2} r^{3} P\\left(r\\right) - {\\left(c^{2} r^{3} - 2 \\, G r^{2} m\\left(r\\right)\\right)} \\left(\\frac{\\partial\\,\\Phi}{\\partial r}\\right)^{2} - G m\\left(r\\right) - {\\left(c^{2} r^{2} - G r m\\left(r\\right)\\right)} \\frac{\\partial\\,\\Phi}{\\partial r} - {\\left(c^{2} r^{3} - 2 \\, G r^{2} m\\left(r\\right)\\right)} \\frac{\\partial^2\\,\\Phi}{\\partial r ^ 2} + {\\left(G r^{2} \\frac{\\partial\\,\\Phi}{\\partial r} + G r\\right)} \\frac{\\partial\\,m}{\\partial r}\\right)} \\sin\\left({\\theta}\\right)^{2}}{c^{2} r} \\end{array}</script></html>"
      ],
      "text/plain": [
       "E_t,t = -2*(4*pi*c^4*r^2*e^(2*Phi(r))*rho(r) - G*e^(2*Phi(r))*d(m)/dr)/r^2 \n",
       "E_r,r = -2*(4*pi*c^2*r^3*P(r) + G*m(r) - (c^2*r^2 - 2*G*r*m(r))*d(Phi)/dr)/(c^2*r^3 - 2*G*r^2*m(r)) \n",
       "E_th,th = -(8*pi*c^2*r^3*P(r) - (c^2*r^3 - 2*G*r^2*m(r))*(d(Phi)/dr)^2 - G*m(r) - (c^2*r^2 - G*r*m(r))*d(Phi)/dr - (c^2*r^3 - 2*G*r^2*m(r))*d^2(Phi)/dr^2 + (G*r^2*d(Phi)/dr + G*r)*d(m)/dr)/(c^2*r) \n",
       "E_ph,ph = -(8*pi*c^2*r^3*P(r) - (c^2*r^3 - 2*G*r^2*m(r))*(d(Phi)/dr)^2 - G*m(r) - (c^2*r^2 - G*r*m(r))*d(Phi)/dr - (c^2*r^3 - 2*G*r^2*m(r))*d^2(Phi)/dr^2 + (G*r^2*d(Phi)/dr + G*r)*d(m)/dr)*sin(th)^2/(c^2*r) "
      ]
     },
     "execution_count": 43,
     "metadata": {},
     "output_type": "execute_result"
    }
   ],
   "source": [
    "E.display_comp()"
   ]
  },
  {
   "cell_type": "markdown",
   "metadata": {},
   "source": [
    "## TOV Equations"
   ]
  },
  {
   "cell_type": "code",
   "execution_count": 44,
   "metadata": {},
   "outputs": [
    {
     "data": {
      "text/html": [
       "<html><script type=\"math/tex; mode=display\">\\newcommand{\\Bold}[1]{\\mathbf{#1}}\\frac{\\partial}{\\partial r}m\\left(r\\right) = \\frac{4 \\, \\pi c^{4} r^{2} \\rho\\left(r\\right)}{G}</script></html>"
      ],
      "text/plain": [
       "diff(m(r), r) == 4*pi*c^4*r^2*rho(r)/G"
      ]
     },
     "execution_count": 44,
     "metadata": {},
     "output_type": "execute_result"
    }
   ],
   "source": [
    "TOV0_sol = solve(E[0,0].expr() == 0, diff(m(r), r))\n",
    "TOV0 = TOV0_sol[0]\n",
    "TOV0"
   ]
  },
  {
   "cell_type": "code",
   "execution_count": 45,
   "metadata": {},
   "outputs": [
    {
     "data": {
      "text/html": [
       "<html><script type=\"math/tex; mode=display\">\\newcommand{\\Bold}[1]{\\mathbf{#1}}\\frac{\\partial}{\\partial r}\\Phi\\left(r\\right) = \\frac{4 \\, \\pi c^{2} r^{3} P\\left(r\\right) + G m\\left(r\\right)}{c^{2} r^{2} - 2 \\, G r m\\left(r\\right)}</script></html>"
      ],
      "text/plain": [
       "diff(Phi(r), r) == (4*pi*c^2*r^3*P(r) + G*m(r))/(c^2*r^2 - 2*G*r*m(r))"
      ]
     },
     "execution_count": 45,
     "metadata": {},
     "output_type": "execute_result"
    }
   ],
   "source": [
    "TOV1_sol = solve(E[1,1].expr() == 0, diff(Phi(r), r))\n",
    "TOV1 = TOV1_sol[0]\n",
    "TOV1"
   ]
  },
  {
   "cell_type": "code",
   "execution_count": 46,
   "metadata": {},
   "outputs": [
    {
     "data": {
      "text/html": [
       "<html><script type=\"math/tex; mode=display\">\\newcommand{\\Bold}[1]{\\mathbf{#1}}\\left( {\\left(c^{2} \\rho\\left(r\\right) + P\\left(r\\right)\\right)} \\frac{\\partial\\,\\Phi}{\\partial r} + \\frac{\\partial\\,P}{\\partial r} \\right) \\mathrm{d} r</script></html>"
      ],
      "text/plain": [
       "((c^2*rho(r) + P(r))*d(Phi)/dr + d(P)/dr) dr"
      ]
     },
     "execution_count": 46,
     "metadata": {},
     "output_type": "execute_result"
    }
   ],
   "source": [
    "# By energy conservation\n",
    "dTu = nab(T.up(g, 0))\n",
    "divT = dTu['^b_{ab}']\n",
    "divT.display()"
   ]
  },
  {
   "cell_type": "code",
   "execution_count": 47,
   "metadata": {},
   "outputs": [
    {
     "data": {
      "text/html": [
       "<html><script type=\"math/tex; mode=display\">\\newcommand{\\Bold}[1]{\\mathbf{#1}}\\frac{\\partial}{\\partial r}P\\left(r\\right) = -{\\left(c^{2} \\rho\\left(r\\right) + P\\left(r\\right)\\right)} \\frac{\\partial}{\\partial r}\\Phi\\left(r\\right)</script></html>"
      ],
      "text/plain": [
       "diff(P(r), r) == -(c^2*rho(r) + P(r))*diff(Phi(r), r)"
      ]
     },
     "execution_count": 47,
     "metadata": {},
     "output_type": "execute_result"
    }
   ],
   "source": [
    "TOV2_sol = solve(divT[1].expr() == 0, diff(P(r), r))\n",
    "TOV2 = TOV2_sol[0]\n",
    "TOV2"
   ]
  },
  {
   "cell_type": "code",
   "execution_count": 48,
   "metadata": {},
   "outputs": [
    {
     "data": {
      "text/html": [
       "<html><script type=\"math/tex; mode=display\">\\newcommand{\\Bold}[1]{\\mathbf{#1}}\\frac{\\partial}{\\partial r}m\\left(r\\right) = \\frac{4 \\, \\pi c^{4} r^{2} \\rho\\left(r\\right)}{G}</script></html>"
      ],
      "text/plain": [
       "diff(m(r), r) == 4*pi*c^4*r^2*rho(r)/G"
      ]
     },
     "metadata": {},
     "output_type": "display_data"
    },
    {
     "data": {
      "text/html": [
       "<html><script type=\"math/tex; mode=display\">\\newcommand{\\Bold}[1]{\\mathbf{#1}}\\frac{\\partial}{\\partial r}\\Phi\\left(r\\right) = \\frac{4 \\, \\pi c^{2} r^{3} P\\left(r\\right) + G m\\left(r\\right)}{c^{2} r^{2} - 2 \\, G r m\\left(r\\right)}</script></html>"
      ],
      "text/plain": [
       "diff(Phi(r), r) == (4*pi*c^2*r^3*P(r) + G*m(r))/(c^2*r^2 - 2*G*r*m(r))"
      ]
     },
     "metadata": {},
     "output_type": "display_data"
    },
    {
     "data": {
      "text/html": [
       "<html><script type=\"math/tex; mode=display\">\\newcommand{\\Bold}[1]{\\mathbf{#1}}\\frac{\\partial}{\\partial r}P\\left(r\\right) = -{\\left(c^{2} \\rho\\left(r\\right) + P\\left(r\\right)\\right)} \\frac{\\partial}{\\partial r}\\Phi\\left(r\\right)</script></html>"
      ],
      "text/plain": [
       "diff(P(r), r) == -(c^2*rho(r) + P(r))*diff(Phi(r), r)"
      ]
     },
     "metadata": {},
     "output_type": "display_data"
    }
   ],
   "source": [
    "for eq in [TOV0, TOV1, TOV2]:\n",
    "    show(eq)"
   ]
  },
  {
   "cell_type": "markdown",
   "metadata": {},
   "source": [
    "$$ [G] = \\frac{[L]^3}{[M][T]^2} $$\n",
    "$$ [\\rho] = \\frac{[M]"
   ]
  },
  {
   "cell_type": "markdown",
   "metadata": {},
   "source": [
    "### L'Hospital's Rule"
   ]
  },
  {
   "cell_type": "code",
   "execution_count": 29,
   "metadata": {},
   "outputs": [
    {
     "data": {
      "text/html": [
       "<html><script type=\"math/tex; mode=display\">\\newcommand{\\Bold}[1]{\\mathbf{#1}}\\frac{4 \\, \\pi c^{2} r^{2} \\frac{\\partial^{2}}{(\\partial r)^{2}}\\rho\\left(r\\right)}{G} + \\frac{16 \\, \\pi c^{2} r \\frac{\\partial}{\\partial r}\\rho\\left(r\\right)}{G} + \\frac{8 \\, \\pi c^{2} \\rho\\left(r\\right)}{G}</script></html>"
      ],
      "text/plain": [
       "4*pi*c^2*r^2*diff(rho(r), r, r)/G + 16*pi*c^2*r*diff(rho(r), r)/G + 8*pi*c^2*rho(r)/G"
      ]
     },
     "execution_count": 29,
     "metadata": {},
     "output_type": "execute_result"
    }
   ],
   "source": [
    "diff(TOV0.rhs(), r, 2)"
   ]
  },
  {
   "cell_type": "code",
   "execution_count": 30,
   "metadata": {},
   "outputs": [
    {
     "data": {
      "text/html": [
       "<html><script type=\"math/tex; mode=display\">\\newcommand{\\Bold}[1]{\\mathbf{#1}}4 \\, \\pi r^{3} \\frac{\\partial}{\\partial r}P\\left(r\\right) + 12 \\, \\pi r^{2} P\\left(r\\right) + \\frac{\\partial}{\\partial r}m\\left(r\\right)</script></html>"
      ],
      "text/plain": [
       "4*pi*r^3*diff(P(r), r) + 12*pi*r^2*P(r) + diff(m(r), r)"
      ]
     },
     "execution_count": 30,
     "metadata": {},
     "output_type": "execute_result"
    }
   ],
   "source": [
    "diff(4*pi*r^3*P(r) + m(r), r)"
   ]
  },
  {
   "cell_type": "code",
   "execution_count": 31,
   "metadata": {},
   "outputs": [
    {
     "data": {
      "text/html": [
       "<html><script type=\"math/tex; mode=display\">\\newcommand{\\Bold}[1]{\\mathbf{#1}}\\lim_{r \\to 0}\\, \\frac{4 \\, \\pi c^{2} r^{3} P\\left(r\\right) + G m\\left(r\\right)}{c^{2} r^{2} - 2 \\, G r m\\left(r\\right)}</script></html>"
      ],
      "text/plain": [
       "limit((4*pi*c^2*r^3*P(r) + G*m(r))/(c^2*r^2 - 2*G*r*m(r)), r, 0)"
      ]
     },
     "execution_count": 31,
     "metadata": {},
     "output_type": "execute_result"
    }
   ],
   "source": [
    "limit(TOV1.rhs(), r=0)"
   ]
  },
  {
   "cell_type": "code",
   "execution_count": 32,
   "metadata": {},
   "outputs": [],
   "source": [
    "tov = - (rho(r) + P(r))*(m(r) + 4*pi*r^3*P(r)) / (r^2 - 2*m(r)*r)"
   ]
  },
  {
   "cell_type": "code",
   "execution_count": 33,
   "metadata": {},
   "outputs": [
    {
     "data": {
      "text/html": [
       "<html><script type=\"math/tex; mode=display\">\\newcommand{\\Bold}[1]{\\mathbf{#1}}-\\frac{{\\left(4 \\, \\pi r^{3} P\\left(r\\right) + m\\left(r\\right)\\right)} {\\left(P\\left(r\\right) + \\rho\\left(r\\right)\\right)}}{r^{2} - 2 \\, r m\\left(r\\right)}</script></html>"
      ],
      "text/plain": [
       "-(4*pi*r^3*P(r) + m(r))*(P(r) + rho(r))/(r^2 - 2*r*m(r))"
      ]
     },
     "execution_count": 33,
     "metadata": {},
     "output_type": "execute_result"
    }
   ],
   "source": [
    "tov"
   ]
  },
  {
   "cell_type": "code",
   "execution_count": 34,
   "metadata": {},
   "outputs": [
    {
     "data": {
      "text/html": [
       "<html><script type=\"math/tex; mode=display\">\\newcommand{\\Bold}[1]{\\mathbf{#1}}-{\\left(4 \\, \\pi r^{3} \\frac{\\partial^{2}}{(\\partial r)^{2}}P\\left(r\\right) + 24 \\, \\pi r^{2} \\frac{\\partial}{\\partial r}P\\left(r\\right) + 24 \\, \\pi r P\\left(r\\right) + \\frac{\\partial^{2}}{(\\partial r)^{2}}m\\left(r\\right)\\right)} {\\left(P\\left(r\\right) + \\rho\\left(r\\right)\\right)} - 2 \\, {\\left(4 \\, \\pi r^{3} \\frac{\\partial}{\\partial r}P\\left(r\\right) + 12 \\, \\pi r^{2} P\\left(r\\right) + \\frac{\\partial}{\\partial r}m\\left(r\\right)\\right)} {\\left(\\frac{\\partial}{\\partial r}P\\left(r\\right) + \\frac{\\partial}{\\partial r}\\rho\\left(r\\right)\\right)} - {\\left(4 \\, \\pi r^{3} P\\left(r\\right) + m\\left(r\\right)\\right)} {\\left(\\frac{\\partial^{2}}{(\\partial r)^{2}}P\\left(r\\right) + \\frac{\\partial^{2}}{(\\partial r)^{2}}\\rho\\left(r\\right)\\right)}</script></html>"
      ],
      "text/plain": [
       "-(4*pi*r^3*diff(P(r), r, r) + 24*pi*r^2*diff(P(r), r) + 24*pi*r*P(r) + diff(m(r), r, r))*(P(r) + rho(r)) - 2*(4*pi*r^3*diff(P(r), r) + 12*pi*r^2*P(r) + diff(m(r), r))*(diff(P(r), r) + diff(rho(r), r)) - (4*pi*r^3*P(r) + m(r))*(diff(P(r), r, r) + diff(rho(r), r, r))"
      ]
     },
     "execution_count": 34,
     "metadata": {},
     "output_type": "execute_result"
    }
   ],
   "source": [
    "diff(tov.numerator(), r, 2)"
   ]
  },
  {
   "cell_type": "code",
   "execution_count": 35,
   "metadata": {},
   "outputs": [
    {
     "data": {
      "text/html": [
       "<html><script type=\"math/tex; mode=display\">\\newcommand{\\Bold}[1]{\\mathbf{#1}}-2 \\, r \\frac{\\partial^{2}}{(\\partial r)^{2}}m\\left(r\\right) - 4 \\, \\frac{\\partial}{\\partial r}m\\left(r\\right) + 2</script></html>"
      ],
      "text/plain": [
       "-2*r*diff(m(r), r, r) - 4*diff(m(r), r) + 2"
      ]
     },
     "execution_count": 35,
     "metadata": {},
     "output_type": "execute_result"
    }
   ],
   "source": [
    "diff(tov.denominator(), r, 2)"
   ]
  },
  {
   "cell_type": "code",
   "execution_count": 36,
   "metadata": {},
   "outputs": [
    {
     "data": {
      "text/html": [
       "<html><script type=\"math/tex; mode=display\">\\newcommand{\\Bold}[1]{\\mathbf{#1}}\\frac{P\\left(0\\right) + \\rho\\left(0\\right)}{2 \\, r} + \\frac{{\\left(2 \\, {\\left(\\mathrm{D}_{0, 0}\\left(P\\right)\\left(0\\right) + \\mathrm{D}_{0, 0}\\left(\\rho\\right)\\left(0\\right)\\right)} m\\left(0\\right)^{2} + 2 \\, {\\left(\\mathrm{D}_{0}\\left(P\\right)\\left(0\\right) + \\mathrm{D}_{0}\\left(\\rho\\right)\\left(0\\right)\\right)} m\\left(0\\right) - 2 \\, {\\left(P\\left(0\\right) + \\rho\\left(0\\right)\\right)} \\mathrm{D}_{0}\\left(m\\right)\\left(0\\right) + P\\left(0\\right) + \\rho\\left(0\\right)\\right)} r}{8 \\, m\\left(0\\right)^{2}} + \\frac{2 \\, {\\left(\\mathrm{D}_{0}\\left(P\\right)\\left(0\\right) + \\mathrm{D}_{0}\\left(\\rho\\right)\\left(0\\right)\\right)} m\\left(0\\right) + P\\left(0\\right) + \\rho\\left(0\\right)}{4 \\, m\\left(0\\right)}</script></html>"
      ],
      "text/plain": [
       "1/2*(P(0) + rho(0))/r + 1/8*(2*(D[0, 0](P)(0) + D[0, 0](rho)(0))*m(0)^2 + 2*(D[0](P)(0) + D[0](rho)(0))*m(0) - 2*(P(0) + rho(0))*D[0](m)(0) + P(0) + rho(0))*r/m(0)^2 + 1/4*(2*(D[0](P)(0) + D[0](rho)(0))*m(0) + P(0) + rho(0))/m(0)"
      ]
     },
     "execution_count": 36,
     "metadata": {},
     "output_type": "execute_result"
    }
   ],
   "source": [
    "tov.taylor(r, 0, 1)"
   ]
  },
  {
   "cell_type": "code",
   "execution_count": 37,
   "metadata": {},
   "outputs": [
    {
     "data": {
      "text/html": [
       "<html><script type=\"math/tex; mode=display\">\\newcommand{\\Bold}[1]{\\mathbf{#1}}-\\frac{c^{2}}{4 \\, G m\\left(0\\right)} - \\frac{1}{2 \\, r} - \\frac{{\\left(c^{4} - 2 \\, G c^{2} \\mathrm{D}_{0}\\left(m\\right)\\left(0\\right)\\right)} r}{8 \\, G^{2} m\\left(0\\right)^{2}} - \\frac{{\\left(c^{6} - 4 \\, G c^{4} \\mathrm{D}_{0}\\left(m\\right)\\left(0\\right) + 2 \\, {\\left(16 \\, \\pi P\\left(0\\right) m\\left(0\\right)^{2} + 2 \\, \\mathrm{D}_{0}\\left(m\\right)\\left(0\\right)^{2} - m\\left(0\\right) \\mathrm{D}_{0, 0}\\left(m\\right)\\left(0\\right)\\right)} G^{2} c^{2}\\right)} r^{2}}{16 \\, G^{3} m\\left(0\\right)^{3}}</script></html>"
      ],
      "text/plain": [
       "-1/4*c^2/(G*m(0)) - 1/2/r - 1/8*(c^4 - 2*G*c^2*D[0](m)(0))*r/(G^2*m(0)^2) - 1/16*(c^6 - 4*G*c^4*D[0](m)(0) + 2*(16*pi*P(0)*m(0)^2 + 2*D[0](m)(0)^2 - m(0)*D[0, 0](m)(0))*G^2*c^2)*r^2/(G^3*m(0)^3)"
      ]
     },
     "execution_count": 37,
     "metadata": {},
     "output_type": "execute_result"
    }
   ],
   "source": [
    "TOV1.rhs().taylor(r, 0, 2)"
   ]
  },
  {
   "cell_type": "code",
   "execution_count": null,
   "metadata": {},
   "outputs": [],
   "source": []
  }
 ],
 "metadata": {
  "kernelspec": {
   "display_name": "SageMath 8.6",
   "language": "",
   "name": "sagemath"
  },
  "language_info": {
   "codemirror_mode": {
    "name": "ipython",
    "version": 2
   },
   "file_extension": ".py",
   "mimetype": "text/x-python",
   "name": "python",
   "nbconvert_exporter": "python",
   "pygments_lexer": "ipython2",
   "version": "2.7.15"
  }
 },
 "nbformat": 4,
 "nbformat_minor": 2
}
