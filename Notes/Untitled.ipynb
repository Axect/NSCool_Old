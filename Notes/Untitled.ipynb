{
 "cells": [
  {
   "cell_type": "code",
   "execution_count": 2,
   "metadata": {},
   "outputs": [],
   "source": [
    "% BSk19\n",
    "a = [\n",
    "    3.916,\n",
    "    7.701,\n",
    "    0.00858,\n",
    "    0.22114,\n",
    "    3.269,\n",
    "    11.964,\n",
    "    13.349,\n",
    "    1.3683,\n",
    "    3.254,\n",
    "    -12.953,\n",
    "    0.9237,\n",
    "    6.20,\n",
    "    14.383,\n",
    "    16.693,\n",
    "    -1.0514,\n",
    "    2.486,\n",
    "    15.362,\n",
    "    0.085,\n",
    "    6.23,\n",
    "    11.68,\n",
    "    -0.029,\n",
    "    20.1,\n",
    "    14.19\n",
    "];"
   ]
  },
  {
   "cell_type": "code",
   "execution_count": null,
   "metadata": {},
   "outputs": [],
   "source": []
  },
  {
   "cell_type": "code",
   "execution_count": 4,
   "metadata": {},
   "outputs": [
    {
     "name": "stderr",
     "output_type": "stream",
     "text": [
      "\u001b[0;31m오류: 이 컨텍스트에서는 함수 정의가 지원되지 않습니다. 함수를 코드 파일로 만드십시오.\n",
      "\n",
      "\u001b[0m"
     ]
    },
    {
     "ename": "Error",
     "evalue": -1,
     "output_type": "error",
     "traceback": "오류: 이 컨텍스트에서는 함수 정의가 지원되지 않습니다. 함수를 코드 파일로 만드십시오.\n"
    }
   ],
   "source": [
    "function p = zeta(rho)\n",
    "xi = log10(rho);\n",
    "p = (a(1) + a(2)*xi + a(3)*xi^3) / (1 + a(4)*xi) * (exp(a(5)*(xi - a(6))) + 1)^(-1) ...\n",
    "    + (a(7) + a(8)*xi) / (exp(a(9)*(a(6) - xi)) + 1) ...\n",
    "    + (a(10) + a(11)*xi) / (exp(a(12)*(a(13) - xi)) + 1) ...\n",
    "    + (a(14) + a(15)*xi) / (exp(a(16)*(a(17) - xi)) + 1) ...\n",
    "    + a(18)/(1 + (a(19)*(a(20) - xi))^2) ...\n",
    "    + a(21)/(1 + (a(22)*(a(23) - xi))^2);\n",
    "end"
   ]
  },
  {
   "cell_type": "code",
   "execution_count": null,
   "metadata": {},
   "outputs": [],
   "source": [
    "function dy = TOV(r,y)\n",
    "dy(1) = 4*pi*y(2)*r^2;\n",
    "dy(2) = "
   ]
  }
 ],
 "metadata": {
  "kernelspec": {
   "display_name": "Matlab",
   "language": "matlab",
   "name": "matlab"
  },
  "language_info": {
   "codemirror_mode": "octave",
   "file_extension": ".m",
   "help_links": [
    {
     "text": "MetaKernel Magics",
     "url": "https://metakernel.readthedocs.io/en/latest/source/README.html"
    }
   ],
   "mimetype": "text/x-octave",
   "name": "matlab",
   "version": "0.16.3"
  }
 },
 "nbformat": 4,
 "nbformat_minor": 2
}
