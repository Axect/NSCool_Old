{
 "cells": [
  {
   "cell_type": "markdown",
   "metadata": {},
   "source": [
    "# Tolman-Oppenheimer-Volkoff equations\n",
    "\n",
    "This Jupyter/SageMath notebook is relative to the lectures\n",
    "[General relativity computations with SageManifolds](https://indico.cern.ch/event/505595/) given at the NewCompStar School 2016 (Coimbra, Portugal).\n",
    "  \n",
    "These computations are based on [SageManifolds](https://sagemanifolds.obspm.fr) (currently version 1.3, as included in SageMath 8.3).\n",
    "\n",
    "Click [here](https://raw.githubusercontent.com/sagemanifolds/SageManifolds/master/Worksheets/v1.3/SM_TOV.ipynb) to download the notebook file (ipynb format). To run it, you must start SageMath with the Jupyter notebook, with the command `sage -n jupyter`"
   ]
  },
  {
   "cell_type": "markdown",
   "metadata": {},
   "source": [
    "This worksheet is divided in two parts:\n",
    "\n",
    "1. Deriving the TOV system from the Einstein equation\n",
    "2. Solving the TOV system to get stellar models\n"
   ]
  },
  {
   "cell_type": "markdown",
   "metadata": {},
   "source": [
    "*NB:* a version of SageMath at least equal to 7.5 is required to run this notebook:"
   ]
  },
  {
   "cell_type": "code",
   "execution_count": 1,
   "metadata": {},
   "outputs": [
    {
     "data": {
      "text/plain": [
       "'SageMath version 8.4, Release Date: 2018-10-17'"
      ]
     },
     "execution_count": 1,
     "metadata": {},
     "output_type": "execute_result"
    }
   ],
   "source": [
    "version()"
   ]
  },
  {
   "cell_type": "markdown",
   "metadata": {},
   "source": [
    "First we set up the notebook to display mathematical objects using LaTeX rendering:"
   ]
  },
  {
   "cell_type": "code",
   "execution_count": 2,
   "metadata": {},
   "outputs": [],
   "source": [
    "%display latex"
   ]
  },
  {
   "cell_type": "markdown",
   "metadata": {},
   "source": [
    "## 1. Deriving the TOV system from the Einstein equation\n",
    "\n",
    "### Spacetime\n",
    "\n",
    "We declare the spacetime manifold $M$:"
   ]
  },
  {
   "cell_type": "code",
   "execution_count": 4,
   "metadata": {},
   "outputs": [
    {
     "data": {
      "text/html": [
       "<html><script type=\"math/tex; mode=display\">\\newcommand{\\Bold}[1]{\\mathbf{#1}}M</script></html>"
      ],
      "text/plain": [
       "4-dimensional differentiable manifold M"
      ]
     },
     "metadata": {},
     "output_type": "display_data"
    }
   ],
   "source": [
    "M = Manifold(4, 'M')\n",
    "show(M)"
   ]
  },
  {
   "cell_type": "markdown",
   "metadata": {},
   "source": [
    "We declare the chart of spherical coordinates $(t,r,\\theta,\\phi)$, via the method `chart` acting on `M`; to see how to use it, we again use the question mark:"
   ]
  },
  {
   "cell_type": "code",
   "execution_count": 10,
   "metadata": {},
   "outputs": [
    {
     "data": {
      "text/html": [
       "<html><script type=\"math/tex; mode=display\">\\newcommand{\\Bold}[1]{\\mathbf{#1}}\\left(M,(t, r, {\\theta}, {\\phi})\\right)</script></html>"
      ],
      "text/plain": [
       "Chart (M, (t, r, th, ph))"
      ]
     },
     "execution_count": 10,
     "metadata": {},
     "output_type": "execute_result"
    }
   ],
   "source": [
    "X.<t,r,th,ph> = M.chart(r't r:(0,+oo) th:(0,pi):\\theta ph:(0,2*pi):\\phi')\n",
    "X"
   ]
  },
  {
   "cell_type": "markdown",
   "metadata": {},
   "source": [
    "### Metric tensor\n",
    "\n",
    "The static and spherically symmetric metric ansatz, with the unknown functions $\\nu(r)$ and $m(r)$:"
   ]
  },
  {
   "cell_type": "code",
   "execution_count": 11,
   "metadata": {},
   "outputs": [
    {
     "data": {
      "text/html": [
       "<html><script type=\"math/tex; mode=display\">\\newcommand{\\Bold}[1]{\\mathbf{#1}}g = -e^{\\left(2 \\, \\nu\\left(r\\right)\\right)} \\mathrm{d} t\\otimes \\mathrm{d} t + \\left( -\\frac{1}{\\frac{2 \\, m\\left(r\\right)}{r} - 1} \\right) \\mathrm{d} r\\otimes \\mathrm{d} r + r^{2} \\mathrm{d} {\\theta}\\otimes \\mathrm{d} {\\theta} + r^{2} \\sin\\left({\\theta}\\right)^{2} \\mathrm{d} {\\phi}\\otimes \\mathrm{d} {\\phi}</script></html>"
      ],
      "text/plain": [
       "g = -e^(2*nu(r)) dt*dt - 1/(2*m(r)/r - 1) dr*dr + r^2 dth*dth + r^2*sin(th)^2 dph*dph"
      ]
     },
     "execution_count": 11,
     "metadata": {},
     "output_type": "execute_result"
    }
   ],
   "source": [
    "g = M.lorentzian_metric('g')\n",
    "nu = function('nu')\n",
    "m = function('m')\n",
    "g[0,0] = -exp(2*nu(r))\n",
    "g[1,1] = 1/(1-2*m(r)/r)\n",
    "g[2,2] = r^2\n",
    "g[3,3] = (r*sin(th))^2\n",
    "g.display()"
   ]
  },
  {
   "cell_type": "markdown",
   "metadata": {},
   "source": [
    "One can display the metric components as a list:"
   ]
  },
  {
   "cell_type": "code",
   "execution_count": 12,
   "metadata": {},
   "outputs": [
    {
     "data": {
      "text/html": [
       "<html><script type=\"math/tex; mode=display\">\\newcommand{\\Bold}[1]{\\mathbf{#1}}\\begin{array}{lcl} g_{ \\, t \\, t }^{ \\phantom{\\, t}\\phantom{\\, t} } & = & -e^{\\left(2 \\, \\nu\\left(r\\right)\\right)} \\\\ g_{ \\, r \\, r }^{ \\phantom{\\, r}\\phantom{\\, r} } & = & -\\frac{1}{\\frac{2 \\, m\\left(r\\right)}{r} - 1} \\\\ g_{ \\, {\\theta} \\, {\\theta} }^{ \\phantom{\\, {\\theta}}\\phantom{\\, {\\theta}} } & = & r^{2} \\\\ g_{ \\, {\\phi} \\, {\\phi} }^{ \\phantom{\\, {\\phi}}\\phantom{\\, {\\phi}} } & = & r^{2} \\sin\\left({\\theta}\\right)^{2} \\end{array}</script></html>"
      ],
      "text/plain": [
       "g_t,t = -e^(2*nu(r)) \n",
       "g_r,r = -1/(2*m(r)/r - 1) \n",
       "g_th,th = r^2 \n",
       "g_ph,ph = r^2*sin(th)^2 "
      ]
     },
     "execution_count": 12,
     "metadata": {},
     "output_type": "execute_result"
    }
   ],
   "source": [
    "g.display_comp()"
   ]
  },
  {
   "cell_type": "markdown",
   "metadata": {},
   "source": [
    "By default, only the nonzero components are shown; to get all the components, set the option `only_nonzero` to `False`:"
   ]
  },
  {
   "cell_type": "code",
   "execution_count": 13,
   "metadata": {},
   "outputs": [
    {
     "data": {
      "text/html": [
       "<html><script type=\"math/tex; mode=display\">\\newcommand{\\Bold}[1]{\\mathbf{#1}}\\begin{array}{lcl} g_{ \\, t \\, t }^{ \\phantom{\\, t}\\phantom{\\, t} } & = & -e^{\\left(2 \\, \\nu\\left(r\\right)\\right)} \\\\ g_{ \\, t \\, r }^{ \\phantom{\\, t}\\phantom{\\, r} } & = & 0 \\\\ g_{ \\, t \\, {\\theta} }^{ \\phantom{\\, t}\\phantom{\\, {\\theta}} } & = & 0 \\\\ g_{ \\, t \\, {\\phi} }^{ \\phantom{\\, t}\\phantom{\\, {\\phi}} } & = & 0 \\\\ g_{ \\, r \\, t }^{ \\phantom{\\, r}\\phantom{\\, t} } & = & 0 \\\\ g_{ \\, r \\, r }^{ \\phantom{\\, r}\\phantom{\\, r} } & = & -\\frac{1}{\\frac{2 \\, m\\left(r\\right)}{r} - 1} \\\\ g_{ \\, r \\, {\\theta} }^{ \\phantom{\\, r}\\phantom{\\, {\\theta}} } & = & 0 \\\\ g_{ \\, r \\, {\\phi} }^{ \\phantom{\\, r}\\phantom{\\, {\\phi}} } & = & 0 \\\\ g_{ \\, {\\theta} \\, t }^{ \\phantom{\\, {\\theta}}\\phantom{\\, t} } & = & 0 \\\\ g_{ \\, {\\theta} \\, r }^{ \\phantom{\\, {\\theta}}\\phantom{\\, r} } & = & 0 \\\\ g_{ \\, {\\theta} \\, {\\theta} }^{ \\phantom{\\, {\\theta}}\\phantom{\\, {\\theta}} } & = & r^{2} \\\\ g_{ \\, {\\theta} \\, {\\phi} }^{ \\phantom{\\, {\\theta}}\\phantom{\\, {\\phi}} } & = & 0 \\\\ g_{ \\, {\\phi} \\, t }^{ \\phantom{\\, {\\phi}}\\phantom{\\, t} } & = & 0 \\\\ g_{ \\, {\\phi} \\, r }^{ \\phantom{\\, {\\phi}}\\phantom{\\, r} } & = & 0 \\\\ g_{ \\, {\\phi} \\, {\\theta} }^{ \\phantom{\\, {\\phi}}\\phantom{\\, {\\theta}} } & = & 0 \\\\ g_{ \\, {\\phi} \\, {\\phi} }^{ \\phantom{\\, {\\phi}}\\phantom{\\, {\\phi}} } & = & r^{2} \\sin\\left({\\theta}\\right)^{2} \\end{array}</script></html>"
      ],
      "text/plain": [
       "g_t,t = -e^(2*nu(r)) \n",
       "g_t,r = 0 \n",
       "g_t,th = 0 \n",
       "g_t,ph = 0 \n",
       "g_r,t = 0 \n",
       "g_r,r = -1/(2*m(r)/r - 1) \n",
       "g_r,th = 0 \n",
       "g_r,ph = 0 \n",
       "g_th,t = 0 \n",
       "g_th,r = 0 \n",
       "g_th,th = r^2 \n",
       "g_th,ph = 0 \n",
       "g_ph,t = 0 \n",
       "g_ph,r = 0 \n",
       "g_ph,th = 0 \n",
       "g_ph,ph = r^2*sin(th)^2 "
      ]
     },
     "execution_count": 13,
     "metadata": {},
     "output_type": "execute_result"
    }
   ],
   "source": [
    "g.display_comp(only_nonzero=False)"
   ]
  },
  {
   "cell_type": "markdown",
   "metadata": {},
   "source": [
    "We can also display the metric components as a matrix, via the `[]` operator:"
   ]
  },
  {
   "cell_type": "code",
   "execution_count": 14,
   "metadata": {},
   "outputs": [
    {
     "data": {
      "text/html": [
       "<html><script type=\"math/tex; mode=display\">\\newcommand{\\Bold}[1]{\\mathbf{#1}}\\left(\\begin{array}{rrrr}\n",
       "-e^{\\left(2 \\, \\nu\\left(r\\right)\\right)} & 0 & 0 & 0 \\\\\n",
       "0 & -\\frac{1}{\\frac{2 \\, m\\left(r\\right)}{r} - 1} & 0 & 0 \\\\\n",
       "0 & 0 & r^{2} & 0 \\\\\n",
       "0 & 0 & 0 & r^{2} \\sin\\left({\\theta}\\right)^{2}\n",
       "\\end{array}\\right)</script></html>"
      ],
      "text/plain": [
       "[     -e^(2*nu(r))                 0                 0                 0]\n",
       "[                0 -1/(2*m(r)/r - 1)                 0                 0]\n",
       "[                0                 0               r^2                 0]\n",
       "[                0                 0                 0     r^2*sin(th)^2]"
      ]
     },
     "execution_count": 14,
     "metadata": {},
     "output_type": "execute_result"
    }
   ],
   "source": [
    "g[:]"
   ]
  },
  {
   "cell_type": "markdown",
   "metadata": {},
   "source": [
    "The `[]` operator can also be used to access to individual elements:"
   ]
  },
  {
   "cell_type": "code",
   "execution_count": 15,
   "metadata": {},
   "outputs": [
    {
     "data": {
      "text/html": [
       "<html><script type=\"math/tex; mode=display\">\\newcommand{\\Bold}[1]{\\mathbf{#1}}-e^{\\left(2 \\, \\nu\\left(r\\right)\\right)}</script></html>"
      ],
      "text/plain": [
       "-e^(2*nu(r))"
      ]
     },
     "execution_count": 15,
     "metadata": {},
     "output_type": "execute_result"
    }
   ],
   "source": [
    "g[0,0]"
   ]
  },
  {
   "cell_type": "markdown",
   "metadata": {},
   "source": [
    "## Einstein equation\n",
    "\n",
    "Let us start by evaluating the Ricci tensor of $g$:"
   ]
  },
  {
   "cell_type": "code",
   "execution_count": 16,
   "metadata": {},
   "outputs": [
    {
     "name": "stdout",
     "output_type": "stream",
     "text": [
      "Field of symmetric bilinear forms Ric(g) on the 4-dimensional differentiable manifold M\n"
     ]
    }
   ],
   "source": [
    "Ric = g.ricci()\n",
    "print(Ric)"
   ]
  },
  {
   "cell_type": "code",
   "execution_count": 17,
   "metadata": {},
   "outputs": [
    {
     "data": {
      "text/html": [
       "<html><script type=\"math/tex; mode=display\">\\newcommand{\\Bold}[1]{\\mathbf{#1}}\\mathrm{Ric}\\left(g\\right) = \\left( \\frac{{\\left(r^{2} e^{\\left(2 \\, \\nu\\left(r\\right)\\right)} - 2 \\, r e^{\\left(2 \\, \\nu\\left(r\\right)\\right)} m\\left(r\\right)\\right)} \\left(\\frac{\\partial\\,\\nu}{\\partial r}\\right)^{2} - {\\left(r e^{\\left(2 \\, \\nu\\left(r\\right)\\right)} \\frac{\\partial\\,m}{\\partial r} - 2 \\, r e^{\\left(2 \\, \\nu\\left(r\\right)\\right)} + 3 \\, e^{\\left(2 \\, \\nu\\left(r\\right)\\right)} m\\left(r\\right)\\right)} \\frac{\\partial\\,\\nu}{\\partial r} + {\\left(r^{2} e^{\\left(2 \\, \\nu\\left(r\\right)\\right)} - 2 \\, r e^{\\left(2 \\, \\nu\\left(r\\right)\\right)} m\\left(r\\right)\\right)} \\frac{\\partial^2\\,\\nu}{\\partial r ^ 2}}{r^{2}} \\right) \\mathrm{d} t\\otimes \\mathrm{d} t + \\left( -\\frac{{\\left(r^{3} - 2 \\, r^{2} m\\left(r\\right)\\right)} \\left(\\frac{\\partial\\,\\nu}{\\partial r}\\right)^{2} - 2 \\, r \\frac{\\partial\\,m}{\\partial r} - {\\left(r^{2} \\frac{\\partial\\,m}{\\partial r} - r m\\left(r\\right)\\right)} \\frac{\\partial\\,\\nu}{\\partial r} + {\\left(r^{3} - 2 \\, r^{2} m\\left(r\\right)\\right)} \\frac{\\partial^2\\,\\nu}{\\partial r ^ 2} + 2 \\, m\\left(r\\right)}{r^{3} - 2 \\, r^{2} m\\left(r\\right)} \\right) \\mathrm{d} r\\otimes \\mathrm{d} r + \\left( \\frac{r \\frac{\\partial\\,m}{\\partial r} - {\\left(r^{2} - 2 \\, r m\\left(r\\right)\\right)} \\frac{\\partial\\,\\nu}{\\partial r} + m\\left(r\\right)}{r} \\right) \\mathrm{d} {\\theta}\\otimes \\mathrm{d} {\\theta} + \\frac{{\\left(r \\frac{\\partial\\,m}{\\partial r} - {\\left(r^{2} - 2 \\, r m\\left(r\\right)\\right)} \\frac{\\partial\\,\\nu}{\\partial r} + m\\left(r\\right)\\right)} \\sin\\left({\\theta}\\right)^{2}}{r} \\mathrm{d} {\\phi}\\otimes \\mathrm{d} {\\phi}</script></html>"
      ],
      "text/plain": [
       "Ric(g) = ((r^2*e^(2*nu(r)) - 2*r*e^(2*nu(r))*m(r))*(d(nu)/dr)^2 - (r*e^(2*nu(r))*d(m)/dr - 2*r*e^(2*nu(r)) + 3*e^(2*nu(r))*m(r))*d(nu)/dr + (r^2*e^(2*nu(r)) - 2*r*e^(2*nu(r))*m(r))*d^2(nu)/dr^2)/r^2 dt*dt - ((r^3 - 2*r^2*m(r))*(d(nu)/dr)^2 - 2*r*d(m)/dr - (r^2*d(m)/dr - r*m(r))*d(nu)/dr + (r^3 - 2*r^2*m(r))*d^2(nu)/dr^2 + 2*m(r))/(r^3 - 2*r^2*m(r)) dr*dr + (r*d(m)/dr - (r^2 - 2*r*m(r))*d(nu)/dr + m(r))/r dth*dth + (r*d(m)/dr - (r^2 - 2*r*m(r))*d(nu)/dr + m(r))*sin(th)^2/r dph*dph"
      ]
     },
     "execution_count": 17,
     "metadata": {},
     "output_type": "execute_result"
    }
   ],
   "source": [
    "Ric.display()"
   ]
  },
  {
   "cell_type": "markdown",
   "metadata": {},
   "source": [
    "The Ricci scalar is naturally obtained by the method `ricci_scalar()`:"
   ]
  },
  {
   "cell_type": "code",
   "execution_count": 18,
   "metadata": {},
   "outputs": [
    {
     "data": {
      "text/html": [
       "<html><script type=\"math/tex; mode=display\">\\newcommand{\\Bold}[1]{\\mathbf{#1}}\\begin{array}{llcl} \\mathrm{r}\\left(g\\right):& M & \\longrightarrow & \\mathbb{R} \\\\ & \\left(t, r, {\\theta}, {\\phi}\\right) & \\longmapsto & -\\frac{2 \\, {\\left({\\left(r^{2} - 2 \\, r m\\left(r\\right)\\right)} \\left(\\frac{\\partial\\,\\nu}{\\partial r}\\right)^{2} - {\\left(r \\frac{\\partial\\,m}{\\partial r} - 2 \\, r + 3 \\, m\\left(r\\right)\\right)} \\frac{\\partial\\,\\nu}{\\partial r} + {\\left(r^{2} - 2 \\, r m\\left(r\\right)\\right)} \\frac{\\partial^2\\,\\nu}{\\partial r ^ 2} - 2 \\, \\frac{\\partial\\,m}{\\partial r}\\right)}}{r^{2}} \\end{array}</script></html>"
      ],
      "text/plain": [
       "r(g): M --> R\n",
       "   (t, r, th, ph) |--> -2*((r^2 - 2*r*m(r))*(d(nu)/dr)^2 - (r*d(m)/dr - 2*r + 3*m(r))*d(nu)/dr + (r^2 - 2*r*m(r))*d^2(nu)/dr^2 - 2*d(m)/dr)/r^2"
      ]
     },
     "execution_count": 18,
     "metadata": {},
     "output_type": "execute_result"
    }
   ],
   "source": [
    "g.ricci_scalar().display()"
   ]
  },
  {
   "cell_type": "markdown",
   "metadata": {},
   "source": [
    "As a check we can also compute it by taking the trace of the Ricci tensor with respect to $g$:"
   ]
  },
  {
   "cell_type": "code",
   "execution_count": 19,
   "metadata": {},
   "outputs": [
    {
     "data": {
      "text/html": [
       "<html><script type=\"math/tex; mode=display\">\\newcommand{\\Bold}[1]{\\mathbf{#1}}\\mathrm{True}</script></html>"
      ],
      "text/plain": [
       "True"
      ]
     },
     "execution_count": 19,
     "metadata": {},
     "output_type": "execute_result"
    }
   ],
   "source": [
    "g.ricci_scalar() == g.inverse()['^{ab}']*Ric['_{ab}']"
   ]
  },
  {
   "cell_type": "markdown",
   "metadata": {},
   "source": [
    "The Einstein tensor\n",
    "$$ G_{ab} := R_{ab} - \\frac{1}{2} R \\, g_{ab},$$\n",
    "or in index-free notation:\n",
    "$$ G := \\mathrm{Ric}(g) - \\frac{1}{2} r(g) \\, g $$"
   ]
  },
  {
   "cell_type": "code",
   "execution_count": 23,
   "metadata": {},
   "outputs": [
    {
     "name": "stdout",
     "output_type": "stream",
     "text": [
      "Field of symmetric bilinear forms G_{\\mu\\nu} on the 4-dimensional differentiable manifold M\n"
     ]
    }
   ],
   "source": [
    "G = Ric - 1/2*g.ricci_scalar() * g\n",
    "G.set_name(r'G_{\\mu\\nu}')\n",
    "print(G)"
   ]
  },
  {
   "cell_type": "code",
   "execution_count": 24,
   "metadata": {},
   "outputs": [
    {
     "data": {
      "text/html": [
       "<html><script type=\"math/tex; mode=display\">\\newcommand{\\Bold}[1]{\\mathbf{#1}}G_{\\mu\\nu} = \\frac{2 \\, e^{\\left(2 \\, \\nu\\left(r\\right)\\right)} \\frac{\\partial\\,m}{\\partial r}}{r^{2}} \\mathrm{d} t\\otimes \\mathrm{d} t + \\left( \\frac{2 \\, {\\left({\\left(r^{2} - 2 \\, r m\\left(r\\right)\\right)} \\frac{\\partial\\,\\nu}{\\partial r} - m\\left(r\\right)\\right)}}{r^{3} - 2 \\, r^{2} m\\left(r\\right)} \\right) \\mathrm{d} r\\otimes \\mathrm{d} r + \\left( \\frac{{\\left(r^{3} - 2 \\, r^{2} m\\left(r\\right)\\right)} \\left(\\frac{\\partial\\,\\nu}{\\partial r}\\right)^{2} - r \\frac{\\partial\\,m}{\\partial r} - {\\left(r^{2} \\frac{\\partial\\,m}{\\partial r} - r^{2} + r m\\left(r\\right)\\right)} \\frac{\\partial\\,\\nu}{\\partial r} + {\\left(r^{3} - 2 \\, r^{2} m\\left(r\\right)\\right)} \\frac{\\partial^2\\,\\nu}{\\partial r ^ 2} + m\\left(r\\right)}{r} \\right) \\mathrm{d} {\\theta}\\otimes \\mathrm{d} {\\theta} + \\frac{{\\left({\\left(r^{3} - 2 \\, r^{2} m\\left(r\\right)\\right)} \\left(\\frac{\\partial\\,\\nu}{\\partial r}\\right)^{2} - r \\frac{\\partial\\,m}{\\partial r} - {\\left(r^{2} \\frac{\\partial\\,m}{\\partial r} - r^{2} + r m\\left(r\\right)\\right)} \\frac{\\partial\\,\\nu}{\\partial r} + {\\left(r^{3} - 2 \\, r^{2} m\\left(r\\right)\\right)} \\frac{\\partial^2\\,\\nu}{\\partial r ^ 2} + m\\left(r\\right)\\right)} \\sin\\left({\\theta}\\right)^{2}}{r} \\mathrm{d} {\\phi}\\otimes \\mathrm{d} {\\phi}</script></html>"
      ],
      "text/plain": [
       "G_{\\mu\\nu} = 2*e^(2*nu(r))*d(m)/dr/r^2 dt*dt + 2*((r^2 - 2*r*m(r))*d(nu)/dr - m(r))/(r^3 - 2*r^2*m(r)) dr*dr + ((r^3 - 2*r^2*m(r))*(d(nu)/dr)^2 - r*d(m)/dr - (r^2*d(m)/dr - r^2 + r*m(r))*d(nu)/dr + (r^3 - 2*r^2*m(r))*d^2(nu)/dr^2 + m(r))/r dth*dth + ((r^3 - 2*r^2*m(r))*(d(nu)/dr)^2 - r*d(m)/dr - (r^2*d(m)/dr - r^2 + r*m(r))*d(nu)/dr + (r^3 - 2*r^2*m(r))*d^2(nu)/dr^2 + m(r))*sin(th)^2/r dph*dph"
      ]
     },
     "execution_count": 24,
     "metadata": {},
     "output_type": "execute_result"
    }
   ],
   "source": [
    "G.display()"
   ]
  },
  {
   "cell_type": "markdown",
   "metadata": {},
   "source": [
    "### The energy-momentum tensor\n",
    "\n",
    "We consider a perfect fluid matter model. \n",
    "Let us first defined the fluid 4-velocity $u$: "
   ]
  },
  {
   "cell_type": "code",
   "execution_count": 25,
   "metadata": {},
   "outputs": [
    {
     "data": {
      "text/html": [
       "<html><script type=\"math/tex; mode=display\">\\newcommand{\\Bold}[1]{\\mathbf{#1}}u = e^{\\left(-\\nu\\left(r\\right)\\right)} \\frac{\\partial}{\\partial t }</script></html>"
      ],
      "text/plain": [
       "u = e^(-nu(r)) d/dt"
      ]
     },
     "execution_count": 25,
     "metadata": {},
     "output_type": "execute_result"
    }
   ],
   "source": [
    "u = M.vector_field('u')\n",
    "u[0] = exp(-nu(r))\n",
    "u.display()"
   ]
  },
  {
   "cell_type": "code",
   "execution_count": 26,
   "metadata": {},
   "outputs": [
    {
     "data": {
      "text/html": [
       "<html><script type=\"math/tex; mode=display\">\\newcommand{\\Bold}[1]{\\mathbf{#1}}\\left[e^{\\left(-\\nu\\left(r\\right)\\right)}, 0, 0, 0\\right]</script></html>"
      ],
      "text/plain": [
       "[e^(-nu(r)), 0, 0, 0]"
      ]
     },
     "execution_count": 26,
     "metadata": {},
     "output_type": "execute_result"
    }
   ],
   "source": [
    "u[:]"
   ]
  },
  {
   "cell_type": "code",
   "execution_count": 27,
   "metadata": {},
   "outputs": [
    {
     "name": "stdout",
     "output_type": "stream",
     "text": [
      "Free module X(M) of vector fields on the 4-dimensional differentiable manifold M\n"
     ]
    }
   ],
   "source": [
    "print(u.parent())"
   ]
  },
  {
   "cell_type": "markdown",
   "metadata": {},
   "source": [
    "Let us check that $u$ is a normalized timelike vector, i.e. that $g_{ab} u^a u^b = -1$, or, in index-free notation, $g(u,u)=-1$:"
   ]
  },
  {
   "cell_type": "code",
   "execution_count": 28,
   "metadata": {},
   "outputs": [
    {
     "data": {
      "text/html": [
       "<html><script type=\"math/tex; mode=display\">\\newcommand{\\Bold}[1]{\\mathbf{#1}}g\\left(u,u\\right)</script></html>"
      ],
      "text/plain": [
       "Scalar field g(u,u) on the 4-dimensional differentiable manifold M"
      ]
     },
     "execution_count": 28,
     "metadata": {},
     "output_type": "execute_result"
    }
   ],
   "source": [
    "g(u,u)"
   ]
  },
  {
   "cell_type": "code",
   "execution_count": 29,
   "metadata": {},
   "outputs": [
    {
     "name": "stdout",
     "output_type": "stream",
     "text": [
      "Scalar field g(u,u) on the 4-dimensional differentiable manifold M\n"
     ]
    }
   ],
   "source": [
    "print(g(u,u))"
   ]
  },
  {
   "cell_type": "code",
   "execution_count": 30,
   "metadata": {},
   "outputs": [
    {
     "data": {
      "text/html": [
       "<html><script type=\"math/tex; mode=display\">\\newcommand{\\Bold}[1]{\\mathbf{#1}}\\begin{array}{llcl} g\\left(u,u\\right):& M & \\longrightarrow & \\mathbb{R} \\\\ & \\left(t, r, {\\theta}, {\\phi}\\right) & \\longmapsto & -1 \\end{array}</script></html>"
      ],
      "text/plain": [
       "g(u,u): M --> R\n",
       "   (t, r, th, ph) |--> -1"
      ]
     },
     "execution_count": 30,
     "metadata": {},
     "output_type": "execute_result"
    }
   ],
   "source": [
    "g(u,u).display()"
   ]
  },
  {
   "cell_type": "code",
   "execution_count": 31,
   "metadata": {},
   "outputs": [
    {
     "data": {
      "text/html": [
       "<html><script type=\"math/tex; mode=display\">\\newcommand{\\Bold}[1]{\\mathbf{#1}}C^{\\infty}\\left(M\\right)</script></html>"
      ],
      "text/plain": [
       "Algebra of differentiable scalar fields on the 4-dimensional differentiable manifold M"
      ]
     },
     "execution_count": 31,
     "metadata": {},
     "output_type": "execute_result"
    }
   ],
   "source": [
    "g(u,u).parent()"
   ]
  },
  {
   "cell_type": "code",
   "execution_count": 32,
   "metadata": {},
   "outputs": [
    {
     "name": "stdout",
     "output_type": "stream",
     "text": [
      "Algebra of differentiable scalar fields on the 4-dimensional differentiable manifold M\n"
     ]
    }
   ],
   "source": [
    "print(g(u,u).parent())"
   ]
  },
  {
   "cell_type": "code",
   "execution_count": 33,
   "metadata": {},
   "outputs": [
    {
     "data": {
      "text/html": [
       "<html><script type=\"math/tex; mode=display\">\\newcommand{\\Bold}[1]{\\mathbf{#1}}\\mathrm{True}</script></html>"
      ],
      "text/plain": [
       "True"
      ]
     },
     "execution_count": 33,
     "metadata": {},
     "output_type": "execute_result"
    }
   ],
   "source": [
    "g(u,u) == -1"
   ]
  },
  {
   "cell_type": "markdown",
   "metadata": {},
   "source": [
    "To form the energy-momentum tensor, we need the 1-form $\\underline{u}$ that is metric-dual to the vector $u$, i.e. \n",
    "$u_a = g_{ab} u^b$:"
   ]
  },
  {
   "cell_type": "code",
   "execution_count": 34,
   "metadata": {},
   "outputs": [
    {
     "name": "stdout",
     "output_type": "stream",
     "text": [
      "1-form on the 4-dimensional differentiable manifold M\n"
     ]
    }
   ],
   "source": [
    "u_form = u.down(g)\n",
    "print(u_form)"
   ]
  },
  {
   "cell_type": "code",
   "execution_count": 35,
   "metadata": {},
   "outputs": [
    {
     "data": {
      "text/html": [
       "<html><script type=\"math/tex; mode=display\">\\newcommand{\\Bold}[1]{\\mathbf{#1}}-e^{\\nu\\left(r\\right)} \\mathrm{d} t</script></html>"
      ],
      "text/plain": [
       "-e^nu(r) dt"
      ]
     },
     "execution_count": 35,
     "metadata": {},
     "output_type": "execute_result"
    }
   ],
   "source": [
    "u_form.display()"
   ]
  },
  {
   "cell_type": "markdown",
   "metadata": {},
   "source": [
    "The energy-momentum tensor is then\n",
    "$$ T_{ab} = (\\rho + p) u_a u_b + p \\, g_{ab},$$\n",
    "or in index-free notation:\n",
    "$$ T = (\\rho + p) \\underline{u}\\otimes\\underline{u} + p \\, g$$"
   ]
  },
  {
   "cell_type": "markdown",
   "metadata": {},
   "source": [
    "Since the tensor product $\\otimes$ is taken with the `*` operator, we write:"
   ]
  },
  {
   "cell_type": "code",
   "execution_count": 36,
   "metadata": {},
   "outputs": [
    {
     "name": "stdout",
     "output_type": "stream",
     "text": [
      "Field of symmetric bilinear forms T on the 4-dimensional differentiable manifold M\n"
     ]
    }
   ],
   "source": [
    "rho = function('rho')\n",
    "p = function('p')\n",
    "T = (rho(r)+p(r))* (u_form * u_form) + p(r) * g\n",
    "T.set_name('T')\n",
    "print(T)"
   ]
  },
  {
   "cell_type": "code",
   "execution_count": 37,
   "metadata": {},
   "outputs": [
    {
     "data": {
      "text/html": [
       "<html><script type=\"math/tex; mode=display\">\\newcommand{\\Bold}[1]{\\mathbf{#1}}T = e^{\\left(2 \\, \\nu\\left(r\\right)\\right)} \\rho\\left(r\\right) \\mathrm{d} t\\otimes \\mathrm{d} t + \\left( \\frac{r p\\left(r\\right)}{r - 2 \\, m\\left(r\\right)} \\right) \\mathrm{d} r\\otimes \\mathrm{d} r + r^{2} p\\left(r\\right) \\mathrm{d} {\\theta}\\otimes \\mathrm{d} {\\theta} + r^{2} p\\left(r\\right) \\sin\\left({\\theta}\\right)^{2} \\mathrm{d} {\\phi}\\otimes \\mathrm{d} {\\phi}</script></html>"
      ],
      "text/plain": [
       "T = e^(2*nu(r))*rho(r) dt*dt + r*p(r)/(r - 2*m(r)) dr*dr + r^2*p(r) dth*dth + r^2*p(r)*sin(th)^2 dph*dph"
      ]
     },
     "execution_count": 37,
     "metadata": {},
     "output_type": "execute_result"
    }
   ],
   "source": [
    "T.display()"
   ]
  },
  {
   "cell_type": "code",
   "execution_count": 38,
   "metadata": {},
   "outputs": [
    {
     "data": {
      "text/html": [
       "<html><script type=\"math/tex; mode=display\">\\newcommand{\\Bold}[1]{\\mathbf{#1}}T\\left(u,u\\right)</script></html>"
      ],
      "text/plain": [
       "Scalar field T(u,u) on the 4-dimensional differentiable manifold M"
      ]
     },
     "execution_count": 38,
     "metadata": {},
     "output_type": "execute_result"
    }
   ],
   "source": [
    "T(u,u)"
   ]
  },
  {
   "cell_type": "code",
   "execution_count": 39,
   "metadata": {},
   "outputs": [
    {
     "name": "stdout",
     "output_type": "stream",
     "text": [
      "Scalar field T(u,u) on the 4-dimensional differentiable manifold M\n"
     ]
    }
   ],
   "source": [
    "print(T(u,u))"
   ]
  },
  {
   "cell_type": "code",
   "execution_count": 40,
   "metadata": {},
   "outputs": [
    {
     "data": {
      "text/html": [
       "<html><script type=\"math/tex; mode=display\">\\newcommand{\\Bold}[1]{\\mathbf{#1}}\\begin{array}{llcl} T\\left(u,u\\right):& M & \\longrightarrow & \\mathbb{R} \\\\ & \\left(t, r, {\\theta}, {\\phi}\\right) & \\longmapsto & \\rho\\left(r\\right) \\end{array}</script></html>"
      ],
      "text/plain": [
       "T(u,u): M --> R\n",
       "   (t, r, th, ph) |--> rho(r)"
      ]
     },
     "execution_count": 40,
     "metadata": {},
     "output_type": "execute_result"
    }
   ],
   "source": [
    "T(u,u).display()"
   ]
  },
  {
   "cell_type": "markdown",
   "metadata": {},
   "source": [
    "### The Einstein equation\n",
    "\n",
    "The Einstein equation is \n",
    "$$ G = 8\\pi T$$\n",
    "We rewrite it as $E = 0$ with $E := G - 8\\pi T$:"
   ]
  },
  {
   "cell_type": "code",
   "execution_count": 41,
   "metadata": {},
   "outputs": [
    {
     "name": "stdout",
     "output_type": "stream",
     "text": [
      "Field of symmetric bilinear forms E on the 4-dimensional differentiable manifold M\n"
     ]
    }
   ],
   "source": [
    "E = G - 8*pi*T\n",
    "E.set_name('E')\n",
    "print(E)"
   ]
  },
  {
   "cell_type": "code",
   "execution_count": 42,
   "metadata": {},
   "outputs": [
    {
     "data": {
      "text/html": [
       "<html><script type=\"math/tex; mode=display\">\\newcommand{\\Bold}[1]{\\mathbf{#1}}E = -\\frac{2 \\, {\\left(4 \\, \\pi r^{2} e^{\\left(2 \\, \\nu\\left(r\\right)\\right)} \\rho\\left(r\\right) - e^{\\left(2 \\, \\nu\\left(r\\right)\\right)} \\frac{\\partial\\,m}{\\partial r}\\right)}}{r^{2}} \\mathrm{d} t\\otimes \\mathrm{d} t + \\left( -\\frac{2 \\, {\\left(4 \\, \\pi r^{3} p\\left(r\\right) - {\\left(r^{2} - 2 \\, r m\\left(r\\right)\\right)} \\frac{\\partial\\,\\nu}{\\partial r} + m\\left(r\\right)\\right)}}{r^{3} - 2 \\, r^{2} m\\left(r\\right)} \\right) \\mathrm{d} r\\otimes \\mathrm{d} r + \\left( -\\frac{8 \\, \\pi r^{3} p\\left(r\\right) - {\\left(r^{3} - 2 \\, r^{2} m\\left(r\\right)\\right)} \\left(\\frac{\\partial\\,\\nu}{\\partial r}\\right)^{2} + r \\frac{\\partial\\,m}{\\partial r} + {\\left(r^{2} \\frac{\\partial\\,m}{\\partial r} - r^{2} + r m\\left(r\\right)\\right)} \\frac{\\partial\\,\\nu}{\\partial r} - {\\left(r^{3} - 2 \\, r^{2} m\\left(r\\right)\\right)} \\frac{\\partial^2\\,\\nu}{\\partial r ^ 2} - m\\left(r\\right)}{r} \\right) \\mathrm{d} {\\theta}\\otimes \\mathrm{d} {\\theta} -\\frac{{\\left(8 \\, \\pi r^{3} p\\left(r\\right) - {\\left(r^{3} - 2 \\, r^{2} m\\left(r\\right)\\right)} \\left(\\frac{\\partial\\,\\nu}{\\partial r}\\right)^{2} + r \\frac{\\partial\\,m}{\\partial r} + {\\left(r^{2} \\frac{\\partial\\,m}{\\partial r} - r^{2} + r m\\left(r\\right)\\right)} \\frac{\\partial\\,\\nu}{\\partial r} - {\\left(r^{3} - 2 \\, r^{2} m\\left(r\\right)\\right)} \\frac{\\partial^2\\,\\nu}{\\partial r ^ 2} - m\\left(r\\right)\\right)} \\sin\\left({\\theta}\\right)^{2}}{r} \\mathrm{d} {\\phi}\\otimes \\mathrm{d} {\\phi}</script></html>"
      ],
      "text/plain": [
       "E = -2*(4*pi*r^2*e^(2*nu(r))*rho(r) - e^(2*nu(r))*d(m)/dr)/r^2 dt*dt - 2*(4*pi*r^3*p(r) - (r^2 - 2*r*m(r))*d(nu)/dr + m(r))/(r^3 - 2*r^2*m(r)) dr*dr - (8*pi*r^3*p(r) - (r^3 - 2*r^2*m(r))*(d(nu)/dr)^2 + r*d(m)/dr + (r^2*d(m)/dr - r^2 + r*m(r))*d(nu)/dr - (r^3 - 2*r^2*m(r))*d^2(nu)/dr^2 - m(r))/r dth*dth - (8*pi*r^3*p(r) - (r^3 - 2*r^2*m(r))*(d(nu)/dr)^2 + r*d(m)/dr + (r^2*d(m)/dr - r^2 + r*m(r))*d(nu)/dr - (r^3 - 2*r^2*m(r))*d^2(nu)/dr^2 - m(r))*sin(th)^2/r dph*dph"
      ]
     },
     "execution_count": 42,
     "metadata": {},
     "output_type": "execute_result"
    }
   ],
   "source": [
    "E.display()"
   ]
  },
  {
   "cell_type": "code",
   "execution_count": 43,
   "metadata": {},
   "outputs": [
    {
     "data": {
      "text/html": [
       "<html><script type=\"math/tex; mode=display\">\\newcommand{\\Bold}[1]{\\mathbf{#1}}\\begin{array}{lcl} E_{ \\, t \\, t }^{ \\phantom{\\, t}\\phantom{\\, t} } & = & -\\frac{2 \\, {\\left(4 \\, \\pi r^{2} e^{\\left(2 \\, \\nu\\left(r\\right)\\right)} \\rho\\left(r\\right) - e^{\\left(2 \\, \\nu\\left(r\\right)\\right)} \\frac{\\partial\\,m}{\\partial r}\\right)}}{r^{2}} \\\\ E_{ \\, r \\, r }^{ \\phantom{\\, r}\\phantom{\\, r} } & = & -\\frac{2 \\, {\\left(4 \\, \\pi r^{3} p\\left(r\\right) - {\\left(r^{2} - 2 \\, r m\\left(r\\right)\\right)} \\frac{\\partial\\,\\nu}{\\partial r} + m\\left(r\\right)\\right)}}{r^{3} - 2 \\, r^{2} m\\left(r\\right)} \\\\ E_{ \\, {\\theta} \\, {\\theta} }^{ \\phantom{\\, {\\theta}}\\phantom{\\, {\\theta}} } & = & -\\frac{8 \\, \\pi r^{3} p\\left(r\\right) - {\\left(r^{3} - 2 \\, r^{2} m\\left(r\\right)\\right)} \\left(\\frac{\\partial\\,\\nu}{\\partial r}\\right)^{2} + r \\frac{\\partial\\,m}{\\partial r} + {\\left(r^{2} \\frac{\\partial\\,m}{\\partial r} - r^{2} + r m\\left(r\\right)\\right)} \\frac{\\partial\\,\\nu}{\\partial r} - {\\left(r^{3} - 2 \\, r^{2} m\\left(r\\right)\\right)} \\frac{\\partial^2\\,\\nu}{\\partial r ^ 2} - m\\left(r\\right)}{r} \\\\ E_{ \\, {\\phi} \\, {\\phi} }^{ \\phantom{\\, {\\phi}}\\phantom{\\, {\\phi}} } & = & -\\frac{{\\left(8 \\, \\pi r^{3} p\\left(r\\right) - {\\left(r^{3} - 2 \\, r^{2} m\\left(r\\right)\\right)} \\left(\\frac{\\partial\\,\\nu}{\\partial r}\\right)^{2} + r \\frac{\\partial\\,m}{\\partial r} + {\\left(r^{2} \\frac{\\partial\\,m}{\\partial r} - r^{2} + r m\\left(r\\right)\\right)} \\frac{\\partial\\,\\nu}{\\partial r} - {\\left(r^{3} - 2 \\, r^{2} m\\left(r\\right)\\right)} \\frac{\\partial^2\\,\\nu}{\\partial r ^ 2} - m\\left(r\\right)\\right)} \\sin\\left({\\theta}\\right)^{2}}{r} \\end{array}</script></html>"
      ],
      "text/plain": [
       "E_t,t = -2*(4*pi*r^2*e^(2*nu(r))*rho(r) - e^(2*nu(r))*d(m)/dr)/r^2 \n",
       "E_r,r = -2*(4*pi*r^3*p(r) - (r^2 - 2*r*m(r))*d(nu)/dr + m(r))/(r^3 - 2*r^2*m(r)) \n",
       "E_th,th = -(8*pi*r^3*p(r) - (r^3 - 2*r^2*m(r))*(d(nu)/dr)^2 + r*d(m)/dr + (r^2*d(m)/dr - r^2 + r*m(r))*d(nu)/dr - (r^3 - 2*r^2*m(r))*d^2(nu)/dr^2 - m(r))/r \n",
       "E_ph,ph = -(8*pi*r^3*p(r) - (r^3 - 2*r^2*m(r))*(d(nu)/dr)^2 + r*d(m)/dr + (r^2*d(m)/dr - r^2 + r*m(r))*d(nu)/dr - (r^3 - 2*r^2*m(r))*d^2(nu)/dr^2 - m(r))*sin(th)^2/r "
      ]
     },
     "execution_count": 43,
     "metadata": {},
     "output_type": "execute_result"
    }
   ],
   "source": [
    "E.display_comp()"
   ]
  },
  {
   "cell_type": "code",
   "execution_count": 44,
   "metadata": {},
   "outputs": [
    {
     "data": {
      "text/html": [
       "<html><script type=\"math/tex; mode=display\">\\newcommand{\\Bold}[1]{\\mathbf{#1}}-\\frac{2 \\, {\\left(4 \\, \\pi r^{2} e^{\\left(2 \\, \\nu\\left(r\\right)\\right)} \\rho\\left(r\\right) - e^{\\left(2 \\, \\nu\\left(r\\right)\\right)} \\frac{\\partial\\,m}{\\partial r}\\right)}}{r^{2}}</script></html>"
      ],
      "text/plain": [
       "-2*(4*pi*r^2*e^(2*nu(r))*rho(r) - e^(2*nu(r))*d(m)/dr)/r^2"
      ]
     },
     "execution_count": 44,
     "metadata": {},
     "output_type": "execute_result"
    }
   ],
   "source": [
    "E[0,0]"
   ]
  },
  {
   "cell_type": "code",
   "execution_count": 45,
   "metadata": {},
   "outputs": [
    {
     "data": {
      "text/html": [
       "<html><script type=\"math/tex; mode=display\">\\newcommand{\\Bold}[1]{\\mathbf{#1}}\\left[\\frac{\\partial}{\\partial r}m\\left(r\\right) = 4 \\, \\pi r^{2} \\rho\\left(r\\right)\\right]</script></html>"
      ],
      "text/plain": [
       "[diff(m(r), r) == 4*pi*r^2*rho(r)]"
      ]
     },
     "execution_count": 45,
     "metadata": {},
     "output_type": "execute_result"
    }
   ],
   "source": [
    "EE0_sol = solve(E[0,0].expr()==0, diff(m(r),r))\n",
    "EE0_sol"
   ]
  },
  {
   "cell_type": "code",
   "execution_count": 46,
   "metadata": {},
   "outputs": [
    {
     "data": {
      "text/html": [
       "<html><script type=\"math/tex; mode=display\">\\newcommand{\\Bold}[1]{\\mathbf{#1}}\\frac{\\partial}{\\partial r}m\\left(r\\right) = 4 \\, \\pi r^{2} \\rho\\left(r\\right)</script></html>"
      ],
      "text/plain": [
       "diff(m(r), r) == 4*pi*r^2*rho(r)"
      ]
     },
     "execution_count": 46,
     "metadata": {},
     "output_type": "execute_result"
    }
   ],
   "source": [
    "EE0 = EE0_sol[0]\n",
    "EE0"
   ]
  },
  {
   "cell_type": "code",
   "execution_count": 47,
   "metadata": {},
   "outputs": [
    {
     "data": {
      "text/html": [
       "<html><script type=\"math/tex; mode=display\">\\newcommand{\\Bold}[1]{\\mathbf{#1}}-\\frac{2 \\, {\\left(4 \\, \\pi r^{3} p\\left(r\\right) - {\\left(r^{2} - 2 \\, r m\\left(r\\right)\\right)} \\frac{\\partial\\,\\nu}{\\partial r} + m\\left(r\\right)\\right)}}{r^{3} - 2 \\, r^{2} m\\left(r\\right)}</script></html>"
      ],
      "text/plain": [
       "-2*(4*pi*r^3*p(r) - (r^2 - 2*r*m(r))*d(nu)/dr + m(r))/(r^3 - 2*r^2*m(r))"
      ]
     },
     "execution_count": 47,
     "metadata": {},
     "output_type": "execute_result"
    }
   ],
   "source": [
    "E[1,1]"
   ]
  },
  {
   "cell_type": "code",
   "execution_count": 48,
   "metadata": {},
   "outputs": [
    {
     "data": {
      "text/html": [
       "<html><script type=\"math/tex; mode=display\">\\newcommand{\\Bold}[1]{\\mathbf{#1}}\\frac{\\partial}{\\partial r}\\nu\\left(r\\right) = \\frac{4 \\, \\pi r^{3} p\\left(r\\right) + m\\left(r\\right)}{r^{2} - 2 \\, r m\\left(r\\right)}</script></html>"
      ],
      "text/plain": [
       "diff(nu(r), r) == (4*pi*r^3*p(r) + m(r))/(r^2 - 2*r*m(r))"
      ]
     },
     "execution_count": 48,
     "metadata": {},
     "output_type": "execute_result"
    }
   ],
   "source": [
    "EE1_sol = solve(E[1,1].expr()==0, diff(nu(r),r))\n",
    "EE1 = EE1_sol[0]\n",
    "EE1"
   ]
  },
  {
   "cell_type": "code",
   "execution_count": 49,
   "metadata": {},
   "outputs": [
    {
     "data": {
      "text/html": [
       "<html><script type=\"math/tex; mode=display\">\\newcommand{\\Bold}[1]{\\mathbf{#1}}\\mathrm{True}</script></html>"
      ],
      "text/plain": [
       "True"
      ]
     },
     "execution_count": 49,
     "metadata": {},
     "output_type": "execute_result"
    }
   ],
   "source": [
    "E[3,3] == E[2,2]*sin(th)^2"
   ]
  },
  {
   "cell_type": "code",
   "execution_count": 50,
   "metadata": {},
   "outputs": [
    {
     "data": {
      "text/html": [
       "<html><script type=\"math/tex; mode=display\">\\newcommand{\\Bold}[1]{\\mathbf{#1}}-\\frac{8 \\, \\pi r^{3} p\\left(r\\right) - {\\left(r^{3} - 2 \\, r^{2} m\\left(r\\right)\\right)} \\left(\\frac{\\partial\\,\\nu}{\\partial r}\\right)^{2} + r \\frac{\\partial\\,m}{\\partial r} + {\\left(r^{2} \\frac{\\partial\\,m}{\\partial r} - r^{2} + r m\\left(r\\right)\\right)} \\frac{\\partial\\,\\nu}{\\partial r} - {\\left(r^{3} - 2 \\, r^{2} m\\left(r\\right)\\right)} \\frac{\\partial^2\\,\\nu}{\\partial r ^ 2} - m\\left(r\\right)}{r}</script></html>"
      ],
      "text/plain": [
       "-(8*pi*r^3*p(r) - (r^3 - 2*r^2*m(r))*(d(nu)/dr)^2 + r*d(m)/dr + (r^2*d(m)/dr - r^2 + r*m(r))*d(nu)/dr - (r^3 - 2*r^2*m(r))*d^2(nu)/dr^2 - m(r))/r"
      ]
     },
     "execution_count": 50,
     "metadata": {},
     "output_type": "execute_result"
    }
   ],
   "source": [
    "E[2,2]"
   ]
  },
  {
   "cell_type": "markdown",
   "metadata": {},
   "source": [
    "### The energy-momentum conservation equation\n",
    "The energy-momentum tensor must obey\n",
    "$$ \\nabla_b T^b_{\\ \\, a} = 0$$\n",
    "We first form the tensor $T^b_{\\ \\, a}$ by raising the first index of $T_{ab}$:"
   ]
  },
  {
   "cell_type": "code",
   "execution_count": 51,
   "metadata": {},
   "outputs": [
    {
     "name": "stdout",
     "output_type": "stream",
     "text": [
      "Tensor field of type (1,1) on the 4-dimensional differentiable manifold M\n"
     ]
    }
   ],
   "source": [
    "Tu = T.up(g, 0)\n",
    "print(Tu)"
   ]
  },
  {
   "cell_type": "markdown",
   "metadata": {},
   "source": [
    "We get the Levi-Civita connection $\\nabla$ associated with the metric $g$:"
   ]
  },
  {
   "cell_type": "code",
   "execution_count": 52,
   "metadata": {},
   "outputs": [
    {
     "name": "stdout",
     "output_type": "stream",
     "text": [
      "Levi-Civita connection nabla_g associated with the Lorentzian metric g on the 4-dimensional differentiable manifold M\n"
     ]
    }
   ],
   "source": [
    "nabla = g.connection()\n",
    "print(nabla)"
   ]
  },
  {
   "cell_type": "code",
   "execution_count": 53,
   "metadata": {},
   "outputs": [
    {
     "data": {
      "text/html": [
       "<html><script type=\"math/tex; mode=display\">\\newcommand{\\Bold}[1]{\\mathbf{#1}}\\begin{array}{lcl} \\Gamma_{ \\phantom{\\, t} \\, t \\, r }^{ \\, t \\phantom{\\, t} \\phantom{\\, r} } & = & \\frac{\\partial\\,\\nu}{\\partial r} \\\\ \\Gamma_{ \\phantom{\\, r} \\, t \\, t }^{ \\, r \\phantom{\\, t} \\phantom{\\, t} } & = & \\frac{{\\left(r e^{\\left(2 \\, \\nu\\left(r\\right)\\right)} - 2 \\, e^{\\left(2 \\, \\nu\\left(r\\right)\\right)} m\\left(r\\right)\\right)} \\frac{\\partial\\,\\nu}{\\partial r}}{r} \\\\ \\Gamma_{ \\phantom{\\, r} \\, r \\, r }^{ \\, r \\phantom{\\, r} \\phantom{\\, r} } & = & \\frac{r \\frac{\\partial\\,m}{\\partial r} - m\\left(r\\right)}{r^{2} - 2 \\, r m\\left(r\\right)} \\\\ \\Gamma_{ \\phantom{\\, r} \\, {\\theta} \\, {\\theta} }^{ \\, r \\phantom{\\, {\\theta}} \\phantom{\\, {\\theta}} } & = & -r + 2 \\, m\\left(r\\right) \\\\ \\Gamma_{ \\phantom{\\, r} \\, {\\phi} \\, {\\phi} }^{ \\, r \\phantom{\\, {\\phi}} \\phantom{\\, {\\phi}} } & = & -{\\left(r - 2 \\, m\\left(r\\right)\\right)} \\sin\\left({\\theta}\\right)^{2} \\\\ \\Gamma_{ \\phantom{\\, {\\theta}} \\, r \\, {\\theta} }^{ \\, {\\theta} \\phantom{\\, r} \\phantom{\\, {\\theta}} } & = & \\frac{1}{r} \\\\ \\Gamma_{ \\phantom{\\, {\\theta}} \\, {\\phi} \\, {\\phi} }^{ \\, {\\theta} \\phantom{\\, {\\phi}} \\phantom{\\, {\\phi}} } & = & -\\cos\\left({\\theta}\\right) \\sin\\left({\\theta}\\right) \\\\ \\Gamma_{ \\phantom{\\, {\\phi}} \\, r \\, {\\phi} }^{ \\, {\\phi} \\phantom{\\, r} \\phantom{\\, {\\phi}} } & = & \\frac{1}{r} \\\\ \\Gamma_{ \\phantom{\\, {\\phi}} \\, {\\theta} \\, {\\phi} }^{ \\, {\\phi} \\phantom{\\, {\\theta}} \\phantom{\\, {\\phi}} } & = & \\frac{\\cos\\left({\\theta}\\right)}{\\sin\\left({\\theta}\\right)} \\end{array}</script></html>"
      ],
      "text/plain": [
       "Gam^t_t,r = d(nu)/dr \n",
       "Gam^r_t,t = (r*e^(2*nu(r)) - 2*e^(2*nu(r))*m(r))*d(nu)/dr/r \n",
       "Gam^r_r,r = (r*d(m)/dr - m(r))/(r^2 - 2*r*m(r)) \n",
       "Gam^r_th,th = -r + 2*m(r) \n",
       "Gam^r_ph,ph = -(r - 2*m(r))*sin(th)^2 \n",
       "Gam^th_r,th = 1/r \n",
       "Gam^th_ph,ph = -cos(th)*sin(th) \n",
       "Gam^ph_r,ph = 1/r \n",
       "Gam^ph_th,ph = cos(th)/sin(th) "
      ]
     },
     "execution_count": 53,
     "metadata": {},
     "output_type": "execute_result"
    }
   ],
   "source": [
    "nabla.display(only_nonredundant=true)"
   ]
  },
  {
   "cell_type": "markdown",
   "metadata": {},
   "source": [
    "We apply `nabla` to `Tu` to get the tensor $(\\nabla T)^b_{\\ \\, ac} = \\nabla_c T^b_{\\ \\, a}$ (MTW index convention):"
   ]
  },
  {
   "cell_type": "code",
   "execution_count": 54,
   "metadata": {},
   "outputs": [
    {
     "name": "stdout",
     "output_type": "stream",
     "text": [
      "Tensor field of type (1,2) on the 4-dimensional differentiable manifold M\n"
     ]
    }
   ],
   "source": [
    "dTu = nabla(Tu)\n",
    "print(dTu)"
   ]
  },
  {
   "cell_type": "markdown",
   "metadata": {},
   "source": [
    "The divergence $\\nabla_b T^b_{\\ \\, a}$ is then computed as the trace of the tensor $(\\nabla T)^b_{\\ \\, ac}$ on the first index ($b$, position `0`) and last index ($c$, position `2`):"
   ]
  },
  {
   "cell_type": "code",
   "execution_count": 55,
   "metadata": {},
   "outputs": [
    {
     "name": "stdout",
     "output_type": "stream",
     "text": [
      "1-form on the 4-dimensional differentiable manifold M\n"
     ]
    }
   ],
   "source": [
    "divT = dTu.trace(0,2)\n",
    "print(divT)"
   ]
  },
  {
   "cell_type": "markdown",
   "metadata": {},
   "source": [
    "We can also take the trace by using the index notation:"
   ]
  },
  {
   "cell_type": "code",
   "execution_count": 56,
   "metadata": {},
   "outputs": [
    {
     "data": {
      "text/html": [
       "<html><script type=\"math/tex; mode=display\">\\newcommand{\\Bold}[1]{\\mathbf{#1}}\\mathrm{True}</script></html>"
      ],
      "text/plain": [
       "True"
      ]
     },
     "execution_count": 56,
     "metadata": {},
     "output_type": "execute_result"
    }
   ],
   "source": [
    "divT == dTu['^b_{ab}']"
   ]
  },
  {
   "cell_type": "code",
   "execution_count": 57,
   "metadata": {},
   "outputs": [
    {
     "name": "stdout",
     "output_type": "stream",
     "text": [
      "1-form on the 4-dimensional differentiable manifold M\n"
     ]
    }
   ],
   "source": [
    "print(divT)"
   ]
  },
  {
   "cell_type": "code",
   "execution_count": 58,
   "metadata": {},
   "outputs": [
    {
     "data": {
      "text/html": [
       "<html><script type=\"math/tex; mode=display\">\\newcommand{\\Bold}[1]{\\mathbf{#1}}\\left( {\\left(p\\left(r\\right) + \\rho\\left(r\\right)\\right)} \\frac{\\partial\\,\\nu}{\\partial r} + \\frac{\\partial\\,p}{\\partial r} \\right) \\mathrm{d} r</script></html>"
      ],
      "text/plain": [
       "((p(r) + rho(r))*d(nu)/dr + d(p)/dr) dr"
      ]
     },
     "execution_count": 58,
     "metadata": {},
     "output_type": "execute_result"
    }
   ],
   "source": [
    "divT.display()"
   ]
  },
  {
   "cell_type": "code",
   "execution_count": 59,
   "metadata": {},
   "outputs": [
    {
     "data": {
      "text/html": [
       "<html><script type=\"math/tex; mode=display\">\\newcommand{\\Bold}[1]{\\mathbf{#1}}\\left[0, {\\left(p\\left(r\\right) + \\rho\\left(r\\right)\\right)} \\frac{\\partial\\,\\nu}{\\partial r} + \\frac{\\partial\\,p}{\\partial r}, 0, 0\\right]</script></html>"
      ],
      "text/plain": [
       "[0, (p(r) + rho(r))*d(nu)/dr + d(p)/dr, 0, 0]"
      ]
     },
     "execution_count": 59,
     "metadata": {},
     "output_type": "execute_result"
    }
   ],
   "source": [
    "divT[:]"
   ]
  },
  {
   "cell_type": "markdown",
   "metadata": {},
   "source": [
    "The only non trivially vanishing components is thus"
   ]
  },
  {
   "cell_type": "code",
   "execution_count": 60,
   "metadata": {},
   "outputs": [
    {
     "data": {
      "text/html": [
       "<html><script type=\"math/tex; mode=display\">\\newcommand{\\Bold}[1]{\\mathbf{#1}}{\\left(p\\left(r\\right) + \\rho\\left(r\\right)\\right)} \\frac{\\partial\\,\\nu}{\\partial r} + \\frac{\\partial\\,p}{\\partial r}</script></html>"
      ],
      "text/plain": [
       "(p(r) + rho(r))*d(nu)/dr + d(p)/dr"
      ]
     },
     "execution_count": 60,
     "metadata": {},
     "output_type": "execute_result"
    }
   ],
   "source": [
    "divT[1]"
   ]
  },
  {
   "cell_type": "markdown",
   "metadata": {},
   "source": [
    "Hence the energy-momentum conservation equation $\\nabla_b T^b_{\\ \\, a}=0$ reduces to"
   ]
  },
  {
   "cell_type": "code",
   "execution_count": 61,
   "metadata": {},
   "outputs": [
    {
     "data": {
      "text/html": [
       "<html><script type=\"math/tex; mode=display\">\\newcommand{\\Bold}[1]{\\mathbf{#1}}\\frac{\\partial}{\\partial r}p\\left(r\\right) = -{\\left(p\\left(r\\right) + \\rho\\left(r\\right)\\right)} \\frac{\\partial}{\\partial r}\\nu\\left(r\\right)</script></html>"
      ],
      "text/plain": [
       "diff(p(r), r) == -(p(r) + rho(r))*diff(nu(r), r)"
      ]
     },
     "execution_count": 61,
     "metadata": {},
     "output_type": "execute_result"
    }
   ],
   "source": [
    "EE2_sol = solve(divT[1].expr()==0, diff(p(r),r))\n",
    "EE2 = EE2_sol[0]\n",
    "EE2"
   ]
  },
  {
   "cell_type": "markdown",
   "metadata": {},
   "source": [
    "### The TOV system\n",
    "\n",
    "Let us collect all the independent equations obtained so far:"
   ]
  },
  {
   "cell_type": "code",
   "execution_count": 62,
   "metadata": {},
   "outputs": [
    {
     "data": {
      "text/html": [
       "<html><script type=\"math/tex; mode=display\">\\newcommand{\\Bold}[1]{\\mathbf{#1}}\\frac{\\partial}{\\partial r}m\\left(r\\right) = 4 \\, \\pi r^{2} \\rho\\left(r\\right)</script></html>"
      ],
      "text/plain": [
       "diff(m(r), r) == 4*pi*r^2*rho(r)"
      ]
     },
     "metadata": {},
     "output_type": "display_data"
    },
    {
     "data": {
      "text/html": [
       "<html><script type=\"math/tex; mode=display\">\\newcommand{\\Bold}[1]{\\mathbf{#1}}\\frac{\\partial}{\\partial r}\\nu\\left(r\\right) = \\frac{4 \\, \\pi r^{3} p\\left(r\\right) + m\\left(r\\right)}{r^{2} - 2 \\, r m\\left(r\\right)}</script></html>"
      ],
      "text/plain": [
       "diff(nu(r), r) == (4*pi*r^3*p(r) + m(r))/(r^2 - 2*r*m(r))"
      ]
     },
     "metadata": {},
     "output_type": "display_data"
    },
    {
     "data": {
      "text/html": [
       "<html><script type=\"math/tex; mode=display\">\\newcommand{\\Bold}[1]{\\mathbf{#1}}\\frac{\\partial}{\\partial r}p\\left(r\\right) = -{\\left(p\\left(r\\right) + \\rho\\left(r\\right)\\right)} \\frac{\\partial}{\\partial r}\\nu\\left(r\\right)</script></html>"
      ],
      "text/plain": [
       "diff(p(r), r) == -(p(r) + rho(r))*diff(nu(r), r)"
      ]
     },
     "metadata": {},
     "output_type": "display_data"
    }
   ],
   "source": [
    "for eq in [EE0, EE1, EE2]:\n",
    "    show(eq)"
   ]
  },
  {
   "cell_type": "markdown",
   "metadata": {},
   "source": [
    "## 2. Solving the TOV system\n",
    "\n",
    "In order to solve the TOV system, we need to specify a fluid equation of state. For simplicity, we select a polytropic one:\n",
    "$$ p = k \\rho^2$$"
   ]
  },
  {
   "cell_type": "code",
   "execution_count": 63,
   "metadata": {},
   "outputs": [
    {
     "data": {
      "text/html": [
       "<html><script type=\"math/tex; mode=display\">\\newcommand{\\Bold}[1]{\\mathbf{#1}}k \\rho\\left(r\\right)^{2}</script></html>"
      ],
      "text/plain": [
       "k*rho(r)^2"
      ]
     },
     "execution_count": 63,
     "metadata": {},
     "output_type": "execute_result"
    }
   ],
   "source": [
    "var('k', domain='real')\n",
    "p_eos(r) = k*rho(r)^2\n",
    "p_eos(r)"
   ]
  },
  {
   "cell_type": "markdown",
   "metadata": {},
   "source": [
    "We substitute this expression for $p$ in the TOV equations:"
   ]
  },
  {
   "cell_type": "code",
   "execution_count": 65,
   "metadata": {},
   "outputs": [
    {
     "data": {
      "text/html": [
       "<html><script type=\"math/tex; mode=display\">\\newcommand{\\Bold}[1]{\\mathbf{#1}}\\frac{\\partial}{\\partial r}\\nu\\left(r\\right) = \\frac{4 \\, \\pi k r^{3} \\rho\\left(r\\right)^{2} + m\\left(r\\right)}{r^{2} - 2 \\, r m\\left(r\\right)}</script></html>"
      ],
      "text/plain": [
       "diff(nu(r), r) == (4*pi*k*r^3*rho(r)^2 + m(r))/(r^2 - 2*r*m(r))"
      ]
     },
     "execution_count": 65,
     "metadata": {},
     "output_type": "execute_result"
    }
   ],
   "source": [
    "EE1_rho = EE1.substitute_function(p, p_eos)\n",
    "EE1_rho"
   ]
  },
  {
   "cell_type": "code",
   "execution_count": 66,
   "metadata": {},
   "outputs": [
    {
     "data": {
      "text/html": [
       "<html><script type=\"math/tex; mode=display\">\\newcommand{\\Bold}[1]{\\mathbf{#1}}2 \\, k \\rho\\left(r\\right) \\frac{\\partial}{\\partial r}\\rho\\left(r\\right) = -{\\left(k \\rho\\left(r\\right)^{2} + \\rho\\left(r\\right)\\right)} \\frac{\\partial}{\\partial r}\\nu\\left(r\\right)</script></html>"
      ],
      "text/plain": [
       "2*k*rho(r)*diff(rho(r), r) == -(k*rho(r)^2 + rho(r))*diff(nu(r), r)"
      ]
     },
     "execution_count": 66,
     "metadata": {},
     "output_type": "execute_result"
    }
   ],
   "source": [
    "EE2_rho = EE2.substitute_function(p, p_eos)\n",
    "EE2_rho"
   ]
  },
  {
   "cell_type": "code",
   "execution_count": 67,
   "metadata": {},
   "outputs": [
    {
     "data": {
      "text/html": [
       "<html><script type=\"math/tex; mode=display\">\\newcommand{\\Bold}[1]{\\mathbf{#1}}\\frac{\\partial}{\\partial r}\\rho\\left(r\\right) = -\\frac{{\\left(k \\rho\\left(r\\right) + 1\\right)} \\frac{\\partial}{\\partial r}\\nu\\left(r\\right)}{2 \\, k}</script></html>"
      ],
      "text/plain": [
       "diff(rho(r), r) == -1/2*(k*rho(r) + 1)*diff(nu(r), r)/k"
      ]
     },
     "execution_count": 67,
     "metadata": {},
     "output_type": "execute_result"
    }
   ],
   "source": [
    "EE2_rho = (EE2_rho / (2*k*rho(r))).simplify_full()\n",
    "EE2_rho"
   ]
  },
  {
   "cell_type": "markdown",
   "metadata": {},
   "source": [
    "We subsitute the expression of equation `EE1_rho` for $\\partial \\nu/\\partial r$, in order to get rid of any derivative in the right-hand sides:"
   ]
  },
  {
   "cell_type": "code",
   "execution_count": 68,
   "metadata": {},
   "outputs": [
    {
     "data": {
      "text/html": [
       "<html><script type=\"math/tex; mode=display\">\\newcommand{\\Bold}[1]{\\mathbf{#1}}\\frac{\\partial}{\\partial r}\\rho\\left(r\\right) = -\\frac{4 \\, \\pi k^{2} r^{3} \\rho\\left(r\\right)^{3} + 4 \\, \\pi k r^{3} \\rho\\left(r\\right)^{2} + k m\\left(r\\right) \\rho\\left(r\\right) + m\\left(r\\right)}{2 \\, {\\left(k r^{2} - 2 \\, k r m\\left(r\\right)\\right)}}</script></html>"
      ],
      "text/plain": [
       "diff(rho(r), r) == -1/2*(4*pi*k^2*r^3*rho(r)^3 + 4*pi*k*r^3*rho(r)^2 + k*m(r)*rho(r) + m(r))/(k*r^2 - 2*k*r*m(r))"
      ]
     },
     "execution_count": 68,
     "metadata": {},
     "output_type": "execute_result"
    }
   ],
   "source": [
    "EE2_rho = EE2_rho.subs({diff(nu(r),r): EE1_rho.rhs()}).simplify_full()\n",
    "EE2_rho"
   ]
  },
  {
   "cell_type": "markdown",
   "metadata": {},
   "source": [
    "The system to solve for $(m(r), \\nu(r), \\rho(r))$ is thus"
   ]
  },
  {
   "cell_type": "code",
   "execution_count": 69,
   "metadata": {
    "scrolled": true
   },
   "outputs": [
    {
     "data": {
      "text/html": [
       "<html><script type=\"math/tex; mode=display\">\\newcommand{\\Bold}[1]{\\mathbf{#1}}\\frac{\\partial}{\\partial r}m\\left(r\\right) = 4 \\, \\pi r^{2} \\rho\\left(r\\right)</script></html>"
      ],
      "text/plain": [
       "diff(m(r), r) == 4*pi*r^2*rho(r)"
      ]
     },
     "metadata": {},
     "output_type": "display_data"
    },
    {
     "data": {
      "text/html": [
       "<html><script type=\"math/tex; mode=display\">\\newcommand{\\Bold}[1]{\\mathbf{#1}}\\frac{\\partial}{\\partial r}\\nu\\left(r\\right) = \\frac{4 \\, \\pi k r^{3} \\rho\\left(r\\right)^{2} + m\\left(r\\right)}{r^{2} - 2 \\, r m\\left(r\\right)}</script></html>"
      ],
      "text/plain": [
       "diff(nu(r), r) == (4*pi*k*r^3*rho(r)^2 + m(r))/(r^2 - 2*r*m(r))"
      ]
     },
     "metadata": {},
     "output_type": "display_data"
    },
    {
     "data": {
      "text/html": [
       "<html><script type=\"math/tex; mode=display\">\\newcommand{\\Bold}[1]{\\mathbf{#1}}\\frac{\\partial}{\\partial r}\\rho\\left(r\\right) = -\\frac{4 \\, \\pi k^{2} r^{3} \\rho\\left(r\\right)^{3} + 4 \\, \\pi k r^{3} \\rho\\left(r\\right)^{2} + k m\\left(r\\right) \\rho\\left(r\\right) + m\\left(r\\right)}{2 \\, {\\left(k r^{2} - 2 \\, k r m\\left(r\\right)\\right)}}</script></html>"
      ],
      "text/plain": [
       "diff(rho(r), r) == -1/2*(4*pi*k^2*r^3*rho(r)^3 + 4*pi*k*r^3*rho(r)^2 + k*m(r)*rho(r) + m(r))/(k*r^2 - 2*k*r*m(r))"
      ]
     },
     "metadata": {},
     "output_type": "display_data"
    }
   ],
   "source": [
    "for eq in [EE0, EE1_rho, EE2_rho]:\n",
    "    show(eq)"
   ]
  },
  {
   "cell_type": "markdown",
   "metadata": {},
   "source": [
    "### Numerical resolution\n",
    "\n",
    "Let us use a standard 4th-order Runge-Kutta method:"
   ]
  },
  {
   "cell_type": "markdown",
   "metadata": {},
   "source": [
    "We gather all equations in a list for the ease of manipulation:"
   ]
  },
  {
   "cell_type": "code",
   "execution_count": 71,
   "metadata": {},
   "outputs": [],
   "source": [
    "eqs = [EE0, EE1_rho, EE2_rho]"
   ]
  },
  {
   "cell_type": "markdown",
   "metadata": {},
   "source": [
    "To get a numerical solution, we have of course to specify some numerical value for the EOS constant $k$; let us choose $k=1/4$:"
   ]
  },
  {
   "cell_type": "code",
   "execution_count": 72,
   "metadata": {},
   "outputs": [
    {
     "data": {
      "text/html": [
       "<html><script type=\"math/tex; mode=display\">\\newcommand{\\Bold}[1]{\\mathbf{#1}}\\left[4 \\, \\pi r^{2} \\rho\\left(r\\right), \\frac{\\pi r^{3} \\rho\\left(r\\right)^{2} + m\\left(r\\right)}{r^{2} - 2 \\, r m\\left(r\\right)}, -\\frac{\\pi r^{3} \\rho\\left(r\\right)^{3} + 4 \\, \\pi r^{3} \\rho\\left(r\\right)^{2} + m\\left(r\\right) \\rho\\left(r\\right) + 4 \\, m\\left(r\\right)}{2 \\, {\\left(r^{2} - 2 \\, r m\\left(r\\right)\\right)}}\\right]</script></html>"
      ],
      "text/plain": [
       "[4*pi*r^2*rho(r),\n",
       " (pi*r^3*rho(r)^2 + m(r))/(r^2 - 2*r*m(r)),\n",
       " -1/2*(pi*r^3*rho(r)^3 + 4*pi*r^3*rho(r)^2 + m(r)*rho(r) + 4*m(r))/(r^2 - 2*r*m(r))]"
      ]
     },
     "execution_count": 72,
     "metadata": {},
     "output_type": "execute_result"
    }
   ],
   "source": [
    "k0 = 1/4\n",
    "rhs = [eq.rhs().subs(k=k0) for eq in eqs]\n",
    "rhs"
   ]
  },
  {
   "cell_type": "markdown",
   "metadata": {},
   "source": [
    "The integration for $m(r)$ and $\\rho(r)$ has to stop as soon as $\\rho(r)$ become negative. An easy way to ensure this is to use the Heaviside function (actually SageMath's `unit_step`; for some reason, `heaviside` does not work for the RK4 numerical resolution):"
   ]
  },
  {
   "cell_type": "code",
   "execution_count": 73,
   "metadata": {},
   "outputs": [
    {
     "data": {
      "image/png": "[encoded data removed]",
      "text/plain": [
       "Graphics object consisting of 1 graphics primitive"
      ]
     },
     "execution_count": 73,
     "metadata": {},
     "output_type": "execute_result"
    }
   ],
   "source": [
    "plot(unit_step(x), (x,-4,4), thickness=2, aspect_ratio=1)"
   ]
  },
  {
   "cell_type": "markdown",
   "metadata": {},
   "source": [
    "and to multiply the r.h.s. of the $dm/dr$ and $d\\rho/dr$ equations by $h(\\rho)$:"
   ]
  },
  {
   "cell_type": "code",
   "execution_count": 74,
   "metadata": {},
   "outputs": [
    {
     "data": {
      "text/html": [
       "<html><script type=\"math/tex; mode=display\">\\newcommand{\\Bold}[1]{\\mathbf{#1}}\\left[4 \\, \\pi r^{2} \\rho\\left(r\\right) \\mathrm{u}\\left(\\rho\\left(r\\right)\\right), \\frac{\\pi r^{3} \\rho\\left(r\\right)^{2} + m\\left(r\\right)}{r^{2} - 2 \\, r m\\left(r\\right)}, -\\frac{{\\left(\\pi r^{3} \\rho\\left(r\\right)^{3} + 4 \\, \\pi r^{3} \\rho\\left(r\\right)^{2} + m\\left(r\\right) \\rho\\left(r\\right) + 4 \\, m\\left(r\\right)\\right)} \\mathrm{u}\\left(\\rho\\left(r\\right)\\right)}{2 \\, {\\left(r^{2} - 2 \\, r m\\left(r\\right)\\right)}}\\right]</script></html>"
      ],
      "text/plain": [
       "[4*pi*r^2*rho(r)*unit_step(rho(r)),\n",
       " (pi*r^3*rho(r)^2 + m(r))/(r^2 - 2*r*m(r)),\n",
       " -1/2*(pi*r^3*rho(r)^3 + 4*pi*r^3*rho(r)^2 + m(r)*rho(r) + 4*m(r))*unit_step(rho(r))/(r^2 - 2*r*m(r))]"
      ]
     },
     "execution_count": 74,
     "metadata": {},
     "output_type": "execute_result"
    }
   ],
   "source": [
    "rhs[0] = rhs[0] * unit_step(rho(r))\n",
    "rhs[2] = rhs[2] * unit_step(rho(r))\n",
    "rhs"
   ]
  },
  {
   "cell_type": "markdown",
   "metadata": {},
   "source": [
    "Let us add an extra equation, for the purpose of getting the star's radius as an output of the integration, via the equation $dR/dr = 1$, again multiplied by the Heaviside function of $\\rho$:"
   ]
  },
  {
   "cell_type": "code",
   "execution_count": 75,
   "metadata": {},
   "outputs": [
    {
     "data": {
      "text/html": [
       "<html><script type=\"math/tex; mode=display\">\\newcommand{\\Bold}[1]{\\mathbf{#1}}\\left[4 \\, \\pi r^{2} \\rho\\left(r\\right) \\mathrm{u}\\left(\\rho\\left(r\\right)\\right), \\frac{\\pi r^{3} \\rho\\left(r\\right)^{2} + m\\left(r\\right)}{r^{2} - 2 \\, r m\\left(r\\right)}, -\\frac{{\\left(\\pi r^{3} \\rho\\left(r\\right)^{3} + 4 \\, \\pi r^{3} \\rho\\left(r\\right)^{2} + m\\left(r\\right) \\rho\\left(r\\right) + 4 \\, m\\left(r\\right)\\right)} \\mathrm{u}\\left(\\rho\\left(r\\right)\\right)}{2 \\, {\\left(r^{2} - 2 \\, r m\\left(r\\right)\\right)}}, \\mathrm{u}\\left(\\rho\\left(r\\right)\\right)\\right]</script></html>"
      ],
      "text/plain": [
       "[4*pi*r^2*rho(r)*unit_step(rho(r)),\n",
       " (pi*r^3*rho(r)^2 + m(r))/(r^2 - 2*r*m(r)),\n",
       " -1/2*(pi*r^3*rho(r)^3 + 4*pi*r^3*rho(r)^2 + m(r)*rho(r) + 4*m(r))*unit_step(rho(r))/(r^2 - 2*r*m(r)),\n",
       " unit_step(rho(r))]"
      ]
     },
     "execution_count": 75,
     "metadata": {},
     "output_type": "execute_result"
    }
   ],
   "source": [
    "rhs.append(1 * unit_step(rho(r)))\n",
    "rhs"
   ]
  },
  {
   "cell_type": "markdown",
   "metadata": {},
   "source": [
    "For the purpose of the numerical integration via `desolve_system_rk4`, we have to replace the symbolic functions $m(r)$, $\\nu(r)$ and $\\rho(r)$ by some symbolic variables, $m_1$, $\\nu_1$ and\n",
    "$\\rho_1$, say:"
   ]
  },
  {
   "cell_type": "code",
   "execution_count": 76,
   "metadata": {},
   "outputs": [
    {
     "data": {
      "text/html": [
       "<html><script type=\"math/tex; mode=display\">\\newcommand{\\Bold}[1]{\\mathbf{#1}}\\left[4 \\, \\pi r^{2} \\rho_{1} \\mathrm{u}\\left(\\rho_{1}\\right), -\\frac{\\pi r^{3} \\rho_{1}^{2} + m_{1}}{2 \\, m_{1} r - r^{2}}, \\frac{{\\left(\\pi r^{3} \\rho_{1}^{3} + 4 \\, \\pi r^{3} \\rho_{1}^{2} + m_{1} \\rho_{1} + 4 \\, m_{1}\\right)} \\mathrm{u}\\left(\\rho_{1}\\right)}{2 \\, {\\left(2 \\, m_{1} r - r^{2}\\right)}}, \\mathrm{u}\\left(\\rho_{1}\\right)\\right]</script></html>"
      ],
      "text/plain": [
       "[4*pi*r^2*rho_1*unit_step(rho_1),\n",
       " -(pi*r^3*rho_1^2 + m_1)/(2*m_1*r - r^2),\n",
       " 1/2*(pi*r^3*rho_1^3 + 4*pi*r^3*rho_1^2 + m_1*rho_1 + 4*m_1)*unit_step(rho_1)/(2*m_1*r - r^2),\n",
       " unit_step(rho_1)]"
      ]
     },
     "execution_count": 76,
     "metadata": {},
     "output_type": "execute_result"
    }
   ],
   "source": [
    "var('m_1 nu_1 rho_1 r_1')\n",
    "rhs = [y.subs({m(r): m_1, nu(r): nu_1, rho(r): rho_1}) for y in rhs]\n",
    "rhs"
   ]
  },
  {
   "cell_type": "markdown",
   "metadata": {},
   "source": [
    "The integration parameters:"
   ]
  },
  {
   "cell_type": "code",
   "execution_count": 77,
   "metadata": {},
   "outputs": [],
   "source": [
    "rho_c = 1\n",
    "r_min = 1e-8\n",
    "r_max = 1\n",
    "np = 200\n",
    "delta_r = (r_max - r_min) / (np-1)"
   ]
  },
  {
   "cell_type": "markdown",
   "metadata": {},
   "source": [
    "The numerical resolution, with the initial conditions \n",
    "$$(r_{\\rm min}, m(r_{\\rm min}), \\nu(r_{\\rm min}), \\rho(r_{\\rm min}), R(r_{\\rm min})) = (r_{\\rm min},0,0,\\rho_{\\rm c},r_{\\rm min}) $$\n",
    "set in the parameter `ics`:"
   ]
  },
  {
   "cell_type": "code",
   "execution_count": 78,
   "metadata": {},
   "outputs": [],
   "source": [
    "sol = desolve_system_rk4(rhs, vars=(m_1, nu_1, rho_1, r_1), ivar=r, \n",
    "                         ics=[r_min, 0, 0, rho_c, r_min], \n",
    "                         end_points=r_max, step=delta_r)"
   ]
  },
  {
   "cell_type": "markdown",
   "metadata": {},
   "source": [
    "The solution is returned as a list, the first 10 elements of which being:"
   ]
  },
  {
   "cell_type": "code",
   "execution_count": 79,
   "metadata": {},
   "outputs": [
    {
     "data": {
      "text/html": [
       "<html><script type=\"math/tex; mode=display\">\\newcommand{\\Bold}[1]{\\mathbf{#1}}\\left[\\left[1.00000000000000 \\times 10^{-8}, 0, 0, 1, 1.00000000000000 \\times 10^{-8}\\right], \\left[0.00502513557788945, 5.31396735484216 \\times 10^{-07}, 0.000105774675722407, 0.9997355715039982, 0.005025135577889449\\right], \\left[0.0100502611557789, 4.24965314706328 \\times 10^{-06}, 0.000384231107483355, 0.9990395169277086, 0.0100502611557789\\right], \\left[0.01507538673366835, 1.43327909521466 \\times 10^{-05}, 0.000846989113836226, 0.9978829788643846, 0.01507538673366835\\right], \\left[0.0201005123115578, 3.39411395241295 \\times 10^{-05}, 0.001494375305317491, 0.9962654611649957, 0.0201005123115578\\right], \\left[0.02512563788944725, 6.62085388024929 \\times 10^{-05}, 0.002326219908059372, 0.99418783560987, 0.02512563788944725\\right], \\left[0.0301507634673367, 0.000114233579606946, 0.003342215306107709, 0.9916514444622955, 0.0301507634673367\\right], \\left[0.03517588904522615, 0.000181070903418294, 0.00454196301924163, 0.9886579816183987, 0.03517588904522614\\right], \\left[0.0402010146231156, 0.000269722576804864, 0.005924983493499082, 0.9852094664010502, 0.04020101462311559\\right], \\left[0.04522614020100505, 0.00038312955549096, 0.007490718320263326, 0.9813082359597236, 0.04522614020100504\\right]\\right]</script></html>"
      ],
      "text/plain": [
       "[[1.00000000000000e-8, 0, 0, 1, 1.00000000000000e-8],\n",
       " [0.00502513557788945,\n",
       "  5.31396735484216e-07,\n",
       "  0.000105774675722407,\n",
       "  0.9997355715039982,\n",
       "  0.005025135577889449],\n",
       " [0.0100502611557789,\n",
       "  4.24965314706328e-06,\n",
       "  0.000384231107483355,\n",
       "  0.9990395169277086,\n",
       "  0.0100502611557789],\n",
       " [0.01507538673366835,\n",
       "  1.43327909521466e-05,\n",
       "  0.000846989113836226,\n",
       "  0.9978829788643846,\n",
       "  0.01507538673366835],\n",
       " [0.0201005123115578,\n",
       "  3.39411395241295e-05,\n",
       "  0.001494375305317491,\n",
       "  0.9962654611649957,\n",
       "  0.0201005123115578],\n",
       " [0.02512563788944725,\n",
       "  6.62085388024929e-05,\n",
       "  0.002326219908059372,\n",
       "  0.99418783560987,\n",
       "  0.02512563788944725],\n",
       " [0.0301507634673367,\n",
       "  0.000114233579606946,\n",
       "  0.003342215306107709,\n",
       "  0.9916514444622955,\n",
       "  0.0301507634673367],\n",
       " [0.03517588904522615,\n",
       "  0.000181070903418294,\n",
       "  0.00454196301924163,\n",
       "  0.9886579816183987,\n",
       "  0.03517588904522614],\n",
       " [0.0402010146231156,\n",
       "  0.000269722576804864,\n",
       "  0.005924983493499082,\n",
       "  0.9852094664010502,\n",
       "  0.04020101462311559],\n",
       " [0.04522614020100505,\n",
       "  0.00038312955549096,\n",
       "  0.007490718320263326,\n",
       "  0.9813082359597236,\n",
       "  0.04522614020100504]]"
      ]
     },
     "execution_count": 79,
     "metadata": {},
     "output_type": "execute_result"
    }
   ],
   "source": [
    "sol[:10]"
   ]
  },
  {
   "cell_type": "markdown",
   "metadata": {},
   "source": [
    "Each element is of the form $[r, m(r), \\nu(r), \\rho(r), R(r)]$. So to get the list of $(r, \\rho(r))$ values, we write"
   ]
  },
  {
   "cell_type": "code",
   "execution_count": 80,
   "metadata": {},
   "outputs": [
    {
     "data": {
      "text/html": [
       "<html><script type=\"math/tex; mode=display\">\\newcommand{\\Bold}[1]{\\mathbf{#1}}\\left[\\left(1.00000000000000 \\times 10^{-8}, 1\\right), \\left(0.00502513557788945, 0.9997355715039982\\right), \\left(0.0100502611557789, 0.9990395169277086\\right), \\left(0.01507538673366835, 0.9978829788643846\\right), \\left(0.0201005123115578, 0.9962654611649957\\right), \\left(0.02512563788944725, 0.99418783560987\\right), \\left(0.0301507634673367, 0.9916514444622955\\right), \\left(0.03517588904522615, 0.9886579816183987\\right), \\left(0.0402010146231156, 0.9852094664010502\\right), \\left(0.04522614020100505, 0.9813082359597236\\right)\\right]</script></html>"
      ],
      "text/plain": [
       "[(1.00000000000000e-8, 1),\n",
       " (0.00502513557788945, 0.9997355715039982),\n",
       " (0.0100502611557789, 0.9990395169277086),\n",
       " (0.01507538673366835, 0.9978829788643846),\n",
       " (0.0201005123115578, 0.9962654611649957),\n",
       " (0.02512563788944725, 0.99418783560987),\n",
       " (0.0301507634673367, 0.9916514444622955),\n",
       " (0.03517588904522615, 0.9886579816183987),\n",
       " (0.0402010146231156, 0.9852094664010502),\n",
       " (0.04522614020100505, 0.9813082359597236)]"
      ]
     },
     "execution_count": 80,
     "metadata": {},
     "output_type": "execute_result"
    }
   ],
   "source": [
    "rho_sol = [(s[0], s[3]) for s in sol]\n",
    "rho_sol[:10]"
   ]
  },
  {
   "cell_type": "markdown",
   "metadata": {},
   "source": [
    "We may then use this list to have some plot of $\\rho(r)$, thanks to the function `line`, which transforms a list into a graphical object:"
   ]
  },
  {
   "cell_type": "code",
   "execution_count": 81,
   "metadata": {},
   "outputs": [
    {
     "data": {
      "image/png": "[encoded data removed]",
      "text/plain": [
       "Graphics object consisting of 1 graphics primitive"
      ]
     },
     "execution_count": 81,
     "metadata": {},
     "output_type": "execute_result"
    }
   ],
   "source": [
    "graph = line(rho_sol, axes_labels=[r'$r$', r'$\\rho$'], gridlines=True)\n",
    "graph"
   ]
  },
  {
   "cell_type": "markdown",
   "metadata": {},
   "source": [
    "The solution for $m(r)$:"
   ]
  },
  {
   "cell_type": "code",
   "execution_count": 82,
   "metadata": {},
   "outputs": [
    {
     "data": {
      "text/html": [
       "<html><script type=\"math/tex; mode=display\">\\newcommand{\\Bold}[1]{\\mathbf{#1}}\\left[\\left(1.00000000000000 \\times 10^{-8}, 0\\right), \\left(0.00502513557788945, 5.31396735484216 \\times 10^{-07}\\right), \\left(0.0100502611557789, 4.24965314706328 \\times 10^{-06}\\right), \\left(0.01507538673366835, 1.43327909521466 \\times 10^{-05}\\right), \\left(0.0201005123115578, 3.39411395241295 \\times 10^{-05}\\right), \\left(0.02512563788944725, 6.62085388024929 \\times 10^{-05}\\right), \\left(0.0301507634673367, 0.000114233579606946\\right), \\left(0.03517588904522615, 0.000181070903418294\\right), \\left(0.0402010146231156, 0.000269722576804864\\right), \\left(0.04522614020100505, 0.00038312955549096\\right)\\right]</script></html>"
      ],
      "text/plain": [
       "[(1.00000000000000e-8, 0),\n",
       " (0.00502513557788945, 5.31396735484216e-07),\n",
       " (0.0100502611557789, 4.24965314706328e-06),\n",
       " (0.01507538673366835, 1.43327909521466e-05),\n",
       " (0.0201005123115578, 3.39411395241295e-05),\n",
       " (0.02512563788944725, 6.62085388024929e-05),\n",
       " (0.0301507634673367, 0.000114233579606946),\n",
       " (0.03517588904522615, 0.000181070903418294),\n",
       " (0.0402010146231156, 0.000269722576804864),\n",
       " (0.04522614020100505, 0.00038312955549096)]"
      ]
     },
     "execution_count": 82,
     "metadata": {},
     "output_type": "execute_result"
    }
   ],
   "source": [
    "m_sol = [(s[0], s[1]) for s in sol]\n",
    "m_sol[:10]"
   ]
  },
  {
   "cell_type": "code",
   "execution_count": 83,
   "metadata": {},
   "outputs": [
    {
     "data": {
      "image/png": "[encoded data removed]",
      "text/plain": [
       "Graphics object consisting of 1 graphics primitive"
      ]
     },
     "execution_count": 83,
     "metadata": {},
     "output_type": "execute_result"
    }
   ],
   "source": [
    "graph = line(m_sol, axes_labels=[r'$r$', r'$m$'], gridlines=True)\n",
    "graph"
   ]
  },
  {
   "cell_type": "markdown",
   "metadata": {},
   "source": [
    "The solution for $\\nu(r)$ (has to be rescaled by adding a constant to ensure $\\nu(+\\infty) = 1$):"
   ]
  },
  {
   "cell_type": "code",
   "execution_count": 84,
   "metadata": {},
   "outputs": [
    {
     "data": {
      "text/html": [
       "<html><script type=\"math/tex; mode=display\">\\newcommand{\\Bold}[1]{\\mathbf{#1}}\\left[\\left(1.00000000000000 \\times 10^{-8}, 0\\right), \\left(0.00502513557788945, 0.000105774675722407\\right), \\left(0.0100502611557789, 0.000384231107483355\\right), \\left(0.01507538673366835, 0.000846989113836226\\right), \\left(0.0201005123115578, 0.001494375305317491\\right), \\left(0.02512563788944725, 0.002326219908059372\\right), \\left(0.0301507634673367, 0.003342215306107709\\right), \\left(0.03517588904522615, 0.00454196301924163\\right), \\left(0.0402010146231156, 0.005924983493499082\\right), \\left(0.04522614020100505, 0.007490718320263326\\right)\\right]</script></html>"
      ],
      "text/plain": [
       "[(1.00000000000000e-8, 0),\n",
       " (0.00502513557788945, 0.000105774675722407),\n",
       " (0.0100502611557789, 0.000384231107483355),\n",
       " (0.01507538673366835, 0.000846989113836226),\n",
       " (0.0201005123115578, 0.001494375305317491),\n",
       " (0.02512563788944725, 0.002326219908059372),\n",
       " (0.0301507634673367, 0.003342215306107709),\n",
       " (0.03517588904522615, 0.00454196301924163),\n",
       " (0.0402010146231156, 0.005924983493499082),\n",
       " (0.04522614020100505, 0.007490718320263326)]"
      ]
     },
     "execution_count": 84,
     "metadata": {},
     "output_type": "execute_result"
    }
   ],
   "source": [
    "nu_sol = [(s[0], s[2]) for s in sol]\n",
    "nu_sol[:10]"
   ]
  },
  {
   "cell_type": "code",
   "execution_count": 85,
   "metadata": {},
   "outputs": [
    {
     "data": {
      "image/png": "[encoded data removed]",
      "text/plain": [
       "Graphics object consisting of 1 graphics primitive"
      ]
     },
     "execution_count": 85,
     "metadata": {},
     "output_type": "execute_result"
    }
   ],
   "source": [
    "graph = line(nu_sol, axes_labels=[r'$r$', r'$\\tilde{\\nu}$'], gridlines=True)\n",
    "graph"
   ]
  },
  {
   "cell_type": "markdown",
   "metadata": {},
   "source": [
    "The solution for $R(r)$:"
   ]
  },
  {
   "cell_type": "code",
   "execution_count": 86,
   "metadata": {},
   "outputs": [
    {
     "data": {
      "image/png": "[encoded data removed]",
      "text/plain": [
       "Graphics object consisting of 1 graphics primitive"
      ]
     },
     "execution_count": 86,
     "metadata": {},
     "output_type": "execute_result"
    }
   ],
   "source": [
    "r_sol = [(s[0], s[4]) for s in sol]\n",
    "line(r_sol)"
   ]
  },
  {
   "cell_type": "markdown",
   "metadata": {},
   "source": [
    "The total gravitational mass of the star is obtained via the last element (index: `-1`) of the list of $(r,m(r))$ values:"
   ]
  },
  {
   "cell_type": "code",
   "execution_count": 87,
   "metadata": {},
   "outputs": [
    {
     "data": {
      "text/html": [
       "<html><script type=\"math/tex; mode=display\">\\newcommand{\\Bold}[1]{\\mathbf{#1}}0.09559565598299921</script></html>"
      ],
      "text/plain": [
       "0.09559565598299921"
      ]
     },
     "execution_count": 87,
     "metadata": {},
     "output_type": "execute_result"
    }
   ],
   "source": [
    "M_grav = m_sol[-1][1]\n",
    "M_grav"
   ]
  },
  {
   "cell_type": "markdown",
   "metadata": {},
   "source": [
    "Similarly, the stellar radius is obtained through the last element of the list of $(r,R(r))$ values:"
   ]
  },
  {
   "cell_type": "code",
   "execution_count": 88,
   "metadata": {},
   "outputs": [
    {
     "data": {
      "text/html": [
       "<html><script type=\"math/tex; mode=display\">\\newcommand{\\Bold}[1]{\\mathbf{#1}}0.4313232887688435</script></html>"
      ],
      "text/plain": [
       "0.4313232887688435"
      ]
     },
     "execution_count": 88,
     "metadata": {},
     "output_type": "execute_result"
    }
   ],
   "source": [
    "R = r_sol[-1][1]\n",
    "R"
   ]
  },
  {
   "cell_type": "markdown",
   "metadata": {},
   "source": [
    "The star's compactness:"
   ]
  },
  {
   "cell_type": "code",
   "execution_count": 89,
   "metadata": {},
   "outputs": [
    {
     "data": {
      "text/html": [
       "<html><script type=\"math/tex; mode=display\">\\newcommand{\\Bold}[1]{\\mathbf{#1}}0.22163342085205887</script></html>"
      ],
      "text/plain": [
       "0.22163342085205887"
      ]
     },
     "execution_count": 89,
     "metadata": {},
     "output_type": "execute_result"
    }
   ],
   "source": [
    "M_grav/R"
   ]
  },
  {
   "cell_type": "markdown",
   "metadata": {},
   "source": [
    "### Sequence of stellar models\n",
    "\n",
    "Let us perform a loop on the central density.\n",
    "First we set up a list of values for $\\rho_c$:"
   ]
  },
  {
   "cell_type": "code",
   "execution_count": 90,
   "metadata": {},
   "outputs": [
    {
     "data": {
      "text/html": [
       "<html><script type=\"math/tex; mode=display\">\\newcommand{\\Bold}[1]{\\mathbf{#1}}\\left[0.0100000000000000, 0.0866666666666667, 0.163333333333333, 0.240000000000000, 0.316666666666667, 0.393333333333333, 0.470000000000000, 0.546666666666667, 0.623333333333333, 0.700000000000000, 0.776666666666667, 0.853333333333333, 0.930000000000000, 1.00666666666667, 1.08333333333333, 1.16000000000000, 1.23666666666667, 1.31333333333333, 1.39000000000000, 1.46666666666667, 1.54333333333333, 1.62000000000000, 1.69666666666667, 1.77333333333333, 1.85000000000000, 1.92666666666667, 2.00333333333333, 2.08000000000000, 2.15666666666667, 2.23333333333333, 2.31000000000000, 2.38666666666667, 2.46333333333333, 2.54000000000000, 2.61666666666667, 2.69333333333333, 2.77000000000000, 2.84666666666667, 2.92333333333333, 3.00000000000000\\right]</script></html>"
      ],
      "text/plain": [
       "[0.0100000000000000,\n",
       " 0.0866666666666667,\n",
       " 0.163333333333333,\n",
       " 0.240000000000000,\n",
       " 0.316666666666667,\n",
       " 0.393333333333333,\n",
       " 0.470000000000000,\n",
       " 0.546666666666667,\n",
       " 0.623333333333333,\n",
       " 0.700000000000000,\n",
       " 0.776666666666667,\n",
       " 0.853333333333333,\n",
       " 0.930000000000000,\n",
       " 1.00666666666667,\n",
       " 1.08333333333333,\n",
       " 1.16000000000000,\n",
       " 1.23666666666667,\n",
       " 1.31333333333333,\n",
       " 1.39000000000000,\n",
       " 1.46666666666667,\n",
       " 1.54333333333333,\n",
       " 1.62000000000000,\n",
       " 1.69666666666667,\n",
       " 1.77333333333333,\n",
       " 1.85000000000000,\n",
       " 1.92666666666667,\n",
       " 2.00333333333333,\n",
       " 2.08000000000000,\n",
       " 2.15666666666667,\n",
       " 2.23333333333333,\n",
       " 2.31000000000000,\n",
       " 2.38666666666667,\n",
       " 2.46333333333333,\n",
       " 2.54000000000000,\n",
       " 2.61666666666667,\n",
       " 2.69333333333333,\n",
       " 2.77000000000000,\n",
       " 2.84666666666667,\n",
       " 2.92333333333333,\n",
       " 3.00000000000000]"
      ]
     },
     "execution_count": 90,
     "metadata": {},
     "output_type": "execute_result"
    }
   ],
   "source": [
    "rho_c_min = 0.01\n",
    "rho_c_max = 3\n",
    "n_conf = 40\n",
    "rho_c_list = [rho_c_min + i * (rho_c_max-rho_c_min)/(n_conf-1) for i in range(n_conf)]\n",
    "rho_c_list"
   ]
  },
  {
   "cell_type": "markdown",
   "metadata": {},
   "source": [
    "The loop:"
   ]
  },
  {
   "cell_type": "code",
   "execution_count": 91,
   "metadata": {},
   "outputs": [],
   "source": [
    "M_list = list()\n",
    "R_list = list()\n",
    "for rho_c in rho_c_list:\n",
    "    sol = desolve_system_rk4(rhs, vars=(m_1, nu_1, rho_1, r_1), ivar=r, \n",
    "                             ics=[r_min, 0, 0, rho_c, r_min], \n",
    "                             end_points=r_max, step=delta_r)\n",
    "    M_list.append( sol[-1][1] )\n",
    "    R_list.append( sol[-1][4] )"
   ]
  },
  {
   "cell_type": "markdown",
   "metadata": {},
   "source": [
    "The mass along the sequence:"
   ]
  },
  {
   "cell_type": "code",
   "execution_count": 92,
   "metadata": {},
   "outputs": [
    {
     "data": {
      "text/html": [
       "<html><script type=\"math/tex; mode=display\">\\newcommand{\\Bold}[1]{\\mathbf{#1}}\\left[0.003079315360454514, 0.02348546985345206, 0.03930692799158078, 0.0516981286545538, 0.06148304165147275, 0.06927984377457193, 0.07551555926927055, 0.0805202557445157, 0.08457113778228031, 0.08783166910121751, 0.09047779784378224, 0.09260717100641455, 0.09433415719194971, 0.0957016482745759, 0.09680530145501753, 0.09766591038061952, 0.09835121528373907, 0.09885145273111141, 0.09922756198663038, 0.09948788735020943, 0.09965397004970597, 0.09974081642007522, 0.09976091231232462, 0.09972549478102291, 0.09963724302696997, 0.09952192314657442, 0.09936764700836923, 0.09916251861147671, 0.09895164244004298, 0.0987339306627872, 0.09846948402179896, 0.09821523250994979, 0.09792970323068292, 0.09765239505357755, 0.09738036112959368, 0.0970791116621731, 0.09676265660918966, 0.09647034426217437, 0.096161790313415, 0.095870481103591\\right]</script></html>"
      ],
      "text/plain": [
       "[0.003079315360454514,\n",
       " 0.02348546985345206,\n",
       " 0.03930692799158078,\n",
       " 0.0516981286545538,\n",
       " 0.06148304165147275,\n",
       " 0.06927984377457193,\n",
       " 0.07551555926927055,\n",
       " 0.0805202557445157,\n",
       " 0.08457113778228031,\n",
       " 0.08783166910121751,\n",
       " 0.09047779784378224,\n",
       " 0.09260717100641455,\n",
       " 0.09433415719194971,\n",
       " 0.0957016482745759,\n",
       " 0.09680530145501753,\n",
       " 0.09766591038061952,\n",
       " 0.09835121528373907,\n",
       " 0.09885145273111141,\n",
       " 0.09922756198663038,\n",
       " 0.09948788735020943,\n",
       " 0.09965397004970597,\n",
       " 0.09974081642007522,\n",
       " 0.09976091231232462,\n",
       " 0.09972549478102291,\n",
       " 0.09963724302696997,\n",
       " 0.09952192314657442,\n",
       " 0.09936764700836923,\n",
       " 0.09916251861147671,\n",
       " 0.09895164244004298,\n",
       " 0.0987339306627872,\n",
       " 0.09846948402179896,\n",
       " 0.09821523250994979,\n",
       " 0.09792970323068292,\n",
       " 0.09765239505357755,\n",
       " 0.09738036112959368,\n",
       " 0.0970791116621731,\n",
       " 0.09676265660918966,\n",
       " 0.09647034426217437,\n",
       " 0.096161790313415,\n",
       " 0.095870481103591]"
      ]
     },
     "execution_count": 92,
     "metadata": {},
     "output_type": "execute_result"
    }
   ],
   "source": [
    "M_list"
   ]
  },
  {
   "cell_type": "markdown",
   "metadata": {},
   "source": [
    "The radius along the sequence:"
   ]
  },
  {
   "cell_type": "code",
   "execution_count": 93,
   "metadata": {},
   "outputs": [
    {
     "data": {
      "text/html": [
       "<html><script type=\"math/tex; mode=display\">\\newcommand{\\Bold}[1]{\\mathbf{#1}}\\left[0.6247906235175875, 0.5996649956281401, 0.575376888668341, 0.5552763863567831, 0.5368509259045217, 0.5201005073115568, 0.5050251305778883, 0.4916247957035165, 0.4798995026884412, 0.4698492515326624, 0.4589614794472353, 0.4497487492211047, 0.4396984980653258, 0.4313232887688435, 0.4246231213316576, 0.4162479120351752, 0.4095477445979893, 0.4045226190200999, 0.3986599725125622, 0.3911222841457281, 0.3860971585678387, 0.3810720329899492, 0.3760469074120598, 0.3735343446231151, 0.3693467399748739, 0.3643216143969845, 0.3592964888190951, 0.3559464051005021, 0.3542713632412057, 0.3492462376633163, 0.3458961539447233, 0.3442211120854268, 0.3408710283668339, 0.3391959865075374, 0.3366834237185927, 0.3333333399999998, 0.330820777211055, 0.3291457353517586, 0.3257956516331656, 0.3241206097738691\\right]</script></html>"
      ],
      "text/plain": [
       "[0.6247906235175875,\n",
       " 0.5996649956281401,\n",
       " 0.575376888668341,\n",
       " 0.5552763863567831,\n",
       " 0.5368509259045217,\n",
       " 0.5201005073115568,\n",
       " 0.5050251305778883,\n",
       " 0.4916247957035165,\n",
       " 0.4798995026884412,\n",
       " 0.4698492515326624,\n",
       " 0.4589614794472353,\n",
       " 0.4497487492211047,\n",
       " 0.4396984980653258,\n",
       " 0.4313232887688435,\n",
       " 0.4246231213316576,\n",
       " 0.4162479120351752,\n",
       " 0.4095477445979893,\n",
       " 0.4045226190200999,\n",
       " 0.3986599725125622,\n",
       " 0.3911222841457281,\n",
       " 0.3860971585678387,\n",
       " 0.3810720329899492,\n",
       " 0.3760469074120598,\n",
       " 0.3735343446231151,\n",
       " 0.3693467399748739,\n",
       " 0.3643216143969845,\n",
       " 0.3592964888190951,\n",
       " 0.3559464051005021,\n",
       " 0.3542713632412057,\n",
       " 0.3492462376633163,\n",
       " 0.3458961539447233,\n",
       " 0.3442211120854268,\n",
       " 0.3408710283668339,\n",
       " 0.3391959865075374,\n",
       " 0.3366834237185927,\n",
       " 0.3333333399999998,\n",
       " 0.330820777211055,\n",
       " 0.3291457353517586,\n",
       " 0.3257956516331656,\n",
       " 0.3241206097738691]"
      ]
     },
     "execution_count": 93,
     "metadata": {},
     "output_type": "execute_result"
    }
   ],
   "source": [
    "R_list"
   ]
  },
  {
   "cell_type": "markdown",
   "metadata": {},
   "source": [
    "To draw $M$ as a function of $\\rho_{\\rm c}$, we use the Python function `zip` to construct a list of $(\\rho_{\\rm c}, M)$ values:"
   ]
  },
  {
   "cell_type": "code",
   "execution_count": 94,
   "metadata": {},
   "outputs": [
    {
     "data": {
      "text/html": [
       "<html><script type=\"math/tex; mode=display\">\\newcommand{\\Bold}[1]{\\mathbf{#1}}\\left[\\left(0.0100000000000000, 0.003079315360454514\\right), \\left(0.0866666666666667, 0.02348546985345206\\right), \\left(0.163333333333333, 0.03930692799158078\\right), \\left(0.240000000000000, 0.0516981286545538\\right), \\left(0.316666666666667, 0.06148304165147275\\right), \\left(0.393333333333333, 0.06927984377457193\\right), \\left(0.470000000000000, 0.07551555926927055\\right), \\left(0.546666666666667, 0.0805202557445157\\right), \\left(0.623333333333333, 0.08457113778228031\\right), \\left(0.700000000000000, 0.08783166910121751\\right), \\left(0.776666666666667, 0.09047779784378224\\right), \\left(0.853333333333333, 0.09260717100641455\\right), \\left(0.930000000000000, 0.09433415719194971\\right), \\left(1.00666666666667, 0.0957016482745759\\right), \\left(1.08333333333333, 0.09680530145501753\\right), \\left(1.16000000000000, 0.09766591038061952\\right), \\left(1.23666666666667, 0.09835121528373907\\right), \\left(1.31333333333333, 0.09885145273111141\\right), \\left(1.39000000000000, 0.09922756198663038\\right), \\left(1.46666666666667, 0.09948788735020943\\right), \\left(1.54333333333333, 0.09965397004970597\\right), \\left(1.62000000000000, 0.09974081642007522\\right), \\left(1.69666666666667, 0.09976091231232462\\right), \\left(1.77333333333333, 0.09972549478102291\\right), \\left(1.85000000000000, 0.09963724302696997\\right), \\left(1.92666666666667, 0.09952192314657442\\right), \\left(2.00333333333333, 0.09936764700836923\\right), \\left(2.08000000000000, 0.09916251861147671\\right), \\left(2.15666666666667, 0.09895164244004298\\right), \\left(2.23333333333333, 0.0987339306627872\\right), \\left(2.31000000000000, 0.09846948402179896\\right), \\left(2.38666666666667, 0.09821523250994979\\right), \\left(2.46333333333333, 0.09792970323068292\\right), \\left(2.54000000000000, 0.09765239505357755\\right), \\left(2.61666666666667, 0.09738036112959368\\right), \\left(2.69333333333333, 0.0970791116621731\\right), \\left(2.77000000000000, 0.09676265660918966\\right), \\left(2.84666666666667, 0.09647034426217437\\right), \\left(2.92333333333333, 0.096161790313415\\right), \\left(3.00000000000000, 0.095870481103591\\right)\\right]</script></html>"
      ],
      "text/plain": [
       "[(0.0100000000000000, 0.003079315360454514),\n",
       " (0.0866666666666667, 0.02348546985345206),\n",
       " (0.163333333333333, 0.03930692799158078),\n",
       " (0.240000000000000, 0.0516981286545538),\n",
       " (0.316666666666667, 0.06148304165147275),\n",
       " (0.393333333333333, 0.06927984377457193),\n",
       " (0.470000000000000, 0.07551555926927055),\n",
       " (0.546666666666667, 0.0805202557445157),\n",
       " (0.623333333333333, 0.08457113778228031),\n",
       " (0.700000000000000, 0.08783166910121751),\n",
       " (0.776666666666667, 0.09047779784378224),\n",
       " (0.853333333333333, 0.09260717100641455),\n",
       " (0.930000000000000, 0.09433415719194971),\n",
       " (1.00666666666667, 0.0957016482745759),\n",
       " (1.08333333333333, 0.09680530145501753),\n",
       " (1.16000000000000, 0.09766591038061952),\n",
       " (1.23666666666667, 0.09835121528373907),\n",
       " (1.31333333333333, 0.09885145273111141),\n",
       " (1.39000000000000, 0.09922756198663038),\n",
       " (1.46666666666667, 0.09948788735020943),\n",
       " (1.54333333333333, 0.09965397004970597),\n",
       " (1.62000000000000, 0.09974081642007522),\n",
       " (1.69666666666667, 0.09976091231232462),\n",
       " (1.77333333333333, 0.09972549478102291),\n",
       " (1.85000000000000, 0.09963724302696997),\n",
       " (1.92666666666667, 0.09952192314657442),\n",
       " (2.00333333333333, 0.09936764700836923),\n",
       " (2.08000000000000, 0.09916251861147671),\n",
       " (2.15666666666667, 0.09895164244004298),\n",
       " (2.23333333333333, 0.0987339306627872),\n",
       " (2.31000000000000, 0.09846948402179896),\n",
       " (2.38666666666667, 0.09821523250994979),\n",
       " (2.46333333333333, 0.09792970323068292),\n",
       " (2.54000000000000, 0.09765239505357755),\n",
       " (2.61666666666667, 0.09738036112959368),\n",
       " (2.69333333333333, 0.0970791116621731),\n",
       " (2.77000000000000, 0.09676265660918966),\n",
       " (2.84666666666667, 0.09647034426217437),\n",
       " (2.92333333333333, 0.096161790313415),\n",
       " (3.00000000000000, 0.095870481103591)]"
      ]
     },
     "execution_count": 94,
     "metadata": {},
     "output_type": "execute_result"
    }
   ],
   "source": [
    "zip(rho_c_list, M_list)"
   ]
  },
  {
   "cell_type": "code",
   "execution_count": 95,
   "metadata": {},
   "outputs": [
    {
     "data": {
      "image/png": "[encoded data removed]",
      "text/plain": [
       "Graphics object consisting of 1 graphics primitive"
      ]
     },
     "execution_count": 95,
     "metadata": {},
     "output_type": "execute_result"
    }
   ],
   "source": [
    "graph = line(zip(rho_c_list, M_list), axes_labels=[r'$\\rho_c$', r'$M$'], gridlines=True)\n",
    "graph"
   ]
  },
  {
   "cell_type": "markdown",
   "metadata": {},
   "source": [
    "Similarly, we draw $M$ as a function of $R$:"
   ]
  },
  {
   "cell_type": "code",
   "execution_count": 96,
   "metadata": {},
   "outputs": [
    {
     "data": {
      "image/png": "[encoded data removed]",
      "text/plain": [
       "Graphics object consisting of 1 graphics primitive"
      ]
     },
     "execution_count": 96,
     "metadata": {},
     "output_type": "execute_result"
    }
   ],
   "source": [
    "graph = line(zip(R_list, M_list), axes_labels=[r'$R$', r'$M$'], gridlines=True)\n",
    "graph"
   ]
  },
  {
   "cell_type": "markdown",
   "metadata": {},
   "source": [
    "and we save the plot in a pdf file to use it in our next publication ;-)"
   ]
  },
  {
   "cell_type": "code",
   "execution_count": 97,
   "metadata": {},
   "outputs": [],
   "source": [
    "graph.save('plot_M_R.pdf')"
   ]
  }
 ],
 "metadata": {
  "kernelspec": {
   "display_name": "SageMath 8.4",
   "language": "",
   "name": "sagemath"
  },
  "language_info": {
   "codemirror_mode": {
    "name": "ipython",
    "version": 2
   },
   "file_extension": ".py",
   "mimetype": "text/x-python",
   "name": "python",
   "nbconvert_exporter": "python",
   "pygments_lexer": "ipython2",
   "version": "2.7.15"
  }
 },
 "nbformat": 4,
 "nbformat_minor": 1
}
